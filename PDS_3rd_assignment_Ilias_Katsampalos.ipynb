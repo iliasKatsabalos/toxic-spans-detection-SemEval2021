{
 "cells": [
  {
   "cell_type": "markdown",
   "metadata": {
    "id": "bOXY2hjwm7Y-"
   },
   "source": [
    "# Practical Data Science - Assignment 3\n",
    "\n",
    "---\n",
    "# Toxic Span Detection\n",
    "\n",
    "## Student Name: Katsmpalos Ilias\n",
    "\n",
    "The current notebook has been put together on google colab, due to the absence of local computanional power. Please open it on colab and enable the GPU if you want to run it in order to have a smoother eperience. In case you need to access the original notebook on colab and create a copy from there, please visit [this link](https://colab.research.google.com/drive/1z0N4bmB7aEHejjkjnwf-R2c4UtxuEXSu?usp=sharing)"
   ]
  },
  {
   "cell_type": "code",
   "execution_count": null,
   "metadata": {
    "id": "oQ7Hm5yBwZGz"
   },
   "outputs": [],
   "source": [
    "from ast import literal_eval\n",
    "import pandas as pd\n",
    "import numpy as np\n",
    "import csv"
   ]
  },
  {
   "cell_type": "markdown",
   "metadata": {
    "id": "0gm2nPV9naqV"
   },
   "source": [
    "# 1. Get the data\n",
    "\n",
    "## Clone Repo\n",
    "\n",
    "We will clone a fork of the original github repo  https://github.com/ipavlopoulos/toxic_spans.git by contributors [ipavlopoulos](https://github.com/ipavlopoulos), [sorensenjs](https://github.com/sorensenjs), [LeoLaugier](https://github.com/LeoLaugier)\n",
    "\n",
    "This repo contains the relevant datasets for the toxic span detection. Additionally, I have created a [branch](https://github.com/iliasKatsabalos/toxic_spans/commit/c0e0ae74d54f47ed2d256d4d974b40ce05cb7826) commiting a small adjustment in the `models.py` file, enabling the functionality for using pretrained embeddings. "
   ]
  },
  {
   "cell_type": "code",
   "execution_count": 1,
   "metadata": {
    "colab": {
     "base_uri": "https://localhost:8080/"
    },
    "id": "RhTgYV6DnZXv",
    "outputId": "3c6995a6-dad0-4e18-8338-b15a057273af"
   },
   "outputs": [
    {
     "name": "stdout",
     "output_type": "stream",
     "text": [
      "Cloning into 'toxic_spans'...\n",
      "remote: Enumerating objects: 36, done.\u001b[K\n",
      "remote: Counting objects: 100% (36/36), done.\u001b[K\n",
      "remote: Compressing objects: 100% (26/26), done.\u001b[K\n",
      "remote: Total 304 (delta 17), reused 28 (delta 10), pack-reused 268\u001b[K\n",
      "Receiving objects: 100% (304/304), 1.15 MiB | 17.03 MiB/s, done.\n",
      "Resolving deltas: 100% (147/147), done.\n",
      "Branch 'pretrained_embeddings' set up to track remote branch 'pretrained_embeddings' from 'origin'.\n",
      "Switched to a new branch 'pretrained_embeddings'\n"
     ]
    }
   ],
   "source": [
    "!git clone https://github.com/iliasKatsabalos/toxic_spans.git\n",
    "!cd toxic_spans && git checkout pretrained_embeddings"
   ]
  },
  {
   "cell_type": "code",
   "execution_count": null,
   "metadata": {
    "colab": {
     "base_uri": "https://localhost:8080/",
     "height": 204
    },
    "id": "fYv13TGxn5o9",
    "outputId": "109380ac-1037-4c9a-adcc-af731c04439a"
   },
   "outputs": [
    {
     "data": {
      "text/html": [
       "<div>\n",
       "<style scoped>\n",
       "    .dataframe tbody tr th:only-of-type {\n",
       "        vertical-align: middle;\n",
       "    }\n",
       "\n",
       "    .dataframe tbody tr th {\n",
       "        vertical-align: top;\n",
       "    }\n",
       "\n",
       "    .dataframe thead th {\n",
       "        text-align: right;\n",
       "    }\n",
       "</style>\n",
       "<table border=\"1\" class=\"dataframe\">\n",
       "  <thead>\n",
       "    <tr style=\"text-align: right;\">\n",
       "      <th></th>\n",
       "      <th>spans</th>\n",
       "      <th>text</th>\n",
       "    </tr>\n",
       "  </thead>\n",
       "  <tbody>\n",
       "    <tr>\n",
       "      <th>398</th>\n",
       "      <td>[22, 23, 24, 25, 26, 27, 28, 29, 355, 356, 357...</td>\n",
       "      <td>Yes I got the similar warnings before. I usual...</td>\n",
       "    </tr>\n",
       "    <tr>\n",
       "      <th>3028</th>\n",
       "      <td>[13, 14, 15, 16, 17, 18, 19, 20, 21, 22, 23, 2...</td>\n",
       "      <td>How did this piece of crap get on TV?</td>\n",
       "    </tr>\n",
       "    <tr>\n",
       "      <th>277</th>\n",
       "      <td>[0, 1, 2, 3, 4, 5, 6, 7, 8, 9, 10, 11, 12, 13,...</td>\n",
       "      <td>Except Trump has no real idea about whats at s...</td>\n",
       "    </tr>\n",
       "    <tr>\n",
       "      <th>7544</th>\n",
       "      <td>[45, 46, 47, 48, 49, 50, 51]</td>\n",
       "      <td>And I always thought that Eric Trump was the d...</td>\n",
       "    </tr>\n",
       "    <tr>\n",
       "      <th>1856</th>\n",
       "      <td>[256, 257, 258, 259, 260, 261, 262, 434, 435, ...</td>\n",
       "      <td>Morneau is correct he doesn't \"report\" to jour...</td>\n",
       "    </tr>\n",
       "  </tbody>\n",
       "</table>\n",
       "</div>"
      ],
      "text/plain": [
       "                                                  spans                                               text\n",
       "398   [22, 23, 24, 25, 26, 27, 28, 29, 355, 356, 357...  Yes I got the similar warnings before. I usual...\n",
       "3028  [13, 14, 15, 16, 17, 18, 19, 20, 21, 22, 23, 2...              How did this piece of crap get on TV?\n",
       "277   [0, 1, 2, 3, 4, 5, 6, 7, 8, 9, 10, 11, 12, 13,...  Except Trump has no real idea about whats at s...\n",
       "7544                       [45, 46, 47, 48, 49, 50, 51]  And I always thought that Eric Trump was the d...\n",
       "1856  [256, 257, 258, 259, 260, 261, 262, 434, 435, ...  Morneau is correct he doesn't \"report\" to jour..."
      ]
     },
     "execution_count": 4,
     "metadata": {
      "tags": []
     },
     "output_type": "execute_result"
    }
   ],
   "source": [
    "train = pd.read_csv(\"toxic_spans/data/tsd_train.csv\")\n",
    "trial = pd.read_csv(\"toxic_spans/data/tsd_trial.csv\")\n",
    "train.spans = train.spans.apply(literal_eval)\n",
    "trial.spans = trial.spans.apply(literal_eval)\n",
    "train.sample(5)"
   ]
  },
  {
   "cell_type": "markdown",
   "metadata": {
    "id": "Lwwhyg6nfxOL"
   },
   "source": [
    "#2. Tokenization\n",
    "\n",
    "An important part of our application is the tokenization process. For this reason, we should be very strict on how we handle tokenizers, as different tokenizers might produce different sets of tokens. Sometimes, even different methods of the same tokenizer might produce different number of tokens. For these reasons, we will work with the `TreebankWordTokenizer` and use the method `span_tokenize` in order to retrieve the spans of the tokens, as well as the tokens themselves in order to be consistent with the parsing."
   ]
  },
  {
   "cell_type": "code",
   "execution_count": null,
   "metadata": {
    "id": "HRTV3xVxkX-0"
   },
   "outputs": [],
   "source": [
    "from nltk.tokenize import TreebankWordTokenizer as wst\n",
    "\n",
    "def get_all_spans(text):\n",
    "    '''\n",
    "    retrieve the spans of tokens for every token in a text\n",
    "\n",
    "    Parameters:\n",
    "        text (str): the text that we want to parse\n",
    "    Returns\n",
    "        tokenizer.span_tokenize (list): returns a list of tuples with the token spans\n",
    "    '''\n",
    "    #bug with span tokenize https://github.com/nltk/nltk/issues/1750\n",
    "    text = text.replace('\"','?')\n",
    "    tokenizer = wst()\n",
    "    return tokenizer.span_tokenize(text)\n",
    "\n",
    "def get_tokens(spans,text):\n",
    "    '''\n",
    "    Having retrieved the token spans of a text, retrieve the actual tokens\n",
    "    \n",
    "    Parameters:\n",
    "        spans (list): list of tuples, first elemnt of the tuple being the beginning \n",
    "                        of s span, the second element the end of the span\n",
    "        Returns:\n",
    "        tokens (list): list of tokens\n",
    "    '''\n",
    "    tokens = []\n",
    "    for span in spans:\n",
    "        tokens.append(text[span[0]:span[1]])\n",
    "    return tokens\n",
    "\n",
    "#we will retrieve the spans of our data as well as the tokens\n",
    "train['all_spans'] = train.text.apply(get_all_spans)\n",
    "train['tokenized_text'] = train.apply(lambda x: get_tokens(x.all_spans, x.text), axis=1)\n",
    "trial['all_spans'] = trial.text.apply(get_all_spans)\n",
    "trial['tokenized_text'] = trial.apply(lambda x: get_tokens(x.all_spans, x.text), axis=1)"
   ]
  },
  {
   "cell_type": "markdown",
   "metadata": {
    "id": "_g-Z5UVxoDUl"
   },
   "source": [
    "# 3. Exploratory Data analysis"
   ]
  },
  {
   "cell_type": "markdown",
   "metadata": {
    "id": "p4KoCRpvoTFM"
   },
   "source": [
    "Let's have a look at how many rows do we have in our train and trial sets"
   ]
  },
  {
   "cell_type": "code",
   "execution_count": null,
   "metadata": {
    "colab": {
     "base_uri": "https://localhost:8080/"
    },
    "id": "6RKMfJwooCMe",
    "outputId": "29562228-5475-42bf-b39a-c30955a2e5c3"
   },
   "outputs": [
    {
     "name": "stdout",
     "output_type": "stream",
     "text": [
      "Number of rows in train: 7939, Number of rows in trial: 690\n"
     ]
    }
   ],
   "source": [
    "print('Number of rows in train: {}, Number of rows in trial: {}'.format(len(train), len(trial)))"
   ]
  },
  {
   "cell_type": "markdown",
   "metadata": {
    "id": "aH1oZ8bootlW"
   },
   "source": [
    "We then check for rows with empty spans."
   ]
  },
  {
   "cell_type": "code",
   "execution_count": null,
   "metadata": {
    "colab": {
     "base_uri": "https://localhost:8080/",
     "height": 419
    },
    "id": "tLn3Cnjwosjv",
    "outputId": "3802a296-5905-4e01-8caf-38e7eabc2a17"
   },
   "outputs": [
    {
     "data": {
      "text/html": [
       "<div>\n",
       "<style scoped>\n",
       "    .dataframe tbody tr th:only-of-type {\n",
       "        vertical-align: middle;\n",
       "    }\n",
       "\n",
       "    .dataframe tbody tr th {\n",
       "        vertical-align: top;\n",
       "    }\n",
       "\n",
       "    .dataframe thead th {\n",
       "        text-align: right;\n",
       "    }\n",
       "</style>\n",
       "<table border=\"1\" class=\"dataframe\">\n",
       "  <thead>\n",
       "    <tr style=\"text-align: right;\">\n",
       "      <th></th>\n",
       "      <th>spans</th>\n",
       "      <th>text</th>\n",
       "      <th>all_spans</th>\n",
       "      <th>tokenized_text</th>\n",
       "    </tr>\n",
       "  </thead>\n",
       "  <tbody>\n",
       "    <tr>\n",
       "      <th>5</th>\n",
       "      <td>[]</td>\n",
       "      <td>But, but, but, is NOT a defense.  It's not eve...</td>\n",
       "      <td>[(0, 3), (3, 4), (5, 8), (8, 9), (10, 13), (13...</td>\n",
       "      <td>[But, ,, but, ,, but, ,, is, NOT, a, defense.,...</td>\n",
       "    </tr>\n",
       "    <tr>\n",
       "      <th>21</th>\n",
       "      <td>[]</td>\n",
       "      <td>Jim\\n\\nI think Donald is a con man and a dange...</td>\n",
       "      <td>[(0, 3), (5, 6), (7, 12), (13, 19), (20, 22), ...</td>\n",
       "      <td>[Jim, I, think, Donald, is, a, con, man, and, ...</td>\n",
       "    </tr>\n",
       "    <tr>\n",
       "      <th>24</th>\n",
       "      <td>[]</td>\n",
       "      <td>Exposing hypocrites like Trump and Pence is th...</td>\n",
       "      <td>[(0, 8), (9, 19), (20, 24), (25, 30), (31, 34)...</td>\n",
       "      <td>[Exposing, hypocrites, like, Trump, and, Pence...</td>\n",
       "    </tr>\n",
       "    <tr>\n",
       "      <th>27</th>\n",
       "      <td>[]</td>\n",
       "      <td>The malignant narcissist, mentally deranged so...</td>\n",
       "      <td>[(0, 3), (4, 13), (14, 24), (24, 25), (26, 34)...</td>\n",
       "      <td>[The, malignant, narcissist, ,, mentally, dera...</td>\n",
       "    </tr>\n",
       "    <tr>\n",
       "      <th>60</th>\n",
       "      <td>[]</td>\n",
       "      <td>the is NO CONSENSUS you ignorant loser, NONE, ...</td>\n",
       "      <td>[(0, 3), (4, 6), (7, 9), (10, 19), (20, 23), (...</td>\n",
       "      <td>[the, is, NO, CONSENSUS, you, ignorant, loser,...</td>\n",
       "    </tr>\n",
       "    <tr>\n",
       "      <th>...</th>\n",
       "      <td>...</td>\n",
       "      <td>...</td>\n",
       "      <td>...</td>\n",
       "      <td>...</td>\n",
       "    </tr>\n",
       "    <tr>\n",
       "      <th>7828</th>\n",
       "      <td>[]</td>\n",
       "      <td>He is a scary maniac with a psychopath attitude.</td>\n",
       "      <td>[(0, 2), (3, 5), (6, 7), (8, 13), (14, 20), (2...</td>\n",
       "      <td>[He, is, a, scary, maniac, with, a, psychopath...</td>\n",
       "    </tr>\n",
       "    <tr>\n",
       "      <th>7837</th>\n",
       "      <td>[]</td>\n",
       "      <td>Sniffle, sniffle  Ted Cruz proved tonight he's...</td>\n",
       "      <td>[(0, 7), (7, 8), (9, 16), (18, 21), (22, 26), ...</td>\n",
       "      <td>[Sniffle, ,, sniffle, Ted, Cruz, proved, tonig...</td>\n",
       "    </tr>\n",
       "    <tr>\n",
       "      <th>7885</th>\n",
       "      <td>[]</td>\n",
       "      <td>This is why everyone know Indians are liars. B...</td>\n",
       "      <td>[(0, 4), (5, 7), (8, 11), (12, 20), (21, 25), ...</td>\n",
       "      <td>[This, is, why, everyone, know, Indians, are, ...</td>\n",
       "    </tr>\n",
       "    <tr>\n",
       "      <th>7887</th>\n",
       "      <td>[]</td>\n",
       "      <td>People are just plain stupid.  The bears need ...</td>\n",
       "      <td>[(0, 6), (7, 10), (11, 15), (16, 21), (22, 29)...</td>\n",
       "      <td>[People, are, just, plain, stupid., The, bears...</td>\n",
       "    </tr>\n",
       "    <tr>\n",
       "      <th>7906</th>\n",
       "      <td>[]</td>\n",
       "      <td>,...Crash Course channel, which has an Economi...</td>\n",
       "      <td>[(0, 1), (1, 4), (4, 9), (10, 16), (17, 24), (...</td>\n",
       "      <td>[,, ..., Crash, Course, channel, ,, which, has...</td>\n",
       "    </tr>\n",
       "  </tbody>\n",
       "</table>\n",
       "<p>485 rows × 4 columns</p>\n",
       "</div>"
      ],
      "text/plain": [
       "     spans  ...                                     tokenized_text\n",
       "5       []  ...  [But, ,, but, ,, but, ,, is, NOT, a, defense.,...\n",
       "21      []  ...  [Jim, I, think, Donald, is, a, con, man, and, ...\n",
       "24      []  ...  [Exposing, hypocrites, like, Trump, and, Pence...\n",
       "27      []  ...  [The, malignant, narcissist, ,, mentally, dera...\n",
       "60      []  ...  [the, is, NO, CONSENSUS, you, ignorant, loser,...\n",
       "...    ...  ...                                                ...\n",
       "7828    []  ...  [He, is, a, scary, maniac, with, a, psychopath...\n",
       "7837    []  ...  [Sniffle, ,, sniffle, Ted, Cruz, proved, tonig...\n",
       "7885    []  ...  [This, is, why, everyone, know, Indians, are, ...\n",
       "7887    []  ...  [People, are, just, plain, stupid., The, bears...\n",
       "7906    []  ...  [,, ..., Crash, Course, channel, ,, which, has...\n",
       "\n",
       "[485 rows x 4 columns]"
      ]
     },
     "execution_count": 7,
     "metadata": {
      "tags": []
     },
     "output_type": "execute_result"
    }
   ],
   "source": [
    "train[train.spans.str.len() == 0]"
   ]
  },
  {
   "cell_type": "markdown",
   "metadata": {
    "id": "cOhYzUUupan3"
   },
   "source": [
    "We can already observe some incosistencies with the tagging. Even though the docs contain toxic words, the spans attribute contains an empty list.\n",
    "\n",
    "To continue further with our exploratory data analysis, we will need to to preprocess the data. We will define a function that takes as input the continuous spans and returns span entities."
   ]
  },
  {
   "cell_type": "code",
   "execution_count": null,
   "metadata": {
    "id": "HOoJq4uTpU2e"
   },
   "outputs": [],
   "source": [
    "def span_to_ents(spans):\n",
    "    '''\n",
    "    Transforms continuous spans to span entities:\n",
    "    for example [1,2,3,5,6,7] -> [(1,3),(5,7)]\n",
    "\n",
    "    Parameters:\n",
    "        spans (list): list of spans where toxic words appear\n",
    "    Returns:\n",
    "        entities (list): list of tuples, the first element being\n",
    "                        the beginning of a toxic span and the \n",
    "                        second element the end of a toxic span\n",
    "    '''\n",
    "    if len(spans) == 0:\n",
    "        return [] \n",
    "    entities = []\n",
    "    #take the difference of the list with respect to itself.\n",
    "    #1s will be created for a continuous span and numbers !=1 \n",
    "    #where another span entity begins\n",
    "    diff_spans = np.diff(spans)\n",
    "    #insert a 0 at the first element (recall that np.diff returns a list with n-1 elements)\n",
    "    #insert a 0 at the last element, as it will simplify the distinction in case the span \n",
    "    #continues until the end of the sentence\n",
    "    diff_spans = np.insert(diff_spans, 0, 0)\n",
    "    diff_spans = np.insert(diff_spans, len(diff_spans), 0) \n",
    "    #retrieve the elements where the toxic span starts\n",
    "    span_starts = np.where(diff_spans != 1)[0]\n",
    "    #for every span start, loop until you reach a non 1 value\n",
    "    for start in span_starts:\n",
    "        check_after = diff_spans[start + 1:]\n",
    "        for finish_index, finish in enumerate(check_after):\n",
    "            if finish != 1:\n",
    "                entities.append((spans[start], spans[start + finish_index] + 1))\n",
    "                break\n",
    "    return entities"
   ]
  },
  {
   "cell_type": "code",
   "execution_count": null,
   "metadata": {
    "id": "jfqLaDyHrFNF"
   },
   "outputs": [],
   "source": [
    "train['entities'] = train.spans.apply(span_to_ents)\n",
    "train['text'] = train.text.str.lower()\n",
    "\n",
    "trial['entities'] = trial.spans.apply(span_to_ents)\n",
    "trial['text'] = trial.text.str.lower()"
   ]
  },
  {
   "cell_type": "markdown",
   "metadata": {
    "id": "92wwiyjRTuBL"
   },
   "source": [
    "The next function will extract the toxic words given the entities of the toxic spans"
   ]
  },
  {
   "cell_type": "code",
   "execution_count": null,
   "metadata": {
    "colab": {
     "base_uri": "https://localhost:8080/",
     "height": 512
    },
    "id": "0ck3xsSK3P1j",
    "outputId": "ff87ca8c-cb5a-41bb-af85-72c1a72c6ec7"
   },
   "outputs": [
    {
     "data": {
      "text/html": [
       "<div>\n",
       "<style scoped>\n",
       "    .dataframe tbody tr th:only-of-type {\n",
       "        vertical-align: middle;\n",
       "    }\n",
       "\n",
       "    .dataframe tbody tr th {\n",
       "        vertical-align: top;\n",
       "    }\n",
       "\n",
       "    .dataframe thead th {\n",
       "        text-align: right;\n",
       "    }\n",
       "</style>\n",
       "<table border=\"1\" class=\"dataframe\">\n",
       "  <thead>\n",
       "    <tr style=\"text-align: right;\">\n",
       "      <th></th>\n",
       "      <th>spans</th>\n",
       "      <th>text</th>\n",
       "      <th>all_spans</th>\n",
       "      <th>tokenized_text</th>\n",
       "      <th>entities</th>\n",
       "      <th>toxic_words</th>\n",
       "    </tr>\n",
       "  </thead>\n",
       "  <tbody>\n",
       "    <tr>\n",
       "      <th>1214</th>\n",
       "      <td>[0, 1, 2, 3, 4, 5, 6, 7, 8, 43, 44, 45, 46, 47...</td>\n",
       "      <td>idiot boy doesn't seem to get the math.....we ...</td>\n",
       "      <td>[(0, 5), (6, 9), (10, 14), (14, 17), (18, 22),...</td>\n",
       "      <td>[idiot, boy, does, n't, seem, to, get, the, ma...</td>\n",
       "      <td>[(0, 9), (43, 80)]</td>\n",
       "      <td>[idiot boy, we could bring our economy to noth...</td>\n",
       "    </tr>\n",
       "    <tr>\n",
       "      <th>3464</th>\n",
       "      <td>[10, 11, 12, 13, 14, 15]</td>\n",
       "      <td>trump's a psycho. he loves the fact of people ...</td>\n",
       "      <td>[(0, 5), (5, 7), (8, 9), (10, 17), (18, 20), (...</td>\n",
       "      <td>[Trump, 's, a, psycho., He, loves, the, fact, ...</td>\n",
       "      <td>[(10, 16)]</td>\n",
       "      <td>[psycho]</td>\n",
       "    </tr>\n",
       "    <tr>\n",
       "      <th>4443</th>\n",
       "      <td>[13, 14, 15, 16]</td>\n",
       "      <td>trudeau is a fool.</td>\n",
       "      <td>[(0, 7), (8, 10), (11, 12), (13, 17), (17, 18)]</td>\n",
       "      <td>[Trudeau, is, a, fool, .]</td>\n",
       "      <td>[(13, 17)]</td>\n",
       "      <td>[fool]</td>\n",
       "    </tr>\n",
       "    <tr>\n",
       "      <th>5659</th>\n",
       "      <td>[0, 1, 2, 3, 4, 5, 6, 7, 8, 9, 10, 11, 12, 13,...</td>\n",
       "      <td>omar khadr should simply have been summarily e...</td>\n",
       "      <td>[(0, 4), (5, 10), (11, 17), (18, 24), (25, 29)...</td>\n",
       "      <td>[Omar, Khadr, should, simply, have, been, summ...</td>\n",
       "      <td>[(0, 53)]</td>\n",
       "      <td>[omar khadr should simply have been summarily ...</td>\n",
       "    </tr>\n",
       "    <tr>\n",
       "      <th>512</th>\n",
       "      <td>[366, 367, 368, 369, 370, 371]</td>\n",
       "      <td>no border, rewarding a terrorist with 10 milli...</td>\n",
       "      <td>[(0, 2), (3, 9), (9, 10), (11, 20), (21, 22), ...</td>\n",
       "      <td>[No, border, ,, rewarding, a, terrorist, with,...</td>\n",
       "      <td>[(366, 372)]</td>\n",
       "      <td>[stupid]</td>\n",
       "    </tr>\n",
       "    <tr>\n",
       "      <th>5924</th>\n",
       "      <td>[52, 53, 54, 55, 56, 57, 58, 59]</td>\n",
       "      <td>texas gets the award for \"most likely to be ho...</td>\n",
       "      <td>[(0, 5), (6, 10), (11, 14), (15, 20), (21, 24)...</td>\n",
       "      <td>[Texas, gets, the, award, for, \", Most, Likely...</td>\n",
       "      <td>[(52, 60)]</td>\n",
       "      <td>[dumb a$$]</td>\n",
       "    </tr>\n",
       "    <tr>\n",
       "      <th>5249</th>\n",
       "      <td>[248, 249, 250, 251, 252, 253, 254]</td>\n",
       "      <td>literally, every leader of every single indust...</td>\n",
       "      <td>[(0, 9), (9, 10), (11, 16), (17, 23), (24, 26)...</td>\n",
       "      <td>[Literally, ,, every, leader, of, every, singl...</td>\n",
       "      <td>[(248, 255)]</td>\n",
       "      <td>[buffoon]</td>\n",
       "    </tr>\n",
       "    <tr>\n",
       "      <th>1764</th>\n",
       "      <td>[0, 1, 2, 3, 4, 5]</td>\n",
       "      <td>stupid, stupid, stupid. people die because oth...</td>\n",
       "      <td>[(0, 6), (6, 7), (8, 14), (14, 15), (16, 23), ...</td>\n",
       "      <td>[Stupid, ,, stupid, ,, stupid., People, DIE, b...</td>\n",
       "      <td>[(0, 6)]</td>\n",
       "      <td>[stupid]</td>\n",
       "    </tr>\n",
       "    <tr>\n",
       "      <th>824</th>\n",
       "      <td>[0, 1, 2, 3, 4, 5, 6]</td>\n",
       "      <td>f***ing moron apparently.</td>\n",
       "      <td>[(0, 7), (8, 13), (14, 24), (24, 25)]</td>\n",
       "      <td>[F***ing, moron, apparently, .]</td>\n",
       "      <td>[(0, 7)]</td>\n",
       "      <td>[f***ing]</td>\n",
       "    </tr>\n",
       "    <tr>\n",
       "      <th>3860</th>\n",
       "      <td>[26, 27, 28, 29, 30, 31, 32, 153, 154, 155, 15...</td>\n",
       "      <td>yup.  cracks me up.  same garbage from both bi...</td>\n",
       "      <td>[(0, 4), (6, 12), (13, 15), (16, 19), (21, 25)...</td>\n",
       "      <td>[Yup., Cracks, me, up., Same, garbage, from, b...</td>\n",
       "      <td>[(26, 33), (153, 158)]</td>\n",
       "      <td>[garbage, fools]</td>\n",
       "    </tr>\n",
       "  </tbody>\n",
       "</table>\n",
       "</div>"
      ],
      "text/plain": [
       "                                                  spans  ...                                        toxic_words\n",
       "1214  [0, 1, 2, 3, 4, 5, 6, 7, 8, 43, 44, 45, 46, 47...  ...  [idiot boy, we could bring our economy to noth...\n",
       "3464                           [10, 11, 12, 13, 14, 15]  ...                                           [psycho]\n",
       "4443                                   [13, 14, 15, 16]  ...                                             [fool]\n",
       "5659  [0, 1, 2, 3, 4, 5, 6, 7, 8, 9, 10, 11, 12, 13,...  ...  [omar khadr should simply have been summarily ...\n",
       "512                      [366, 367, 368, 369, 370, 371]  ...                                           [stupid]\n",
       "5924                   [52, 53, 54, 55, 56, 57, 58, 59]  ...                                         [dumb a$$]\n",
       "5249                [248, 249, 250, 251, 252, 253, 254]  ...                                          [buffoon]\n",
       "1764                                 [0, 1, 2, 3, 4, 5]  ...                                           [stupid]\n",
       "824                               [0, 1, 2, 3, 4, 5, 6]  ...                                          [f***ing]\n",
       "3860  [26, 27, 28, 29, 30, 31, 32, 153, 154, 155, 15...  ...                                   [garbage, fools]\n",
       "\n",
       "[10 rows x 6 columns]"
      ]
     },
     "execution_count": 13,
     "metadata": {
      "tags": []
     },
     "output_type": "execute_result"
    }
   ],
   "source": [
    "def toxic_words(spans, text):\n",
    "    '''given the Beginng and the end of a span, extract the toxic words\n",
    "    Parameters:\n",
    "        spans (list): list of tuples. Each tuple contains the beginning and the end\n",
    "                    of a toxic span\n",
    "        text (str): raw text\n",
    "    Output:\n",
    "        words (list): list of toxic words\n",
    "    '''\n",
    "    words = []\n",
    "    if len(spans) == 0:\n",
    "        return []\n",
    "    for span in spans:\n",
    "        word = text[span[0]:span[1]]\n",
    "        words.append(word)\n",
    "    return words\n",
    "\n",
    "train['toxic_words'] = train.apply(lambda x: toxic_words(x.entities, x.text), axis=1)\n",
    "trial['toxic_words'] = trial.apply(lambda x: toxic_words(x.entities, x.text), axis=1)\n",
    "train.sample(10)"
   ]
  },
  {
   "cell_type": "markdown",
   "metadata": {
    "id": "ykgpoGlBusWr"
   },
   "source": [
    "The first thing that we can check is the distribution of the length of tokenized texts. We observe that most of our sentences have up to 40 words approximately. The max length is at 250 approximately, somethinmg that will give us an idea of how much or max len should be when using an RNN"
   ]
  },
  {
   "cell_type": "code",
   "execution_count": null,
   "metadata": {
    "colab": {
     "base_uri": "https://localhost:8080/",
     "height": 391
    },
    "id": "B3ucN6okuob1",
    "outputId": "0cabb721-e7fa-42fd-8780-b049ac7f34c8"
   },
   "outputs": [
    {
     "data": {
      "image/png": "[encoded data removed]",
      "text/plain": [
       "<Figure size 360x360 with 1 Axes>"
      ]
     },
     "metadata": {
      "tags": []
     },
     "output_type": "display_data"
    },
    {
     "name": "stdout",
     "output_type": "stream",
     "text": [
      "mean length: 40.47551566682412, median length 27.0\n"
     ]
    }
   ],
   "source": [
    "import seaborn as sns\n",
    "import matplotlib.pyplot as plt \n",
    "\n",
    "train['tokens_len'] = train.tokenized_text.apply(lambda x: len(x))\n",
    "trial['tokens_len'] = trial.tokenized_text.apply(lambda x: len(x))\n",
    "\n",
    "sns.set(palette='deep', color_codes=True, font_scale=1.3)\n",
    "sns.displot(train.tokens_len)\n",
    "plt.xlabel('Tokenized Text Length')\n",
    "plt.title('Distribution of text length')\n",
    "plt.show()\n",
    "\n",
    "mean_length = np.mean(train.tokens_len)\n",
    "median_length = np.median(train.tokens_len)\n",
    "print('mean length: {}, median length {}'.format(mean_length, median_length))"
   ]
  },
  {
   "cell_type": "markdown",
   "metadata": {
    "id": "BC4dkr7_wx2s"
   },
   "source": [
    "Another important thing to check is the similarities of the distribution between the train and the trial sets. After plotting them below, we do not observe any differences that would make us rethink the strategy of splitting."
   ]
  },
  {
   "cell_type": "code",
   "execution_count": null,
   "metadata": {
    "colab": {
     "base_uri": "https://localhost:8080/",
     "height": 396
    },
    "id": "7F8Nt_nms_Ib",
    "outputId": "ed3e1292-9c14-439a-ccb6-98a29120a5b1"
   },
   "outputs": [
    {
     "name": "stderr",
     "output_type": "stream",
     "text": [
      "/usr/local/lib/python3.6/dist-packages/seaborn/distributions.py:2557: FutureWarning: `distplot` is a deprecated function and will be removed in a future version. Please adapt your code to use either `displot` (a figure-level function with similar flexibility) or `kdeplot` (an axes-level function for kernel density plots).\n",
      "  warnings.warn(msg, FutureWarning)\n",
      "/usr/local/lib/python3.6/dist-packages/seaborn/distributions.py:2557: FutureWarning: `distplot` is a deprecated function and will be removed in a future version. Please adapt your code to use either `displot` (a figure-level function with similar flexibility) or `kdeplot` (an axes-level function for kernel density plots).\n",
      "  warnings.warn(msg, FutureWarning)\n"
     ]
    },
    {
     "data": {
      "image/png": "[encoded data removed]",
      "text/plain": [
       "<Figure size 432x288 with 1 Axes>"
      ]
     },
     "metadata": {
      "tags": []
     },
     "output_type": "display_data"
    }
   ],
   "source": [
    "sns.distplot(train.tokens_len, hist=False, label='Train set')\n",
    "sns.distplot(trial.tokens_len, hist=False, label='Test set')\n",
    "plt.xlabel('Tokenized Text Length')\n",
    "plt.title('Distribution of tokenized text length')\n",
    "plt.legend()\n",
    "plt.show()"
   ]
  },
  {
   "cell_type": "markdown",
   "metadata": {
    "id": "BGgmkFv8z6A5"
   },
   "source": [
    "We will then plot the length of the toxic spans as a % of the text length, in order to get an idea of how lengthy the spans are. We observe that the toxic spans usually occupy <10% of the length of the text on both sets, trial and test "
   ]
  },
  {
   "cell_type": "code",
   "execution_count": null,
   "metadata": {
    "colab": {
     "base_uri": "https://localhost:8080/",
     "height": 396
    },
    "id": "R3-y9-6dz4rf",
    "outputId": "27322c69-f55a-4f38-88b7-f69cea6b32f3"
   },
   "outputs": [
    {
     "name": "stderr",
     "output_type": "stream",
     "text": [
      "/usr/local/lib/python3.6/dist-packages/seaborn/distributions.py:2557: FutureWarning: `distplot` is a deprecated function and will be removed in a future version. Please adapt your code to use either `displot` (a figure-level function with similar flexibility) or `kdeplot` (an axes-level function for kernel density plots).\n",
      "  warnings.warn(msg, FutureWarning)\n",
      "/usr/local/lib/python3.6/dist-packages/seaborn/distributions.py:2557: FutureWarning: `distplot` is a deprecated function and will be removed in a future version. Please adapt your code to use either `displot` (a figure-level function with similar flexibility) or `kdeplot` (an axes-level function for kernel density plots).\n",
      "  warnings.warn(msg, FutureWarning)\n"
     ]
    },
    {
     "data": {
      "image/png": "[encoded data removed]",
      "text/plain": [
       "<Figure size 1440x288 with 1 Axes>"
      ]
     },
     "metadata": {
      "tags": []
     },
     "output_type": "display_data"
    }
   ],
   "source": [
    "fig, axs = plt.subplots(figsize=(20,4))\n",
    "relative_length_spans_train = train.spans.str.len() / train.text.str.len()\n",
    "relative_length_spans_trial = trial.spans.str.len() / trial.text.str.len()\n",
    "sns.distplot(relative_length_spans_train, hist=False, label='Train set')\n",
    "sns.distplot(relative_length_spans_trial, hist=False, label='Test set')\n",
    "plt.xlabel('Toxic Span as % of text length')\n",
    "plt.title('Distribution of toxic Span as % of text length')\n",
    "plt.legend()\n",
    "plt.show()"
   ]
  },
  {
   "cell_type": "markdown",
   "metadata": {
    "id": "Bq3USnyN4Efr"
   },
   "source": [
    "Another question that would be interesting to answer is where toxic spans usually appear in a sentence. How are they spread inside of a sentence? In effect, we are interested in the position of the toxic spans. In order to extract such info and since the length of each sentence may differ, we will need to normalize the position of each toxic span and relate it with the length of the sentence that it refers to. This can be achieved by dividing with the length of the sentence which will result in the percentile position of the span."
   ]
  },
  {
   "cell_type": "code",
   "execution_count": null,
   "metadata": {
    "colab": {
     "base_uri": "https://localhost:8080/",
     "height": 418
    },
    "id": "AXVZYcBJ4D37",
    "outputId": "9d482d4b-b662-4a9a-c2d7-5b65bc5b7fbf"
   },
   "outputs": [
    {
     "data": {
      "image/png": "[encoded data removed]",
      "text/plain": [
       "<Figure size 576x432 with 1 Axes>"
      ]
     },
     "metadata": {
      "tags": []
     },
     "output_type": "display_data"
    }
   ],
   "source": [
    "# we will first need to normalize the position of the spans, that is to divide them by the length of each sentence\n",
    "# thus we retrieve the % point of a sentence where a toxic span exists\n",
    "normalized_spans = train.apply(lambda x: np.array(x.spans) / len(x.text), axis=1)\n",
    "#then we concatenate all the spans to a single array\n",
    "concatenated = np.concatenate(normalized_spans)\n",
    "fig, axs = plt.subplots(figsize=(8,6))\n",
    "sns.histplot(concatenated, stat='probability', bins=10)\n",
    "plt.title('Distribution of percentile position of toxic spans inside of a sentence')\n",
    "plt.xlabel('Percentile position of a sentence')\n",
    "plt.show()"
   ]
  },
  {
   "cell_type": "markdown",
   "metadata": {
    "id": "QWkK1ValAqzc"
   },
   "source": [
    "The first bar of the histogram above informs us that in the first 10% of the length of a sentence there is a probability of almost 12% to come across a toxic expression. Towards the end of the sentence and after its 90th percentile, there is a 15% probability of a toxic expression.\n",
    "\n",
    "We observe almost a uniform distribution. There is a slight trend which shows that toxic expressions appear either during the start or during the end of a sentence, but not so intensely towards the middle.\n",
    "\n",
    "The bins of the above plot can serve our purpose in multiple ways. If we use RNNs, we get an idea of how much info we will lose if we choose a small max length of a sentence. Another functionality that the above bins can offer, is that they can serve as apriori probabilities during the classification of a word as toxic/non toxic in a bayesian classification system."
   ]
  },
  {
   "cell_type": "markdown",
   "metadata": {
    "id": "sF9ZP0_dErVg"
   },
   "source": [
    "Since we noticed some incosistencies regarding the way the toxic spans were created, we should have a look at the distribution of number of words that consist a toxic span. Some annotators might have cherry-picked specific words, while others might have included whole phrases or sentences. For this reason, we will tokenize the toxic words for spans with more than one word\n"
   ]
  },
  {
   "cell_type": "code",
   "execution_count": null,
   "metadata": {
    "colab": {
     "base_uri": "https://localhost:8080/",
     "height": 526
    },
    "id": "s8d1_HSvAhdb",
    "outputId": "0ea18c69-4a64-4925-b514-58f52c4b25f8"
   },
   "outputs": [
    {
     "data": {
      "image/png": "[encoded data removed]",
      "text/plain": [
       "<Figure size 864x576 with 1 Axes>"
      ]
     },
     "metadata": {
      "tags": []
     },
     "output_type": "display_data"
    }
   ],
   "source": [
    "from nltk.tokenize import TreebankWordTokenizer as wst\n",
    "def tokenize_toxic_spans(toxic_phrases):\n",
    "    #initialize a tokienizer\n",
    "    t = wst()\n",
    "    span_word_count = []\n",
    "    #loop the toxic phrases and tokenize them\n",
    "    for phrase in toxic_phrases:\n",
    "        #count how many words are contained in a span\n",
    "        words_contained_in_span = len(list(t.tokenize(phrase)))\n",
    "        span_word_count.append(words_contained_in_span)\n",
    "    return np.array(span_word_count)\n",
    "\n",
    "words_contained_in_span = train.toxic_words.apply(tokenize_toxic_spans)\n",
    "#concatenate in one dimension\n",
    "words_contained_in_span = np.concatenate(words_contained_in_span)\n",
    "#create bins and calculate the numbers of spans that contain x number of words\n",
    "hist = np.histogram(words_contained_in_span,np.arange(1,101))[0]\n",
    "hist = pd.DataFrame({'number of words': np.arange(1,100), 'number of spans':hist})\n",
    "fig, axs = plt.subplots(figsize=(12,8))\n",
    "sns.barplot(x=hist['number of words'][:30], y=hist['number of spans'][:30])\n",
    "plt.title('Number of spans that contain x number of words (x<=30)')\n",
    "plt.show()"
   ]
  },
  {
   "cell_type": "markdown",
   "metadata": {
    "id": "jW9gI4S3PR22"
   },
   "source": [
    "From the plot above we can see tha the majority of toxic spans contain single words rather than phrases. This might prove to be convenient when using simpler algorithms that make predictions at the word level.\n",
    "\n"
   ]
  },
  {
   "cell_type": "markdown",
   "metadata": {
    "id": "IHyPZEpd2toX"
   },
   "source": [
    "As a next step, we can load the glove embeddings, since we might use them in our analysis."
   ]
  },
  {
   "cell_type": "code",
   "execution_count": null,
   "metadata": {
    "colab": {
     "base_uri": "https://localhost:8080/"
    },
    "id": "nYEk1suV1T5x",
    "outputId": "ee31c744-8c70-4a35-9b20-6e4a0e1f3dd0"
   },
   "outputs": [
    {
     "name": "stdout",
     "output_type": "stream",
     "text": [
      "--2021-01-18 18:29:26--  http://nlp.stanford.edu/data/glove.6B.zip\n",
      "Resolving nlp.stanford.edu (nlp.stanford.edu)... 171.64.67.140\n",
      "Connecting to nlp.stanford.edu (nlp.stanford.edu)|171.64.67.140|:80... connected.\n",
      "HTTP request sent, awaiting response... 302 Found\n",
      "Location: https://nlp.stanford.edu/data/glove.6B.zip [following]\n",
      "--2021-01-18 18:29:26--  https://nlp.stanford.edu/data/glove.6B.zip\n",
      "Connecting to nlp.stanford.edu (nlp.stanford.edu)|171.64.67.140|:443... connected.\n",
      "HTTP request sent, awaiting response... 301 Moved Permanently\n",
      "Location: http://downloads.cs.stanford.edu/nlp/data/glove.6B.zip [following]\n",
      "--2021-01-18 18:29:26--  http://downloads.cs.stanford.edu/nlp/data/glove.6B.zip\n",
      "Resolving downloads.cs.stanford.edu (downloads.cs.stanford.edu)... 171.64.64.22\n",
      "Connecting to downloads.cs.stanford.edu (downloads.cs.stanford.edu)|171.64.64.22|:80... connected.\n",
      "HTTP request sent, awaiting response... 200 OK\n",
      "Length: 862182613 (822M) [application/zip]\n",
      "Saving to: ‘glove.6B.zip’\n",
      "\n",
      "glove.6B.zip        100%[===================>] 822.24M  1.80MB/s    in 6m 28s  \n",
      "\n",
      "2021-01-18 18:35:55 (2.12 MB/s) - ‘glove.6B.zip’ saved [862182613/862182613]\n",
      "\n"
     ]
    }
   ],
   "source": [
    "!wget http://nlp.stanford.edu/data/glove.6B.zip"
   ]
  },
  {
   "cell_type": "code",
   "execution_count": null,
   "metadata": {
    "colab": {
     "base_uri": "https://localhost:8080/"
    },
    "id": "wyHVhRv51YIq",
    "outputId": "3fe77713-78c2-47c6-e0ea-a7e11e37087b"
   },
   "outputs": [
    {
     "name": "stdout",
     "output_type": "stream",
     "text": [
      "Archive:  glove.6B.zip\n",
      "  inflating: glove.6B.50d.txt        \n",
      "  inflating: glove.6B.100d.txt       \n",
      "  inflating: glove.6B.200d.txt       \n",
      "  inflating: glove.6B.300d.txt       \n"
     ]
    }
   ],
   "source": [
    "!unzip glove.6B.zip"
   ]
  },
  {
   "cell_type": "markdown",
   "metadata": {
    "id": "ZxA09-23ROfm"
   },
   "source": [
    "We will load the embeddings with the 200 dimensions"
   ]
  },
  {
   "cell_type": "code",
   "execution_count": null,
   "metadata": {
    "colab": {
     "base_uri": "https://localhost:8080/",
     "height": 284
    },
    "id": "WapgDNIt1i61",
    "outputId": "164b9d91-d8b1-4e51-d6a1-551d828303a7"
   },
   "outputs": [
    {
     "data": {
      "text/html": [
       "<div>\n",
       "<style scoped>\n",
       "    .dataframe tbody tr th:only-of-type {\n",
       "        vertical-align: middle;\n",
       "    }\n",
       "\n",
       "    .dataframe tbody tr th {\n",
       "        vertical-align: top;\n",
       "    }\n",
       "\n",
       "    .dataframe thead th {\n",
       "        text-align: right;\n",
       "    }\n",
       "</style>\n",
       "<table border=\"1\" class=\"dataframe\">\n",
       "  <thead>\n",
       "    <tr style=\"text-align: right;\">\n",
       "      <th></th>\n",
       "      <th>1</th>\n",
       "      <th>2</th>\n",
       "      <th>3</th>\n",
       "      <th>4</th>\n",
       "      <th>5</th>\n",
       "      <th>6</th>\n",
       "      <th>7</th>\n",
       "      <th>8</th>\n",
       "      <th>9</th>\n",
       "      <th>10</th>\n",
       "      <th>11</th>\n",
       "      <th>12</th>\n",
       "      <th>13</th>\n",
       "      <th>14</th>\n",
       "      <th>15</th>\n",
       "      <th>16</th>\n",
       "      <th>17</th>\n",
       "      <th>18</th>\n",
       "      <th>19</th>\n",
       "      <th>20</th>\n",
       "      <th>21</th>\n",
       "      <th>22</th>\n",
       "      <th>23</th>\n",
       "      <th>24</th>\n",
       "      <th>25</th>\n",
       "      <th>26</th>\n",
       "      <th>27</th>\n",
       "      <th>28</th>\n",
       "      <th>29</th>\n",
       "      <th>30</th>\n",
       "      <th>31</th>\n",
       "      <th>32</th>\n",
       "      <th>33</th>\n",
       "      <th>34</th>\n",
       "      <th>35</th>\n",
       "      <th>36</th>\n",
       "      <th>37</th>\n",
       "      <th>38</th>\n",
       "      <th>39</th>\n",
       "      <th>40</th>\n",
       "      <th>...</th>\n",
       "      <th>161</th>\n",
       "      <th>162</th>\n",
       "      <th>163</th>\n",
       "      <th>164</th>\n",
       "      <th>165</th>\n",
       "      <th>166</th>\n",
       "      <th>167</th>\n",
       "      <th>168</th>\n",
       "      <th>169</th>\n",
       "      <th>170</th>\n",
       "      <th>171</th>\n",
       "      <th>172</th>\n",
       "      <th>173</th>\n",
       "      <th>174</th>\n",
       "      <th>175</th>\n",
       "      <th>176</th>\n",
       "      <th>177</th>\n",
       "      <th>178</th>\n",
       "      <th>179</th>\n",
       "      <th>180</th>\n",
       "      <th>181</th>\n",
       "      <th>182</th>\n",
       "      <th>183</th>\n",
       "      <th>184</th>\n",
       "      <th>185</th>\n",
       "      <th>186</th>\n",
       "      <th>187</th>\n",
       "      <th>188</th>\n",
       "      <th>189</th>\n",
       "      <th>190</th>\n",
       "      <th>191</th>\n",
       "      <th>192</th>\n",
       "      <th>193</th>\n",
       "      <th>194</th>\n",
       "      <th>195</th>\n",
       "      <th>196</th>\n",
       "      <th>197</th>\n",
       "      <th>198</th>\n",
       "      <th>199</th>\n",
       "      <th>200</th>\n",
       "    </tr>\n",
       "    <tr>\n",
       "      <th>0</th>\n",
       "      <th></th>\n",
       "      <th></th>\n",
       "      <th></th>\n",
       "      <th></th>\n",
       "      <th></th>\n",
       "      <th></th>\n",
       "      <th></th>\n",
       "      <th></th>\n",
       "      <th></th>\n",
       "      <th></th>\n",
       "      <th></th>\n",
       "      <th></th>\n",
       "      <th></th>\n",
       "      <th></th>\n",
       "      <th></th>\n",
       "      <th></th>\n",
       "      <th></th>\n",
       "      <th></th>\n",
       "      <th></th>\n",
       "      <th></th>\n",
       "      <th></th>\n",
       "      <th></th>\n",
       "      <th></th>\n",
       "      <th></th>\n",
       "      <th></th>\n",
       "      <th></th>\n",
       "      <th></th>\n",
       "      <th></th>\n",
       "      <th></th>\n",
       "      <th></th>\n",
       "      <th></th>\n",
       "      <th></th>\n",
       "      <th></th>\n",
       "      <th></th>\n",
       "      <th></th>\n",
       "      <th></th>\n",
       "      <th></th>\n",
       "      <th></th>\n",
       "      <th></th>\n",
       "      <th></th>\n",
       "      <th></th>\n",
       "      <th></th>\n",
       "      <th></th>\n",
       "      <th></th>\n",
       "      <th></th>\n",
       "      <th></th>\n",
       "      <th></th>\n",
       "      <th></th>\n",
       "      <th></th>\n",
       "      <th></th>\n",
       "      <th></th>\n",
       "      <th></th>\n",
       "      <th></th>\n",
       "      <th></th>\n",
       "      <th></th>\n",
       "      <th></th>\n",
       "      <th></th>\n",
       "      <th></th>\n",
       "      <th></th>\n",
       "      <th></th>\n",
       "      <th></th>\n",
       "      <th></th>\n",
       "      <th></th>\n",
       "      <th></th>\n",
       "      <th></th>\n",
       "      <th></th>\n",
       "      <th></th>\n",
       "      <th></th>\n",
       "      <th></th>\n",
       "      <th></th>\n",
       "      <th></th>\n",
       "      <th></th>\n",
       "      <th></th>\n",
       "      <th></th>\n",
       "      <th></th>\n",
       "      <th></th>\n",
       "      <th></th>\n",
       "      <th></th>\n",
       "      <th></th>\n",
       "      <th></th>\n",
       "      <th></th>\n",
       "    </tr>\n",
       "  </thead>\n",
       "  <tbody>\n",
       "    <tr>\n",
       "      <th>the</th>\n",
       "      <td>-0.071549</td>\n",
       "      <td>0.093459</td>\n",
       "      <td>0.023738</td>\n",
       "      <td>-0.090339</td>\n",
       "      <td>0.056123</td>\n",
       "      <td>0.32547</td>\n",
       "      <td>-0.39796</td>\n",
       "      <td>-0.092139</td>\n",
       "      <td>0.061181</td>\n",
       "      <td>-0.189500</td>\n",
       "      <td>0.130610</td>\n",
       "      <td>0.14349</td>\n",
       "      <td>0.011479</td>\n",
       "      <td>0.38158</td>\n",
       "      <td>0.540300</td>\n",
       "      <td>-0.14088</td>\n",
       "      <td>0.243150</td>\n",
       "      <td>0.230360</td>\n",
       "      <td>-0.553390</td>\n",
       "      <td>0.048154</td>\n",
       "      <td>0.456620</td>\n",
       "      <td>3.2338</td>\n",
       "      <td>0.020199</td>\n",
       "      <td>0.049019</td>\n",
       "      <td>-0.014132</td>\n",
       "      <td>0.076017</td>\n",
       "      <td>-0.115270</td>\n",
       "      <td>0.200600</td>\n",
       "      <td>-0.077657</td>\n",
       "      <td>0.24328</td>\n",
       "      <td>0.163680</td>\n",
       "      <td>-0.341180</td>\n",
       "      <td>-0.066070</td>\n",
       "      <td>0.101520</td>\n",
       "      <td>0.038232</td>\n",
       "      <td>-0.17668</td>\n",
       "      <td>-0.88153</td>\n",
       "      <td>-0.33895</td>\n",
       "      <td>-0.035481</td>\n",
       "      <td>-0.550950</td>\n",
       "      <td>...</td>\n",
       "      <td>-0.042910</td>\n",
       "      <td>-0.067897</td>\n",
       "      <td>-0.29332</td>\n",
       "      <td>0.109780</td>\n",
       "      <td>-0.045365</td>\n",
       "      <td>0.232220</td>\n",
       "      <td>-0.311340</td>\n",
       "      <td>-0.289830</td>\n",
       "      <td>-0.666870</td>\n",
       "      <td>0.53097</td>\n",
       "      <td>0.194610</td>\n",
       "      <td>0.366700</td>\n",
       "      <td>0.26185</td>\n",
       "      <td>-0.65187</td>\n",
       "      <td>0.102660</td>\n",
       "      <td>0.113630</td>\n",
       "      <td>-0.129530</td>\n",
       "      <td>-0.682460</td>\n",
       "      <td>-0.187510</td>\n",
       "      <td>0.147600</td>\n",
       "      <td>1.0765</td>\n",
       "      <td>-0.22908</td>\n",
       "      <td>-0.009343</td>\n",
       "      <td>-0.206510</td>\n",
       "      <td>-0.352250</td>\n",
       "      <td>-0.26720</td>\n",
       "      <td>-0.003431</td>\n",
       "      <td>0.25906</td>\n",
       "      <td>0.217590</td>\n",
       "      <td>0.661580</td>\n",
       "      <td>0.121800</td>\n",
       "      <td>0.19957</td>\n",
       "      <td>-0.20303</td>\n",
       "      <td>0.344740</td>\n",
       "      <td>-0.243280</td>\n",
       "      <td>0.131390</td>\n",
       "      <td>-0.008877</td>\n",
       "      <td>0.336170</td>\n",
       "      <td>0.030591</td>\n",
       "      <td>0.255770</td>\n",
       "    </tr>\n",
       "    <tr>\n",
       "      <th>,</th>\n",
       "      <td>0.176510</td>\n",
       "      <td>0.292080</td>\n",
       "      <td>-0.002077</td>\n",
       "      <td>-0.375230</td>\n",
       "      <td>0.004914</td>\n",
       "      <td>0.23979</td>\n",
       "      <td>-0.28893</td>\n",
       "      <td>-0.014643</td>\n",
       "      <td>-0.109930</td>\n",
       "      <td>0.155920</td>\n",
       "      <td>0.206270</td>\n",
       "      <td>0.47675</td>\n",
       "      <td>0.099907</td>\n",
       "      <td>-0.14058</td>\n",
       "      <td>0.211140</td>\n",
       "      <td>0.12126</td>\n",
       "      <td>-0.318310</td>\n",
       "      <td>-0.089433</td>\n",
       "      <td>-0.090553</td>\n",
       "      <td>-0.319620</td>\n",
       "      <td>0.213190</td>\n",
       "      <td>2.4844</td>\n",
       "      <td>-0.077521</td>\n",
       "      <td>-0.084279</td>\n",
       "      <td>0.201860</td>\n",
       "      <td>0.260840</td>\n",
       "      <td>-0.404110</td>\n",
       "      <td>-0.191270</td>\n",
       "      <td>0.247150</td>\n",
       "      <td>0.22394</td>\n",
       "      <td>-0.063437</td>\n",
       "      <td>0.203790</td>\n",
       "      <td>-0.184630</td>\n",
       "      <td>-0.088413</td>\n",
       "      <td>0.024169</td>\n",
       "      <td>-0.28769</td>\n",
       "      <td>-0.61246</td>\n",
       "      <td>-0.12683</td>\n",
       "      <td>-0.088273</td>\n",
       "      <td>0.183310</td>\n",
       "      <td>...</td>\n",
       "      <td>0.026823</td>\n",
       "      <td>-0.045444</td>\n",
       "      <td>-0.22642</td>\n",
       "      <td>-0.199770</td>\n",
       "      <td>-0.121380</td>\n",
       "      <td>0.169410</td>\n",
       "      <td>0.061998</td>\n",
       "      <td>0.426310</td>\n",
       "      <td>-0.088383</td>\n",
       "      <td>0.45756</td>\n",
       "      <td>0.077774</td>\n",
       "      <td>0.061342</td>\n",
       "      <td>0.45710</td>\n",
       "      <td>-0.17787</td>\n",
       "      <td>-0.145970</td>\n",
       "      <td>0.326540</td>\n",
       "      <td>0.002443</td>\n",
       "      <td>-0.118860</td>\n",
       "      <td>0.100810</td>\n",
       "      <td>-0.020011</td>\n",
       "      <td>1.0366</td>\n",
       "      <td>-0.39814</td>\n",
       "      <td>-0.681800</td>\n",
       "      <td>0.236850</td>\n",
       "      <td>-0.203960</td>\n",
       "      <td>-0.17668</td>\n",
       "      <td>-0.313850</td>\n",
       "      <td>0.14834</td>\n",
       "      <td>-0.052187</td>\n",
       "      <td>0.061300</td>\n",
       "      <td>-0.325820</td>\n",
       "      <td>0.19153</td>\n",
       "      <td>-0.15469</td>\n",
       "      <td>-0.146790</td>\n",
       "      <td>0.046971</td>\n",
       "      <td>0.032325</td>\n",
       "      <td>-0.220060</td>\n",
       "      <td>-0.207740</td>\n",
       "      <td>-0.231890</td>\n",
       "      <td>-0.108140</td>\n",
       "    </tr>\n",
       "    <tr>\n",
       "      <th>.</th>\n",
       "      <td>0.122890</td>\n",
       "      <td>0.580370</td>\n",
       "      <td>-0.069635</td>\n",
       "      <td>-0.502880</td>\n",
       "      <td>0.105030</td>\n",
       "      <td>0.39945</td>\n",
       "      <td>-0.38635</td>\n",
       "      <td>-0.084279</td>\n",
       "      <td>0.122190</td>\n",
       "      <td>0.080312</td>\n",
       "      <td>0.323370</td>\n",
       "      <td>0.47579</td>\n",
       "      <td>-0.038375</td>\n",
       "      <td>-0.00709</td>\n",
       "      <td>0.415240</td>\n",
       "      <td>0.32121</td>\n",
       "      <td>-0.211850</td>\n",
       "      <td>0.361440</td>\n",
       "      <td>-0.055623</td>\n",
       "      <td>-0.030512</td>\n",
       "      <td>0.428540</td>\n",
       "      <td>2.8547</td>\n",
       "      <td>-0.146230</td>\n",
       "      <td>-0.175570</td>\n",
       "      <td>0.311970</td>\n",
       "      <td>-0.131180</td>\n",
       "      <td>0.033298</td>\n",
       "      <td>0.130930</td>\n",
       "      <td>0.089889</td>\n",
       "      <td>-0.12417</td>\n",
       "      <td>0.002340</td>\n",
       "      <td>-0.068954</td>\n",
       "      <td>-0.107540</td>\n",
       "      <td>-0.115510</td>\n",
       "      <td>-0.310520</td>\n",
       "      <td>-0.12097</td>\n",
       "      <td>-0.46691</td>\n",
       "      <td>-0.08360</td>\n",
       "      <td>-0.037664</td>\n",
       "      <td>-0.071779</td>\n",
       "      <td>...</td>\n",
       "      <td>0.075441</td>\n",
       "      <td>0.082116</td>\n",
       "      <td>-0.46008</td>\n",
       "      <td>0.012393</td>\n",
       "      <td>-0.025310</td>\n",
       "      <td>0.141770</td>\n",
       "      <td>-0.092192</td>\n",
       "      <td>0.345050</td>\n",
       "      <td>-0.521360</td>\n",
       "      <td>0.57304</td>\n",
       "      <td>0.011973</td>\n",
       "      <td>0.033196</td>\n",
       "      <td>0.29672</td>\n",
       "      <td>-0.27899</td>\n",
       "      <td>0.199790</td>\n",
       "      <td>0.256660</td>\n",
       "      <td>0.082079</td>\n",
       "      <td>-0.078436</td>\n",
       "      <td>0.093719</td>\n",
       "      <td>0.242020</td>\n",
       "      <td>1.3495</td>\n",
       "      <td>-0.30434</td>\n",
       "      <td>-0.309360</td>\n",
       "      <td>0.420470</td>\n",
       "      <td>-0.079068</td>\n",
       "      <td>-0.14819</td>\n",
       "      <td>-0.089404</td>\n",
       "      <td>0.06680</td>\n",
       "      <td>0.224050</td>\n",
       "      <td>0.272260</td>\n",
       "      <td>-0.035236</td>\n",
       "      <td>0.17688</td>\n",
       "      <td>-0.05360</td>\n",
       "      <td>0.007003</td>\n",
       "      <td>-0.033006</td>\n",
       "      <td>-0.080021</td>\n",
       "      <td>-0.244510</td>\n",
       "      <td>-0.039174</td>\n",
       "      <td>-0.162360</td>\n",
       "      <td>-0.096652</td>\n",
       "    </tr>\n",
       "    <tr>\n",
       "      <th>of</th>\n",
       "      <td>0.052924</td>\n",
       "      <td>0.254270</td>\n",
       "      <td>0.313530</td>\n",
       "      <td>-0.356130</td>\n",
       "      <td>0.029629</td>\n",
       "      <td>0.51034</td>\n",
       "      <td>-0.10716</td>\n",
       "      <td>0.151950</td>\n",
       "      <td>0.057698</td>\n",
       "      <td>0.061490</td>\n",
       "      <td>0.061160</td>\n",
       "      <td>0.39911</td>\n",
       "      <td>-0.000290</td>\n",
       "      <td>0.31978</td>\n",
       "      <td>0.432570</td>\n",
       "      <td>-0.14708</td>\n",
       "      <td>0.054842</td>\n",
       "      <td>0.270790</td>\n",
       "      <td>-0.140510</td>\n",
       "      <td>-0.301010</td>\n",
       "      <td>0.163130</td>\n",
       "      <td>3.0013</td>\n",
       "      <td>0.222310</td>\n",
       "      <td>-0.142790</td>\n",
       "      <td>0.083705</td>\n",
       "      <td>0.089866</td>\n",
       "      <td>-0.527060</td>\n",
       "      <td>-0.089661</td>\n",
       "      <td>0.273110</td>\n",
       "      <td>0.31413</td>\n",
       "      <td>-0.040810</td>\n",
       "      <td>0.060557</td>\n",
       "      <td>-0.042656</td>\n",
       "      <td>0.241780</td>\n",
       "      <td>-0.291870</td>\n",
       "      <td>0.22575</td>\n",
       "      <td>-0.62980</td>\n",
       "      <td>-0.14641</td>\n",
       "      <td>-0.224290</td>\n",
       "      <td>-0.056621</td>\n",
       "      <td>...</td>\n",
       "      <td>0.405320</td>\n",
       "      <td>-0.027960</td>\n",
       "      <td>-0.13398</td>\n",
       "      <td>-0.110860</td>\n",
       "      <td>0.059506</td>\n",
       "      <td>0.240520</td>\n",
       "      <td>-0.597390</td>\n",
       "      <td>-0.002407</td>\n",
       "      <td>-0.185930</td>\n",
       "      <td>1.04200</td>\n",
       "      <td>-0.129690</td>\n",
       "      <td>0.208130</td>\n",
       "      <td>0.33305</td>\n",
       "      <td>-0.12780</td>\n",
       "      <td>0.085662</td>\n",
       "      <td>-0.076422</td>\n",
       "      <td>0.314070</td>\n",
       "      <td>-0.237840</td>\n",
       "      <td>-0.054838</td>\n",
       "      <td>0.011369</td>\n",
       "      <td>0.8450</td>\n",
       "      <td>-0.34165</td>\n",
       "      <td>0.093983</td>\n",
       "      <td>0.082445</td>\n",
       "      <td>-0.277770</td>\n",
       "      <td>-0.44226</td>\n",
       "      <td>-0.063078</td>\n",
       "      <td>0.37274</td>\n",
       "      <td>0.054468</td>\n",
       "      <td>0.241970</td>\n",
       "      <td>-0.040886</td>\n",
       "      <td>0.38940</td>\n",
       "      <td>-0.10509</td>\n",
       "      <td>0.233720</td>\n",
       "      <td>0.096027</td>\n",
       "      <td>-0.303240</td>\n",
       "      <td>0.244880</td>\n",
       "      <td>-0.086254</td>\n",
       "      <td>-0.419170</td>\n",
       "      <td>0.464960</td>\n",
       "    </tr>\n",
       "    <tr>\n",
       "      <th>to</th>\n",
       "      <td>0.573460</td>\n",
       "      <td>0.541700</td>\n",
       "      <td>-0.234770</td>\n",
       "      <td>-0.362400</td>\n",
       "      <td>0.403700</td>\n",
       "      <td>0.11386</td>\n",
       "      <td>-0.44933</td>\n",
       "      <td>-0.309910</td>\n",
       "      <td>-0.005341</td>\n",
       "      <td>0.584260</td>\n",
       "      <td>-0.025956</td>\n",
       "      <td>0.49393</td>\n",
       "      <td>-0.037209</td>\n",
       "      <td>-0.28428</td>\n",
       "      <td>0.097696</td>\n",
       "      <td>-0.48907</td>\n",
       "      <td>0.026027</td>\n",
       "      <td>0.376490</td>\n",
       "      <td>0.057788</td>\n",
       "      <td>-0.468070</td>\n",
       "      <td>0.081288</td>\n",
       "      <td>3.2825</td>\n",
       "      <td>-0.636900</td>\n",
       "      <td>0.379560</td>\n",
       "      <td>0.003817</td>\n",
       "      <td>0.093607</td>\n",
       "      <td>-0.128550</td>\n",
       "      <td>0.173800</td>\n",
       "      <td>0.105220</td>\n",
       "      <td>0.28648</td>\n",
       "      <td>0.210890</td>\n",
       "      <td>-0.470760</td>\n",
       "      <td>0.027733</td>\n",
       "      <td>-0.198030</td>\n",
       "      <td>0.076328</td>\n",
       "      <td>-0.84629</td>\n",
       "      <td>-0.79708</td>\n",
       "      <td>-0.38743</td>\n",
       "      <td>-0.030422</td>\n",
       "      <td>-0.268490</td>\n",
       "      <td>...</td>\n",
       "      <td>-0.124130</td>\n",
       "      <td>-0.344310</td>\n",
       "      <td>-0.23296</td>\n",
       "      <td>-0.211870</td>\n",
       "      <td>0.085387</td>\n",
       "      <td>0.070063</td>\n",
       "      <td>-0.198030</td>\n",
       "      <td>-0.026023</td>\n",
       "      <td>-0.390370</td>\n",
       "      <td>0.80002</td>\n",
       "      <td>0.405770</td>\n",
       "      <td>-0.079863</td>\n",
       "      <td>0.35263</td>\n",
       "      <td>-0.34043</td>\n",
       "      <td>0.396760</td>\n",
       "      <td>0.228620</td>\n",
       "      <td>-0.350280</td>\n",
       "      <td>-0.473440</td>\n",
       "      <td>0.597420</td>\n",
       "      <td>-0.116570</td>\n",
       "      <td>1.0552</td>\n",
       "      <td>-0.41570</td>\n",
       "      <td>-0.080552</td>\n",
       "      <td>-0.056571</td>\n",
       "      <td>-0.166220</td>\n",
       "      <td>0.19274</td>\n",
       "      <td>-0.095175</td>\n",
       "      <td>-0.20781</td>\n",
       "      <td>0.156200</td>\n",
       "      <td>0.050231</td>\n",
       "      <td>-0.279150</td>\n",
       "      <td>0.43742</td>\n",
       "      <td>-0.31237</td>\n",
       "      <td>0.131940</td>\n",
       "      <td>-0.332780</td>\n",
       "      <td>0.188770</td>\n",
       "      <td>-0.234220</td>\n",
       "      <td>0.544180</td>\n",
       "      <td>-0.230690</td>\n",
       "      <td>0.349470</td>\n",
       "    </tr>\n",
       "  </tbody>\n",
       "</table>\n",
       "<p>5 rows × 200 columns</p>\n",
       "</div>"
      ],
      "text/plain": [
       "          1         2         3    ...       198       199       200\n",
       "0                                  ...                              \n",
       "the -0.071549  0.093459  0.023738  ...  0.336170  0.030591  0.255770\n",
       ",    0.176510  0.292080 -0.002077  ... -0.207740 -0.231890 -0.108140\n",
       ".    0.122890  0.580370 -0.069635  ... -0.039174 -0.162360 -0.096652\n",
       "of   0.052924  0.254270  0.313530  ... -0.086254 -0.419170  0.464960\n",
       "to   0.573460  0.541700 -0.234770  ...  0.544180 -0.230690  0.349470\n",
       "\n",
       "[5 rows x 200 columns]"
      ]
     },
     "execution_count": 30,
     "metadata": {
      "tags": []
     },
     "output_type": "execute_result"
    }
   ],
   "source": [
    "embeddings = pd.read_table(\"glove.6B.200d.txt\", sep=\" \", index_col=0, header=None, quoting=csv.QUOTE_NONE)\n",
    "embeddings.head()"
   ]
  },
  {
   "cell_type": "markdown",
   "metadata": {
    "id": "68uKSGJUld8e"
   },
   "source": [
    "We will create a dictionary with the words of our train test, get the appropriate vectors from the embeddings and visualize them. First we need to reduce our dataset in the 2D space. For that we will use PCA"
   ]
  },
  {
   "cell_type": "code",
   "execution_count": null,
   "metadata": {
    "id": "GMUNcXkmlYl4"
   },
   "outputs": [],
   "source": [
    "from sklearn.decomposition import PCA\n",
    "pca = PCA(n_components=2)\n",
    "reduced = pca.fit_transform(embeddings)\n",
    "reduced = pd.DataFrame(reduced, index = embeddings.index, columns=['pca_1','pca_2'])"
   ]
  },
  {
   "cell_type": "markdown",
   "metadata": {
    "id": "xMMtwU_36Ave"
   },
   "source": [
    "Next, we will load the gensim model, which will assist us in finding similar words."
   ]
  },
  {
   "cell_type": "code",
   "execution_count": null,
   "metadata": {
    "id": "0kJdf3c-ueRn"
   },
   "outputs": [],
   "source": [
    "from gensim.scripts.glove2word2vec import glove2word2vec\n",
    "from gensim.models import KeyedVectors\n",
    "\n",
    "# process the file so that it can be parsed as a word2vec model\n",
    "glove_fn, glove_w2v_fn = 'glove.6B.100d.txt', 'glove.6B.200d.txt.word2vec' \n",
    "glove2word2vec(glove_fn, glove_w2v_fn)\n",
    "\n",
    "# load the model \n",
    "glove_model = KeyedVectors.load_word2vec_format(glove_w2v_fn, binary=False)"
   ]
  },
  {
   "cell_type": "markdown",
   "metadata": {
    "id": "XqjYrWb86Kag"
   },
   "source": [
    "Finally, we can proceed in plotting similar words, according to a given initial word."
   ]
  },
  {
   "cell_type": "code",
   "execution_count": null,
   "metadata": {
    "colab": {
     "base_uri": "https://localhost:8080/",
     "height": 636
    },
    "id": "BMhkO8xPuuu4",
    "outputId": "c1863688-c1a5-4623-f7a5-d3afb17844f8"
   },
   "outputs": [
    {
     "data": {
      "image/png": "[encoded data removed]",
      "text/plain": [
       "<Figure size 720x720 with 1 Axes>"
      ]
     },
     "metadata": {
      "tags": []
     },
     "output_type": "display_data"
    }
   ],
   "source": [
    "from matplotlib import pyplot as plt\n",
    "import seaborn as sns\n",
    "def get_similar_words(words, topn=5):\n",
    "    #return the most similar words, as well as the two principal components for each word\n",
    "    res = []\n",
    "    for word in words:\n",
    "        # get the most similar words\n",
    "        similar = glove_model.most_similar(word,  topn=topn)\n",
    "        #append the word to a list, together with the word that triggered the most similar search\n",
    "        # as well as the principal components for each similar word\n",
    "        res += [(x[0], x[1], word, reduced.loc[x[0],'pca_1'], reduced.loc[x[0],'pca_2']) for x in similar]\n",
    "    res_df = pd.DataFrame(res, columns = ['similar_word', 'similarity','starting_word', 'pca_1', 'pca_2'])\n",
    "    return res_df\n",
    "\n",
    "fig , axs = plt.subplots(figsize=(10,10))\n",
    "random_words = get_similar_words(['stupid','idiot','kind','love'], 3)\n",
    "sns.scatterplot(x='pca_1', y='pca_2', hue='starting_word', data=random_words, sizes=(40, 400), size='similarity')\n",
    "def label_point(x, y, val, ax):\n",
    "    a = pd.concat({'x': x, 'y': y, 'val': val}, axis=1)\n",
    "    for i, point in a.iterrows():\n",
    "        ax.text(point['x']+.02, point['y'], str(point['val']))\n",
    "\n",
    "label_point(random_words.pca_1, random_words.pca_2, random_words.similar_word, plt.gca()) \n",
    "plt.title('Plotting similar words')\n",
    "plt.show()"
   ]
  },
  {
   "cell_type": "markdown",
   "metadata": {
    "id": "xHCy8F9r3hpk"
   },
   "source": [
    "# 4. Modeling\n",
    "\n",
    "For modeling purposes, we will split the train dataset further into train and validation. We will use the train set to train our models, whereas the validation set will be used for optimizing any hyperparamters. Finally, the original trial set will be used for assessing the generalization capabilities of the model."
   ]
  },
  {
   "cell_type": "code",
   "execution_count": null,
   "metadata": {
    "id": "ey51krhHR4eU"
   },
   "outputs": [],
   "source": [
    "from sklearn.model_selection import train_test_split\n",
    "train, validation = train_test_split(train, test_size=0.2, random_state=123)"
   ]
  },
  {
   "cell_type": "markdown",
   "metadata": {
    "id": "ILy0Yj80KYz3"
   },
   "source": [
    "## 4.1 ML Approach\n",
    "\n",
    "The idea here is to build a classifier that will classify a text as toxic or non toxic. Then, by iteratively removing words from the text, we can see how the probit changes. When the probit of the classifier reduces below a specific threshold (the text became less toxic), the word shoud be flagged as toxic.\n",
    "\n",
    "Since we want to train a classifier that classifies toxic texts as a whole we will need to enrich our dataset. We will introduce some texts which are non toxic. This will add discriminatory power to our classifier, since we observed common words in the toxic spans which are definetely non toxic on their own. By introducing some non toxic texts, the classifier will be able to discriminate better some common words. For this reason we introduced the dataset below. "
   ]
  },
  {
   "cell_type": "code",
   "execution_count": null,
   "metadata": {
    "id": "H4d7nuonT7P0"
   },
   "outputs": [],
   "source": [
    "tweets = pd.read_csv('https://raw.githubusercontent.com/t-davidson/hate-speech-and-offensive-language/master/data/labeled_data.csv', index_col=0)\n",
    "\n",
    "import re\n",
    "def clean_text(text):\n",
    "    #match http, s is optional, :// one slash is optional and everything that is not a whitespace\n",
    "    hyperlinks = re.compile(r'https?://?[\\S]*')\n",
    "    text = re.sub(hyperlinks,'',text)\n",
    "    \n",
    "    #match RT and remove, because of retweets\n",
    "    retweets = re.compile(r'RT')\n",
    "    text = re.sub(retweets,'',text)\n",
    "\n",
    "    #finding @ and match everything that is in [a-zA-Z0-9_]. this will include mentions without a separating space\n",
    "    mentions = re.compile(r'@\\w*')\n",
    "    text = re.sub(mentions,'',text)\n",
    "    \n",
    "    #finding # and match everything that is in [a-zA-Z0-9_]. this will include hashtags without a separating space\n",
    "    hashtags = re.compile(r'#\\w*')\n",
    "    text = re.sub(hashtags,'',text)\n",
    "    \n",
    "    newline = re.compile(r'\\n')\n",
    "    text = re.sub(newline,'',text)\n",
    "    \n",
    "    digits = re.compile('\\d')\n",
    "    text = re.sub(digits, '', text)\n",
    "    \n",
    "    #since we have removed eveyrthing else, anything that is not an alphanumeric will be removed and replaced with a space\n",
    "    punctuation = re.compile(r'[\\W]')\n",
    "    text = re.sub(punctuation,' ',text)\n",
    "    return text\n",
    "\n",
    "#clean the tweets from unecesarry expressions\n",
    "tweets['text'] = tweets.tweet.apply(clean_text)\n",
    "\n",
    "#select the class==2, according to the documentation it is the non toxic class\n",
    "non_toxic_tweets = tweets[tweets['class']==2].copy()\n",
    "#since the tweets are non toxic we will populate with an empty span\n",
    "non_toxic_tweets['spans'] = np.nan\n",
    "#add the label of 0 since our tweets are non toxic\n",
    "non_toxic_tweets['label'] = 0\n",
    "#select the appropriate columns so that we have the same schema with the original dataframe\n",
    "non_toxic_tweets = non_toxic_tweets[['text','spans','label']]"
   ]
  },
  {
   "cell_type": "markdown",
   "metadata": {
    "id": "Fm1nLDq1B9f9"
   },
   "source": [
    "Having cleaned our additional dataset, we will concatenate it with the toxic texts."
   ]
  },
  {
   "cell_type": "code",
   "execution_count": null,
   "metadata": {
    "id": "CHFA-vx5b794"
   },
   "outputs": [],
   "source": [
    "#create a copy of the original sets that we will use in our ML approach\n",
    "ml_train = train[['text','spans']].copy()\n",
    "ml_validation = validation[['text','spans']].copy()\n",
    "ml_trial = trial[['text','spans']].copy()\n",
    "\n",
    "#setting them a label of 1 as they are toxic\n",
    "ml_train['label'] = 1\n",
    "ml_validation['label'] = 1\n",
    "ml_trial['label'] = 1\n",
    "\n",
    "#we perform the similar split to the non toxic tweets\n",
    "non_toxic_tweets_train, non_toxic_tweets_validation = train_test_split(non_toxic_tweets, random_state=123, test_size=0.2)\n",
    "non_toxic_tweets_validation, non_toxic_tweets_trial = train_test_split(non_toxic_tweets_validation, random_state=123, test_size=0.5)\n",
    "\n",
    "#we will concat the non toxic tweets to the toxic comments\n",
    "ml_train = pd.concat([ml_train, non_toxic_tweets_train])\n",
    "ml_validation = pd.concat([ml_validation, non_toxic_tweets_validation])\n",
    "ml_trial = pd.concat([ml_trial, non_toxic_tweets_trial])"
   ]
  },
  {
   "cell_type": "markdown",
   "metadata": {
    "id": "RwdZfsbPCIHD"
   },
   "source": [
    "Instead of using Bag of Words, which could be limiting especially when unknown words appear in the text, we will use `Doc2Vec`. `Doc2vec` creates an embedding for the whole document, instead of each word of the document. Thus we could have a fixed number of features for each document, even after removing the words iteratively in order to assess their toxicity."
   ]
  },
  {
   "cell_type": "code",
   "execution_count": null,
   "metadata": {
    "id": "CsX5FBjrKcFO"
   },
   "outputs": [],
   "source": [
    "from gensim.test.utils import common_texts\n",
    "from gensim.models.doc2vec import Doc2Vec, TaggedDocument\n",
    "\n",
    "#Custom function for tagging the documents, necessary for doc2vec\n",
    "def tag_documents(texts):\n",
    "    documents = [TaggedDocument(doc, [i]) for i, doc in enumerate(texts)]\n",
    "    return documents\n",
    "\n",
    "#tokenize the text and pass them to the tag_documents for all our sets.\n",
    "#first we get all the spans\n",
    "ml_train['all_spans'] = ml_train.text.apply(get_all_spans)\n",
    "#from the spans we tokenize the text\n",
    "ml_train['tokenized_text'] = ml_train.apply(lambda x: get_tokens(x.all_spans, x.text), axis=1)\n",
    "#we tag the document, necessary for doc2vec\n",
    "ml_train['tagged_document'] = tag_documents(ml_train.tokenized_text)\n",
    "\n",
    "ml_validation['all_spans'] = ml_validation.text.apply(get_all_spans)\n",
    "ml_validation['tokenized_text'] = ml_validation.apply(lambda x: get_tokens(x.all_spans, x.text), axis=1)\n",
    "ml_validation['tagged_document'] = tag_documents(ml_validation.tokenized_text)\n",
    "\n",
    "ml_trial['all_spans'] = ml_trial.text.apply(get_all_spans)\n",
    "ml_trial['tokenized_text'] = ml_trial.apply(lambda x: get_tokens(x.all_spans, x.text), axis=1)\n",
    "ml_trial['tagged_document'] = tag_documents(ml_trial.tokenized_text)"
   ]
  },
  {
   "cell_type": "markdown",
   "metadata": {
    "id": "--3icSd1DMAk"
   },
   "source": [
    "Since our dataset is in the right format, we can start training the `Doc2Vec` model. We initialized the model with a vector size of 20."
   ]
  },
  {
   "cell_type": "code",
   "execution_count": null,
   "metadata": {
    "id": "4EPYv8k0KcNC"
   },
   "outputs": [],
   "source": [
    "#initialize the model\n",
    "doc2vec = Doc2Vec(vector_size=20, epochs=50, seed=234)\n",
    "#build the vocabulary, this is the same as the word to index notion\n",
    "doc2vec.build_vocab(ml_train['tagged_document'])\n",
    "#start training\n",
    "doc2vec.train(ml_train['tagged_document'], total_examples=doc2vec.corpus_count, epochs=doc2vec.epochs)"
   ]
  },
  {
   "cell_type": "markdown",
   "metadata": {
    "id": "1scTB7c1D5v8"
   },
   "source": [
    "By accessing `doc2vec.docvecs.vectors_docs` we can see 20 features for each sentence in our train set."
   ]
  },
  {
   "cell_type": "code",
   "execution_count": null,
   "metadata": {
    "colab": {
     "base_uri": "https://localhost:8080/"
    },
    "id": "GekzQq12EDRJ",
    "outputId": "eebf7d2a-f9d2-43fa-8d56-60c553f107a8"
   },
   "outputs": [
    {
     "data": {
      "text/plain": [
       "(9681, 20)"
      ]
     },
     "execution_count": 67,
     "metadata": {
      "tags": []
     },
     "output_type": "execute_result"
    }
   ],
   "source": [
    "doc2vec.docvecs.vectors_docs.shape"
   ]
  },
  {
   "cell_type": "markdown",
   "metadata": {
    "id": "7YznWdztEYDL"
   },
   "source": [
    "We can also infer a vector using `doc2vec.infer_vector`"
   ]
  },
  {
   "cell_type": "code",
   "execution_count": null,
   "metadata": {
    "colab": {
     "base_uri": "https://localhost:8080/"
    },
    "id": "14kvjRqCElEN",
    "outputId": "f9717b5f-51ca-4189-931a-6ad97558315e"
   },
   "outputs": [
    {
     "data": {
      "text/plain": [
       "array([ 0.23162256, -0.5380254 , -0.598471  ,  0.09237313,  0.07002359,\n",
       "        0.06860597, -0.6642777 , -0.35684624, -0.4145721 , -0.1681378 ,\n",
       "       -0.0479945 , -0.01755205,  0.02659309,  0.26117596, -0.5315298 ,\n",
       "        0.53265446,  0.09237383,  0.12521072,  0.15452582, -0.03637572],\n",
       "      dtype=float32)"
      ]
     },
     "execution_count": 68,
     "metadata": {
      "tags": []
     },
     "output_type": "execute_result"
    }
   ],
   "source": [
    "doc2vec.infer_vector(['this', 'is', 'a', 'new','doc'])"
   ]
  },
  {
   "cell_type": "markdown",
   "metadata": {
    "id": "_u2BooK4EKqZ"
   },
   "source": [
    "Now we can start training our classifier. We can start with a Ranom Forest Classifier."
   ]
  },
  {
   "cell_type": "code",
   "execution_count": null,
   "metadata": {
    "colab": {
     "base_uri": "https://localhost:8080/"
    },
    "id": "Np9ywH9qKcS-",
    "outputId": "bfc8e186-caaf-4f52-a5f9-43f02949c79a"
   },
   "outputs": [
    {
     "name": "stdout",
     "output_type": "stream",
     "text": [
      "Fitting 3 folds for each of 30 candidates, totalling 90 fits\n"
     ]
    },
    {
     "name": "stderr",
     "output_type": "stream",
     "text": [
      "[Parallel(n_jobs=-1)]: Using backend LokyBackend with 2 concurrent workers.\n",
      "[Parallel(n_jobs=-1)]: Done  37 tasks      | elapsed:  1.4min\n",
      "[Parallel(n_jobs=-1)]: Done  90 out of  90 | elapsed:  3.4min finished\n"
     ]
    },
    {
     "data": {
      "text/plain": [
       "GridSearchCV(cv=3, error_score=nan,\n",
       "             estimator=RandomForestClassifier(bootstrap=True, ccp_alpha=0.0,\n",
       "                                              class_weight=None,\n",
       "                                              criterion='gini', max_depth=None,\n",
       "                                              max_features='auto',\n",
       "                                              max_leaf_nodes=None,\n",
       "                                              max_samples=None,\n",
       "                                              min_impurity_decrease=0.0,\n",
       "                                              min_impurity_split=None,\n",
       "                                              min_samples_leaf=1,\n",
       "                                              min_samples_split=2,\n",
       "                                              min_weight_fraction_leaf=0.0,\n",
       "                                              n_estimators=100, n_jobs=None,\n",
       "                                              oob_score=False,\n",
       "                                              random_state=None, verbose=0,\n",
       "                                              warm_start=False),\n",
       "             iid='deprecated', n_jobs=-1,\n",
       "             param_grid={'max_depth': [10, 30, 50, 70, 100, 120],\n",
       "                         'n_estimators': [100, 125, 150, 175, 200]},\n",
       "             pre_dispatch='2*n_jobs', refit=True, return_train_score=False,\n",
       "             scoring=None, verbose=2)"
      ]
     },
     "execution_count": 70,
     "metadata": {
      "tags": []
     },
     "output_type": "execute_result"
    }
   ],
   "source": [
    "from sklearn.ensemble import RandomForestClassifier\n",
    "from sklearn.metrics import classification_report\n",
    "from sklearn.model_selection import GridSearchCV\n",
    "\n",
    "grid = {\n",
    "    'n_estimators' : [100,125,150,175,200]\n",
    "    ,\n",
    "    'max_depth' : [10,30,50,70,100,120]\n",
    "\n",
    "}\n",
    "rfc = RandomForestClassifier()\n",
    "grid_search = GridSearchCV(estimator = rfc, param_grid = grid, \n",
    "                          cv = 3, n_jobs = -1, verbose = 2)\n",
    "\n",
    "grid_search.fit(doc2vec.docvecs.vectors_docs, ml_train.label)"
   ]
  },
  {
   "cell_type": "markdown",
   "metadata": {
    "id": "oqPrMv6mMqLf"
   },
   "source": [
    "These are our best parameters."
   ]
  },
  {
   "cell_type": "code",
   "execution_count": null,
   "metadata": {
    "colab": {
     "base_uri": "https://localhost:8080/"
    },
    "id": "9_PI2bj7MpLP",
    "outputId": "b3568326-a703-491b-b2e6-8c17f0b80604"
   },
   "outputs": [
    {
     "name": "stdout",
     "output_type": "stream",
     "text": [
      "{'max_depth': 30, 'n_estimators': 150}\n"
     ]
    }
   ],
   "source": [
    "print (grid_search.best_params_)"
   ]
  },
  {
   "cell_type": "markdown",
   "metadata": {
    "id": "lbdAhIR2Npfc"
   },
   "source": [
    "We can now fit a model using them."
   ]
  },
  {
   "cell_type": "code",
   "execution_count": null,
   "metadata": {
    "colab": {
     "base_uri": "https://localhost:8080/"
    },
    "id": "jM9uGAHoNlNa",
    "outputId": "4edcc55e-7d40-48bc-f5c3-31bb4229ff45"
   },
   "outputs": [
    {
     "name": "stdout",
     "output_type": "stream",
     "text": [
      "              precision    recall  f1-score   support\n",
      "\n",
      "           0       0.93      0.67      0.78       416\n",
      "           1       0.92      0.99      0.95      1588\n",
      "\n",
      "    accuracy                           0.92      2004\n",
      "   macro avg       0.92      0.83      0.86      2004\n",
      "weighted avg       0.92      0.92      0.92      2004\n",
      "\n"
     ]
    }
   ],
   "source": [
    "rfc = RandomForestClassifier(**grid_search.best_params_)\n",
    "rfc.fit(doc2vec.docvecs.vectors_docs, ml_train.label)\n",
    "\n",
    "#get the inferred vectors from the doc2vec model\n",
    "validation_vectors = ml_validation.apply(lambda x: np.array(doc2vec.infer_vector(x.tokenized_text)), axis=1)\n",
    "validation_vectors = np.vstack(validation_vectors)\n",
    "#predict if the whole text is toxic or not\n",
    "predictions = rfc.predict(validation_vectors)\n",
    "print(classification_report(ml_validation[['label']],predictions))"
   ]
  },
  {
   "cell_type": "markdown",
   "metadata": {
    "id": "-t3CNPSMS4Ai"
   },
   "source": [
    "We will also train a linear classifier using the all familiar least squares. It is not a \"best practice\" approach but since the ouput of the classifier is not restricted to `[0,1]` we might be able to discriminate toxic words better."
   ]
  },
  {
   "cell_type": "code",
   "execution_count": null,
   "metadata": {
    "colab": {
     "base_uri": "https://localhost:8080/"
    },
    "id": "i2rLnn1u7rLF",
    "outputId": "c4115589-1aa5-43a2-9587-f82bda6244ca"
   },
   "outputs": [
    {
     "name": "stdout",
     "output_type": "stream",
     "text": [
      "f1 validation score: 0.9024529378208784\n"
     ]
    }
   ],
   "source": [
    "from sklearn.linear_model import LinearRegression\n",
    "from sklearn.metrics import f1_score\n",
    "\n",
    "lr = LinearRegression()\n",
    "lr.fit(doc2vec.docvecs.vectors_docs, ml_train.label)\n",
    "\n",
    "#get the inferred vectors from the doc2vec model\n",
    "validation_vectors = ml_validation.apply(lambda x: np.array(doc2vec.infer_vector(x.tokenized_text)), axis=1)\n",
    "validation_vectors = np.vstack(validation_vectors)\n",
    "#predict and binarize\n",
    "predictions = lr.predict(validation_vectors)\n",
    "predictions = (predictions > 0).astype(int)\n",
    "\n",
    "print('f1 validation score:', f1_score(ml_validation[['label']], predictions))"
   ]
  },
  {
   "cell_type": "markdown",
   "metadata": {
    "id": "jTABBY7pCLBy"
   },
   "source": [
    "Additionally we will train a Lasso classifier in order to introduce some sparsity"
   ]
  },
  {
   "cell_type": "code",
   "execution_count": null,
   "metadata": {
    "colab": {
     "base_uri": "https://localhost:8080/"
    },
    "id": "REELH04_CUBd",
    "outputId": "a3140273-a67a-4507-a1c6-fb4a6659a131"
   },
   "outputs": [
    {
     "name": "stdout",
     "output_type": "stream",
     "text": [
      "f1 validation score: 0.9045714285714286\n"
     ]
    }
   ],
   "source": [
    "from sklearn.linear_model import LassoCV\n",
    "\n",
    "lasso = LassoCV()\n",
    "lasso.fit(doc2vec.docvecs.vectors_docs, ml_train.label)\n",
    "\n",
    "#get the inferred vectors from the doc2vec model\n",
    "validation_vectors = ml_validation.apply(lambda x: np.array(doc2vec.infer_vector(x.tokenized_text)), axis=1)\n",
    "validation_vectors = np.vstack(validation_vectors)\n",
    "\n",
    "predictions = lasso.predict(validation_vectors)\n",
    "predictions = (predictions > 0).astype(int)\n",
    "print('f1 validation score:', f1_score(ml_validation[['label']], predictions))"
   ]
  },
  {
   "cell_type": "markdown",
   "metadata": {
    "id": "xCcEU13ETqij"
   },
   "source": [
    "The next step is to create a class, that will handle the following tasks:\n",
    "\n",
    "* Mask a word a time and predict the new toxicity of the text\n",
    "* Tune a toxicity threshold under which a word is considered as toxic\n",
    "* Predict toxic words for unseen data"
   ]
  },
  {
   "cell_type": "code",
   "execution_count": null,
   "metadata": {
    "id": "5HmjQc_3KchK"
   },
   "outputs": [],
   "source": [
    "from sklearn.metrics import f1_score\n",
    "from toxic_spans.evaluation.semeval2021 import f1\n",
    "pd.options.mode.chained_assignment = None  # default='warn'\n",
    "from tqdm import tqdm\n",
    "tqdm.pandas(position=0, leave=True)\n",
    "\n",
    "class InputErasure:\n",
    "\n",
    "    def __init__(self, doc2vec_trained_model, validation_data, toxic_label, non_toxic_label):\n",
    "        self.doc2vec = doc2vec_trained_model\n",
    "        self.threshold = -0.2\n",
    "        self.validation_data = validation_data\n",
    "        self.toxic_label = toxic_label\n",
    "        self.non_toxic_label = non_toxic_label\n",
    "  \n",
    "    def input_erasure_classifier(self, text, classifier):\n",
    "        '''\n",
    "        mask a word of the text and predict how much the toxicity score changes\n",
    "\n",
    "        Parameters:\n",
    "        text (str): tokenized text\n",
    "        classifier (obj): a trained classifier with the perdict_proba function\n",
    "            implemented\n",
    "        \n",
    "        Returns:\n",
    "        list with word toxicity scores\n",
    "        '''\n",
    "        #infer the doc2vec vector if the original text\n",
    "        original_doc_vector = [self.doc2vec.infer_vector(text,epochs=100)]\n",
    "        #predict the toxicity of the initial text\n",
    "        initial_score = classifier.predict_proba(original_doc_vector)[0,1]\n",
    "        texts = []\n",
    "        doc_vectors = []\n",
    "        #mask each word of the text\n",
    "        for word_index in range(len(text)):\n",
    "            words_copy = [w for w in text]\n",
    "            words_copy[word_index] = \"[MASK]\"\n",
    "            #infer the the vectors of the whole document\n",
    "            doc_vectors.append(self.doc2vec.infer_vector(words_copy,epochs=100))\n",
    "            texts.append(words_copy)\n",
    "        doc_vectors  = np.array(doc_vectors)\n",
    "        # score all ablated texts\n",
    "        scores = classifier.predict_proba(doc_vectors)[:,1]\n",
    "        scores_pd = pd.DataFrame({\"word\":text, \"xscore\":scores})\n",
    "        # measure the change in the score; decrease means guilty \n",
    "        scores_pd.xscore = scores_pd.xscore.apply(lambda score: (score-initial_score)/initial_score)\n",
    "        return list(scores_pd.xscore)\n",
    "\n",
    "    def input_erasure_regressor(self, text, regressor):\n",
    "        #see input_erasure_classifier\n",
    "        original_doc_vector = [self.doc2vec.infer_vector(text,epochs=100)]\n",
    "        initial_score = regressor.predict(original_doc_vector)[0]\n",
    "        texts = []\n",
    "        doc_vectors = []\n",
    "        for word_index in range(len(text)):\n",
    "            words_copy = [w for w in text]\n",
    "            words_copy[word_index] = \"[MASK]\"\n",
    "            doc_vectors.append(self.doc2vec.infer_vector(words_copy,epochs=100))\n",
    "            texts.append(words_copy)\n",
    "        doc_vectors  = np.array(doc_vectors)\n",
    "        scores = regressor.predict(doc_vectors)\n",
    "        scores_pd = pd.DataFrame({\"word\":text, \"xscore\":scores})\n",
    "        scores_pd.xscore = scores_pd.xscore.apply(lambda score: (score-initial_score)/initial_score)\n",
    "        return list(scores_pd.xscore)\n",
    "  \n",
    "    def get_ground_truth_label_(self, all_spans, toxic_spans, toxic_label, non_toxic_label):\n",
    "        '''\n",
    "        iterate through all its spans and if they belong \n",
    "        to a toxic span assign toxic_label or non toxic_label\n",
    "\n",
    "        Parameters:\n",
    "        all_spans (list): list with all the spans of the text\n",
    "        toxic_spans (list): list with toxic spans (not toxic span entities)\n",
    "        toxic_label (int/array): the value of the label of a toxic word\n",
    "        non_toxic_label (int/array): the value of the label of a nont toxic word \n",
    "        '''\n",
    "        #if the beginng of a span or the end of a span belongs to a toxic span, assign the toxic label\n",
    "        ground_truth = [toxic_label if span[0] in toxic_spans or span[1] in toxic_spans else non_toxic_label for span in all_spans]\n",
    "        return ground_truth\n",
    "\n",
    "    def tune_threshold(self, model, model_type):\n",
    "        '''\n",
    "        calculate the toxicity score of each word and tune the threshold\n",
    "\n",
    "        Parameters:\n",
    "        model (obj): any trained model with a method predict implemented\n",
    "        model_type (str): valid values \"regressor\" or \"classifier\" \n",
    "        Returns:\n",
    "        None\n",
    "        '''\n",
    "\n",
    "        #first we need to get the toxicity scores of each word\n",
    "        print('scoring words...')\n",
    "        #if we have a regressors, create a new column on the validation data set\n",
    "        #with all the word scores, calling input_erasure_regressor on the tokenized texts\n",
    "        if model_type == 'regressor':\n",
    "            self.validation_data['word_scores'] = self.validation_data.progress_apply(\n",
    "                lambda x: self.input_erasure_regressor(x.tokenized_text,model),axis=1)\n",
    "        #similar procedure as above but we are calling input_erasure_classifier\n",
    "        elif model_type == 'classifier':\n",
    "            self.validation_data['word_scores'] = self.validation_data.progress_apply(\n",
    "                lambda x: self.input_erasure_classifier(x.tokenized_text,model),axis=1)\n",
    "    \n",
    "        print('extracting ground truth labels...')\n",
    "        #next we need to retrieve the ground  truth labels for each word of our \n",
    "        #validation data set, calling the helper function get_ground_truth_label_\n",
    "        self.validation_data['ground_truth_label'] = self.validation_data.apply(\n",
    "            lambda x: self.get_ground_truth_label_(x.all_spans, x.spans, self.toxic_label, self.non_toxic_label),axis=1)\n",
    "    \n",
    "        #next we will tune the threshold\n",
    "        print('tuning the threshold...')\n",
    "        word_scores = self.validation_data.word_scores\n",
    "        labels = self.validation_data.ground_truth_label\n",
    "        #calculate the decisions based on the threshold defined in the constructor\n",
    "        decisions = [[1 if word < self.threshold else 0 for word in text] for text in word_scores]\n",
    "        #calculate the initial score, being the optimal score so far\n",
    "        #we use f1_score from https://github.com/ipavlopoulos/toxic_spans/blob/master/evaluation/semeval2021.py\n",
    "        opt_score = np.mean([f1_score(decision, ground_truth_label, zero_division=1) for decision, ground_truth_label in list(zip(decisions, labels))])\n",
    "        #start iterating for different values of thresholds\n",
    "        for thr in np.linspace(0,-1,100):\n",
    "            #calclate the updated decisions as well as the new score\n",
    "            decisions = [[1 if word < thr else 0 for word in text] for text in word_scores]\n",
    "            score = np.mean([f1_score(decision, ground_truth_label,zero_division=1) for decision, ground_truth_label in list(zip(decisions, labels))])\n",
    "            #if the score is better, update the attribute self.threshold as well as the opt score\n",
    "            if score > opt_score:\n",
    "                self.threshold = thr\n",
    "                opt_score = score\n",
    "    \n",
    "    def predict_spans(self, data, model, model_type):\n",
    "        '''\n",
    "        predict the toxic spans of a corpus\n",
    "\n",
    "        Parameters:\n",
    "        data: a dataset containing a tokenized text column\n",
    "        model: a trained model with the predict method implemented\n",
    "        model_type: valid values \"regressor\" or \"classifier\" \n",
    "        '''\n",
    "        print('scoring words...')\n",
    "        #call input_erasure_regressor or input_erasure_classifier based on model_type\n",
    "        #in order to retrieve the word scores\n",
    "        if model_type == 'regressor':\n",
    "            data['word_scores'] = data.progress_apply(\n",
    "                lambda x: self.input_erasure_regressor(x.tokenized_text,model),axis=1)\n",
    "        elif model_type == 'classifier':\n",
    "            data['word_scores'] = data.progress_apply(\n",
    "                lambda x: self.input_erasure_classifier(x.tokenized_text,model),axis=1)\n",
    "    \n",
    "        #then we extract the toxic spans\n",
    "        print('extracting spans...')\n",
    "        predicted_spans = []\n",
    "        #loop all the rows of our dataframe\n",
    "        for _, row in data.iterrows():\n",
    "            spans = []\n",
    "            #for every doc, loop through the word scores\n",
    "            for index, word_score in enumerate(row.word_scores):\n",
    "            #if the score is below the threshold attribute, tuned in tune_threshold\n",
    "            # get the span\n",
    "                if word_score <= self.threshold:\n",
    "                    span = row.all_spans[index]\n",
    "                    #make the span continuous (1,4) -> [1,2,3,4]\n",
    "                    for char in range(span[0], span[1]):\n",
    "                        spans.append(char)\n",
    "            predicted_spans.append(spans)\n",
    "        print('done')\n",
    "        return predicted_spans\n",
    "\n",
    "    def evaluate(self, gold, predicted):\n",
    "        '''\n",
    "        Evaluate the fit using https://github.com/ipavlopoulos/toxic_spans/blob/master/evaluation/semeval2021.py\n",
    "\n",
    "        Parameters:\n",
    "        gold (list): list of continuous spans holding the ground truth \n",
    "        predicted (list): list of continuous spans holding the predictions\n",
    "        '''\n",
    "        df = pd.DataFrame({'gold' : gold, 'predicted' : predicted})\n",
    "        df[\"f1_scores\"] = df.apply(lambda row: f1(row.predicted, row.gold), axis=1)\n",
    "        return df\n"
   ]
  },
  {
   "cell_type": "markdown",
   "metadata": {
    "id": "ijH4YQt1CiRl"
   },
   "source": [
    "After implementing a class for the input_erasure, we can test the fit of our models:\n",
    "\n",
    "* The Random Forest Classifier\n",
    "* The Linear Regression\n",
    "* The Lasso Regression\n",
    "\n",
    "Let's start with the Random Forest Classifier"
   ]
  },
  {
   "cell_type": "code",
   "execution_count": null,
   "metadata": {
    "colab": {
     "base_uri": "https://localhost:8080/"
    },
    "id": "QHANM7i3EqP0",
    "outputId": "f8ce5c68-4638-4b58-ca69-f03dc9477fc8"
   },
   "outputs": [
    {
     "name": "stderr",
     "output_type": "stream",
     "text": [
      "  0%|          | 2/1588 [00:00<02:22, 11.10it/s]"
     ]
    },
    {
     "name": "stdout",
     "output_type": "stream",
     "text": [
      "scoring words...\n"
     ]
    },
    {
     "name": "stderr",
     "output_type": "stream",
     "text": [
      "100%|██████████| 1588/1588 [13:15<00:00,  2.00it/s]\n"
     ]
    },
    {
     "name": "stdout",
     "output_type": "stream",
     "text": [
      "extracting ground truth labels...\n",
      "tuning the threshold...\n"
     ]
    },
    {
     "name": "stderr",
     "output_type": "stream",
     "text": [
      "  0%|          | 2/690 [00:00<00:36, 18.67it/s]"
     ]
    },
    {
     "name": "stdout",
     "output_type": "stream",
     "text": [
      "scoring words...\n"
     ]
    },
    {
     "name": "stderr",
     "output_type": "stream",
     "text": [
      "100%|██████████| 690/690 [05:17<00:00,  2.17it/s]\n"
     ]
    },
    {
     "name": "stdout",
     "output_type": "stream",
     "text": [
      "extracting spans...\n",
      "done\n"
     ]
    },
    {
     "data": {
      "text/plain": [
       "f1_scores    0.202697\n",
       "dtype: float64"
      ]
     },
     "execution_count": 93,
     "metadata": {
      "tags": []
     },
     "output_type": "execute_result"
    }
   ],
   "source": [
    "#initialize a model with our trained doc2vec model, passing our validation data only where the doc is toxic\n",
    "ie = InputErasure(doc2vec,ml_validation[ml_validation.label==1], toxic_label = 1, non_toxic_label = 0)\n",
    "#call tune_threshold which will find the optimal threshold based on the validation data\n",
    "ie.tune_threshold(rfc, 'classifier')\n",
    "#predict the spans of our unseen set\n",
    "predictions = ie.predict_spans(ml_trial[ml_trial.label==1], rfc, 'classifier')\n",
    "#final evaluation of the model\n",
    "rfc_results = ie.evaluate(ml_trial[ml_trial.label==1].spans,predictions)\n",
    "rfc_results.mean()"
   ]
  },
  {
   "cell_type": "markdown",
   "metadata": {
    "id": "4Wh9v0RYQybG"
   },
   "source": [
    "Moving on to our Linear Classifier"
   ]
  },
  {
   "cell_type": "code",
   "execution_count": null,
   "metadata": {
    "colab": {
     "base_uri": "https://localhost:8080/"
    },
    "id": "m25bnN8fQ3Rv",
    "outputId": "1ce055ba-f836-48a8-e8f3-a44a62de46a7"
   },
   "outputs": [
    {
     "name": "stderr",
     "output_type": "stream",
     "text": [
      "  0%|          | 2/1588 [00:00<01:51, 14.19it/s]"
     ]
    },
    {
     "name": "stdout",
     "output_type": "stream",
     "text": [
      "scoring words...\n"
     ]
    },
    {
     "name": "stderr",
     "output_type": "stream",
     "text": [
      "100%|██████████| 1588/1588 [12:39<00:00,  2.09it/s]\n"
     ]
    },
    {
     "name": "stdout",
     "output_type": "stream",
     "text": [
      "extracting ground truth labels...\n",
      "tuning the threshold...\n"
     ]
    },
    {
     "name": "stderr",
     "output_type": "stream",
     "text": [
      "\r",
      "  0%|          | 0/690 [00:00<?, ?it/s]"
     ]
    },
    {
     "name": "stdout",
     "output_type": "stream",
     "text": [
      "scoring words...\n"
     ]
    },
    {
     "name": "stderr",
     "output_type": "stream",
     "text": [
      "100%|██████████| 690/690 [04:59<00:00,  2.30it/s]"
     ]
    },
    {
     "name": "stdout",
     "output_type": "stream",
     "text": [
      "extracting spans...\n",
      "done\n"
     ]
    },
    {
     "name": "stderr",
     "output_type": "stream",
     "text": [
      "\n"
     ]
    },
    {
     "data": {
      "text/plain": [
       "f1_scores    0.269715\n",
       "dtype: float64"
      ]
     },
     "execution_count": 91,
     "metadata": {
      "tags": []
     },
     "output_type": "execute_result"
    }
   ],
   "source": [
    "ie_lr = InputErasure(doc2vec,ml_validation[ml_validation.label==1], toxic_label = 1, non_toxic_label = 0)\n",
    "ie_lr.tune_threshold(lr, 'regressor')\n",
    "predictions = ie_lr.predict_spans(ml_trial[ml_trial.label==1], lr, 'regressor')\n",
    "lr_results = ie_lr.evaluate(ml_trial[ml_trial.label==1].spans,predictions)\n",
    "lr_results.mean()"
   ]
  },
  {
   "cell_type": "markdown",
   "metadata": {
    "id": "ajUnIk34RZ9P"
   },
   "source": [
    "And finally the Lasso Linear Classifier"
   ]
  },
  {
   "cell_type": "code",
   "execution_count": null,
   "metadata": {
    "colab": {
     "base_uri": "https://localhost:8080/"
    },
    "id": "dhFu8rnFKCbB",
    "outputId": "cda74c27-47ee-40c9-ba16-9c6d47a3d702"
   },
   "outputs": [
    {
     "name": "stderr",
     "output_type": "stream",
     "text": [
      "  0%|          | 2/1588 [00:00<01:57, 13.46it/s]"
     ]
    },
    {
     "name": "stdout",
     "output_type": "stream",
     "text": [
      "scoring words...\n"
     ]
    },
    {
     "name": "stderr",
     "output_type": "stream",
     "text": [
      "100%|██████████| 1588/1588 [12:40<00:00,  2.09it/s]\n"
     ]
    },
    {
     "name": "stdout",
     "output_type": "stream",
     "text": [
      "extracting ground truth labels...\n",
      "tuning the threshold...\n"
     ]
    },
    {
     "name": "stderr",
     "output_type": "stream",
     "text": [
      "\r",
      "  0%|          | 0/690 [00:00<?, ?it/s]"
     ]
    },
    {
     "name": "stdout",
     "output_type": "stream",
     "text": [
      "scoring words...\n"
     ]
    },
    {
     "name": "stderr",
     "output_type": "stream",
     "text": [
      "100%|██████████| 690/690 [05:00<00:00,  2.29it/s]"
     ]
    },
    {
     "name": "stdout",
     "output_type": "stream",
     "text": [
      "extracting spans...\n",
      "done\n"
     ]
    },
    {
     "name": "stderr",
     "output_type": "stream",
     "text": [
      "\n"
     ]
    },
    {
     "data": {
      "text/plain": [
       "f1_scores    0.260084\n",
       "dtype: float64"
      ]
     },
     "execution_count": 92,
     "metadata": {
      "tags": []
     },
     "output_type": "execute_result"
    }
   ],
   "source": [
    "ie_lasso = InputErasure(doc2vec,ml_validation[ml_validation.label==1], toxic_label = 1, non_toxic_label = 0)\n",
    "ie_lasso.tune_threshold(lasso, 'regressor')\n",
    "predictions = ie_lasso.predict_spans(ml_trial[ml_trial.label==1], lasso, 'regressor')\n",
    "lasso_results = ie_lasso.evaluate(ml_trial[ml_trial.label==1].spans,predictions)\n",
    "lasso_results.mean()"
   ]
  },
  {
   "cell_type": "code",
   "execution_count": null,
   "metadata": {
    "colab": {
     "base_uri": "https://localhost:8080/",
     "height": 589
    },
    "id": "2ha9FfmueUq_",
    "outputId": "1fb00a08-3a04-4e4d-eccb-e36c80d730e8"
   },
   "outputs": [
    {
     "name": "stderr",
     "output_type": "stream",
     "text": [
      "/usr/local/lib/python3.6/dist-packages/seaborn/distributions.py:2557: FutureWarning: `distplot` is a deprecated function and will be removed in a future version. Please adapt your code to use either `displot` (a figure-level function with similar flexibility) or `kdeplot` (an axes-level function for kernel density plots).\n",
      "  warnings.warn(msg, FutureWarning)\n",
      "/usr/local/lib/python3.6/dist-packages/seaborn/distributions.py:2557: FutureWarning: `distplot` is a deprecated function and will be removed in a future version. Please adapt your code to use either `displot` (a figure-level function with similar flexibility) or `kdeplot` (an axes-level function for kernel density plots).\n",
      "  warnings.warn(msg, FutureWarning)\n",
      "/usr/local/lib/python3.6/dist-packages/seaborn/distributions.py:2557: FutureWarning: `distplot` is a deprecated function and will be removed in a future version. Please adapt your code to use either `displot` (a figure-level function with similar flexibility) or `kdeplot` (an axes-level function for kernel density plots).\n",
      "  warnings.warn(msg, FutureWarning)\n"
     ]
    },
    {
     "data": {
      "image/png": "[encoded data removed]",
      "text/plain": [
       "<Figure size 720x432 with 1 Axes>"
      ]
     },
     "metadata": {
      "tags": []
     },
     "output_type": "display_data"
    },
    {
     "name": "stdout",
     "output_type": "stream",
     "text": [
      "Input Erasure with Random Classifier: 0.20270\n",
      "Input Erasure with Linear Classifier: 0.26972\n",
      "Input Erasure with Lasso Linear Classifier: 0.26008\n"
     ]
    }
   ],
   "source": [
    "fig, axs = plt.subplots(figsize=(10,6))\n",
    "sns.distplot(rfc_results.f1_scores, hist=False, label='Ramdom Forest Classifier')\n",
    "sns.distplot(lr_results.f1_scores, hist=False, label = 'Linear Regressions')\n",
    "sns.distplot(lasso_results.f1_scores, hist=False, label = 'Lasso')\n",
    "axs.title.set_text('Score Distribution on Trail Set')\n",
    "plt.legend()\n",
    "plt.show()\n",
    "\n",
    "print('Input Erasure with Random Classifier:', '%.5f' % rfc_results.f1_scores.mean())\n",
    "print('Input Erasure with Linear Classifier:', '%.5f' % lr_results.f1_scores.mean())\n",
    "print('Input Erasure with Lasso Linear Classifier:', '%.5f' % lasso_results.f1_scores.mean())"
   ]
  },
  {
   "cell_type": "markdown",
   "metadata": {
    "id": "EbbSyN85rHBH"
   },
   "source": [
    "One can observe that the Input Erasure with the Linear Approach was able to discriminate better toxic scores. The Lasso Linear Classifier did not overperform the unconstrained Linear Classifier though. The Input Erasure with the Random Forest Classifier performed poorly compared to the simpler linear approaches."
   ]
  },
  {
   "cell_type": "markdown",
   "metadata": {
    "id": "XklJhhaO4swX"
   },
   "source": [
    "## 4.2 RNN Approach\n",
    "\n",
    "As described in **1. Get The data** we have cloned a fork https://github.com/iliasKatsabalos/toxic_spans which contained some adjustments of the original repo, in order to enable the functionality of pretrained embeddings. The differences with the master of the original repo are highlighted [here](https://github.com/ipavlopoulos/toxic_spans/compare/master...iliasKatsabalos:pretrained_embeddings)"
   ]
  },
  {
   "cell_type": "code",
   "execution_count": null,
   "metadata": {
    "id": "mBllsxN33fBX"
   },
   "outputs": [],
   "source": [
    "#import all the necessary librarires\n",
    "from keras.preprocessing.sequence import pad_sequences\n",
    "from keras.models import Sequential, Input\n",
    "from keras.layers import Dense\n",
    "from keras.layers import Flatten\n",
    "from keras.layers.embeddings import Embedding\n",
    "from keras.preprocessing.text import Tokenizer\n",
    "from keras.optimizers import Adam\n",
    "import seaborn as sns\n",
    "from keras.models import Model, Input\n",
    "from keras.layers import GRU, LSTM, Embedding, Dense, TimeDistributed, Dropout, Bidirectional\n",
    "from keras import callbacks\n",
    "from keras.utils import plot_model"
   ]
  },
  {
   "cell_type": "code",
   "execution_count": null,
   "metadata": {
    "colab": {
     "base_uri": "https://localhost:8080/"
    },
    "id": "76p1V5aW7ObD",
    "outputId": "63a67322-0854-4fc3-c3a4-12c7b6be2469"
   },
   "outputs": [
    {
     "name": "stdout",
     "output_type": "stream",
     "text": [
      "Collecting lime\n",
      "\u001b[?25l  Downloading https://files.pythonhosted.org/packages/f5/86/91a13127d83d793ecb50eb75e716f76e6eda809b6803c5a4ff462339789e/lime-0.2.0.1.tar.gz (275kB)\n",
      "\r",
      "\u001b[K     |█▏                              | 10kB 26.4MB/s eta 0:00:01\r",
      "\u001b[K     |██▍                             | 20kB 20.7MB/s eta 0:00:01\r",
      "\u001b[K     |███▋                            | 30kB 12.5MB/s eta 0:00:01\r",
      "\u001b[K     |████▊                           | 40kB 10.3MB/s eta 0:00:01\r",
      "\u001b[K     |██████                          | 51kB 5.2MB/s eta 0:00:01\r",
      "\u001b[K     |███████▏                        | 61kB 5.8MB/s eta 0:00:01\r",
      "\u001b[K     |████████▎                       | 71kB 5.9MB/s eta 0:00:01\r",
      "\u001b[K     |█████████▌                      | 81kB 6.5MB/s eta 0:00:01\r",
      "\u001b[K     |██████████▊                     | 92kB 6.8MB/s eta 0:00:01\r",
      "\u001b[K     |███████████▉                    | 102kB 5.1MB/s eta 0:00:01\r",
      "\u001b[K     |█████████████                   | 112kB 5.1MB/s eta 0:00:01\r",
      "\u001b[K     |██████████████▎                 | 122kB 5.1MB/s eta 0:00:01\r",
      "\u001b[K     |███████████████▌                | 133kB 5.1MB/s eta 0:00:01\r",
      "\u001b[K     |████████████████▋               | 143kB 5.1MB/s eta 0:00:01\r",
      "\u001b[K     |█████████████████▉              | 153kB 5.1MB/s eta 0:00:01\r",
      "\u001b[K     |███████████████████             | 163kB 5.1MB/s eta 0:00:01\r",
      "\u001b[K     |████████████████████▏           | 174kB 5.1MB/s eta 0:00:01\r",
      "\u001b[K     |█████████████████████▍          | 184kB 5.1MB/s eta 0:00:01\r",
      "\u001b[K     |██████████████████████▋         | 194kB 5.1MB/s eta 0:00:01\r",
      "\u001b[K     |███████████████████████▊        | 204kB 5.1MB/s eta 0:00:01\r",
      "\u001b[K     |█████████████████████████       | 215kB 5.1MB/s eta 0:00:01\r",
      "\u001b[K     |██████████████████████████▏     | 225kB 5.1MB/s eta 0:00:01\r",
      "\u001b[K     |███████████████████████████▍    | 235kB 5.1MB/s eta 0:00:01\r",
      "\u001b[K     |████████████████████████████▌   | 245kB 5.1MB/s eta 0:00:01\r",
      "\u001b[K     |█████████████████████████████▊  | 256kB 5.1MB/s eta 0:00:01\r",
      "\u001b[K     |███████████████████████████████ | 266kB 5.1MB/s eta 0:00:01\r",
      "\u001b[K     |████████████████████████████████| 276kB 5.1MB/s \n",
      "\u001b[?25hRequirement already satisfied: matplotlib in /usr/local/lib/python3.6/dist-packages (from lime) (3.2.2)\n",
      "Requirement already satisfied: numpy in /usr/local/lib/python3.6/dist-packages (from lime) (1.19.5)\n",
      "Requirement already satisfied: scipy in /usr/local/lib/python3.6/dist-packages (from lime) (1.4.1)\n",
      "Requirement already satisfied: tqdm in /usr/local/lib/python3.6/dist-packages (from lime) (4.41.1)\n",
      "Requirement already satisfied: scikit-learn>=0.18 in /usr/local/lib/python3.6/dist-packages (from lime) (0.22.2.post1)\n",
      "Requirement already satisfied: scikit-image>=0.12 in /usr/local/lib/python3.6/dist-packages (from lime) (0.16.2)\n",
      "Requirement already satisfied: cycler>=0.10 in /usr/local/lib/python3.6/dist-packages (from matplotlib->lime) (0.10.0)\n",
      "Requirement already satisfied: kiwisolver>=1.0.1 in /usr/local/lib/python3.6/dist-packages (from matplotlib->lime) (1.3.1)\n",
      "Requirement already satisfied: python-dateutil>=2.1 in /usr/local/lib/python3.6/dist-packages (from matplotlib->lime) (2.8.1)\n",
      "Requirement already satisfied: pyparsing!=2.0.4,!=2.1.2,!=2.1.6,>=2.0.1 in /usr/local/lib/python3.6/dist-packages (from matplotlib->lime) (2.4.7)\n",
      "Requirement already satisfied: joblib>=0.11 in /usr/local/lib/python3.6/dist-packages (from scikit-learn>=0.18->lime) (1.0.0)\n",
      "Requirement already satisfied: networkx>=2.0 in /usr/local/lib/python3.6/dist-packages (from scikit-image>=0.12->lime) (2.5)\n",
      "Requirement already satisfied: PyWavelets>=0.4.0 in /usr/local/lib/python3.6/dist-packages (from scikit-image>=0.12->lime) (1.1.1)\n",
      "Requirement already satisfied: imageio>=2.3.0 in /usr/local/lib/python3.6/dist-packages (from scikit-image>=0.12->lime) (2.4.1)\n",
      "Requirement already satisfied: pillow>=4.3.0 in /usr/local/lib/python3.6/dist-packages (from scikit-image>=0.12->lime) (7.0.0)\n",
      "Requirement already satisfied: six in /usr/local/lib/python3.6/dist-packages (from cycler>=0.10->matplotlib->lime) (1.15.0)\n",
      "Requirement already satisfied: decorator>=4.3.0 in /usr/local/lib/python3.6/dist-packages (from networkx>=2.0->scikit-image>=0.12->lime) (4.4.2)\n",
      "Building wheels for collected packages: lime\n",
      "  Building wheel for lime (setup.py) ... \u001b[?25l\u001b[?25hdone\n",
      "  Created wheel for lime: filename=lime-0.2.0.1-cp36-none-any.whl size=283846 sha256=ee904628705d66d574d6a3eda53c050873bd490086c9d874e49530c84743bed8\n",
      "  Stored in directory: /root/.cache/pip/wheels/4c/4f/a5/0bc765457bd41378bf3ce8d17d7495369d6e7ca3b712c60c89\n",
      "Successfully built lime\n",
      "Installing collected packages: lime\n",
      "Successfully installed lime-0.2.0.1\n"
     ]
    }
   ],
   "source": [
    "#install lime\n",
    "!pip install lime\n",
    "%load_ext autoreload\n",
    "%autoreload 2"
   ]
  },
  {
   "cell_type": "code",
   "execution_count": null,
   "metadata": {
    "id": "UbMLDzEQLUeE"
   },
   "outputs": [],
   "source": [
    "def ground_truth_label(all_spans, toxic_spans, toxic_label=[0,0,1], non_toxic_label=[0,1,0]):\n",
    "    '''\n",
    "    Returns the ground thruth label for each word\n",
    "    \n",
    "    Parameters:\n",
    "        all_spans (list): list of tuples containing the spans of all the tokens\n",
    "                            where the first element of the tuple is the beginning of the span\n",
    "                            and the second element is the end of the token span\n",
    "        toxic_spans (list): list of integers containing the toxic spans\n",
    "        toxic_label (int/list): labels each token as toxic\n",
    "        non_toxic_label (int/list): labels each token as non toxic\n",
    "    \n",
    "    Returns:\n",
    "        np.array: ground truth labels for each token of a doc\n",
    "    '''\n",
    "    ground_truth = [toxic_label if span[0] in toxic_spans or span[1] in toxic_spans else non_toxic_label for span in all_spans]\n",
    "    return np.array(ground_truth)\n",
    "\n",
    "#The Xs for the current set up are tokenized texts\n",
    "X_train = train.tokenized_text\n",
    "#Getting the ground thruth label for our train set. \n",
    "#Since the architecture of the RNN has a Time Distributed Layer with 3 nodes\n",
    "#we need to adjust, thus we use an array with 3 dimensions as a label\n",
    "y_train = train.apply(lambda x: ground_truth_label(x.all_spans, x.spans), axis=1)"
   ]
  },
  {
   "cell_type": "markdown",
   "metadata": {
    "id": "_WWmiS-42Yl9"
   },
   "source": [
    "We will start by fitting an RNN without embeddings and a max length of 128 words"
   ]
  },
  {
   "cell_type": "code",
   "execution_count": null,
   "metadata": {
    "id": "lUYllJNxME7I"
   },
   "outputs": [],
   "source": [
    "from toxic_spans.baselines.models import RNNSL\n",
    "rnn_no_emb_128 = RNNSL(max_epochs=15, maxlen=128)\n",
    "rnn_no_emb_128.fit(train.tokenized_text, y_train)"
   ]
  },
  {
   "cell_type": "code",
   "execution_count": null,
   "metadata": {
    "id": "8HHdQLBD87-9"
   },
   "outputs": [],
   "source": [
    "def predict_spans(data, model, threshold):\n",
    "    '''\n",
    "    based on a threshold, decide if a word is toxic or non toxic and\n",
    "    retrive the continuous spans\n",
    "\n",
    "    Parameters:\n",
    "        data (pandas dataframe): a dataframe that contains a tokenized text\n",
    "        model (obj): RNN trained model\n",
    "        threshold (float): a number which is the cut off score for a toxic word\n",
    "    Returns:\n",
    "        predicted_spans (list): list of continous indices assigned as toxic\n",
    "    '''\n",
    "    data['word_scores'] = model.predict(data.tokenized_text)\n",
    "    predicted_spans = []\n",
    "    #iterate over the rows of the dataframe\n",
    "    for _, row in data.iterrows():\n",
    "        spans = []\n",
    "        #iterate over the tokens of a text\n",
    "        for index in range(min(len(row.tokenized_text), model.maxlen)):\n",
    "            word_score = row.word_scores[index]\n",
    "            #if the word score of the token is above the threshold, get the continuous span\n",
    "            if word_score > threshold:\n",
    "                span = row.all_spans[index]\n",
    "                for char in range(span[0], span[1]):\n",
    "                #append all indices of the characters\n",
    "                    spans.append(char)\n",
    "        predicted_spans.append(spans)\n",
    "    return predicted_spans\n",
    "\n",
    "from toxic_spans.evaluation.semeval2021 import f1\n",
    "\n",
    "def tune_rnn_threshold(validation_data, model):\n",
    "    '''\n",
    "    For different value of thresholds, calculate the f1 score and keep the optimal threshold\n",
    "\n",
    "    Parameters:\n",
    "        validation_data (dataframe): dataframe with tokenized texts\n",
    "        model (RNN): trained RNN model\n",
    "\n",
    "    '''\n",
    "    #get the initial predicted spans\n",
    "    predicted_spans = predict_spans(validation_data, model, model.threshold)\n",
    "    #calculate the initial f1 score\n",
    "    result = pd.DataFrame({'gold':validation.spans, 'predicted':predicted_spans})\n",
    "    result[\"f1_scores\"] = result.apply(lambda row: f1(row.predicted, row.gold), axis=1)\n",
    "    opt_score = result.f1_scores.mean()\n",
    "    #loop through different thresholds\n",
    "    for thr in tqdm(np.linspace(0.15,0.5,40), position=0, leave=True):\n",
    "        #get the preducted spans\n",
    "        predicted_spans = predict_spans(validation_data, model, thr)\n",
    "        #calculate the updated score\n",
    "        result = pd.DataFrame({'gold':validation.spans, 'predicted':predicted_spans})\n",
    "        result[\"f1_scores\"] = result.apply(lambda row: f1(row.predicted, row.gold), axis=1)\n",
    "        score = result.f1_scores.mean()\n",
    "        #if the new score is higher, proceed updating optmial score and model threshold\n",
    "        if score > opt_score:\n",
    "            opt_score = score\n",
    "            model.threshold = thr\n",
    "\n",
    "validation['ground_truth_label'] = validation.apply(lambda x: ground_truth_label(x.all_spans, x.spans, toxic_label=2, non_toxic_label=1), axis=1)"
   ]
  },
  {
   "cell_type": "code",
   "execution_count": null,
   "metadata": {
    "colab": {
     "base_uri": "https://localhost:8080/"
    },
    "id": "7DwWngjUEp_E",
    "outputId": "8c3b372f-e4b7-4b48-cb93-1463767ee192"
   },
   "outputs": [
    {
     "name": "stderr",
     "output_type": "stream",
     "text": [
      "100%|██████████| 40/40 [03:12<00:00,  4.81s/it]\n"
     ]
    },
    {
     "name": "stdout",
     "output_type": "stream",
     "text": [
      "f1 score: 0.5728349574324381\n"
     ]
    }
   ],
   "source": [
    "tune_rnn_threshold(validation, rnn_no_emb_128)\n",
    "rnn_no_emb_128_predicted_spans = predict_spans(trial, rnn_no_emb_128, rnn_no_emb_128.threshold)\n",
    "result_rnn_no_emb_128 = pd.DataFrame({'gold':trial.spans, 'predicted':rnn_no_emb_128_predicted_spans})\n",
    "result_rnn_no_emb_128[\"f1_scores\"] = result_rnn_no_emb_128.apply(lambda row: f1(row.predicted, row.gold), axis=1)\n",
    "print('f1 score:', result_rnn_no_emb_128.f1_scores.mean())"
   ]
  },
  {
   "cell_type": "markdown",
   "metadata": {
    "id": "noiIDSg5HYFX"
   },
   "source": [
    "No we will fit the same model using pretrained embeddings"
   ]
  },
  {
   "cell_type": "code",
   "execution_count": null,
   "metadata": {
    "colab": {
     "base_uri": "https://localhost:8080/",
     "height": 847
    },
    "id": "N5WbRqKOHgfs",
    "outputId": "dae49e1a-93ea-45d4-b078-f2feff292bd8"
   },
   "outputs": [
    {
     "name": "stdout",
     "output_type": "stream",
     "text": [
      "WARNING:tensorflow:Layer lstm_1 will not use cuDNN kernel since it doesn't meet the cuDNN kernel criteria. It will use generic GPU kernel as fallback when running on GPU\n",
      "WARNING:tensorflow:Layer lstm_1 will not use cuDNN kernel since it doesn't meet the cuDNN kernel criteria. It will use generic GPU kernel as fallback when running on GPU\n",
      "WARNING:tensorflow:Layer lstm_1 will not use cuDNN kernel since it doesn't meet the cuDNN kernel criteria. It will use generic GPU kernel as fallback when running on GPU\n",
      "Model: \"model_1\"\n",
      "_________________________________________________________________\n",
      "Layer (type)                 Output Shape              Param #   \n",
      "=================================================================\n",
      "input_5 (InputLayer)         [(None, 128)]             0         \n",
      "_________________________________________________________________\n",
      "embedding_1 (Embedding)      (None, 128, 200)          4971000   \n",
      "_________________________________________________________________\n",
      "dropout_1 (Dropout)          (None, 128, 200)          0         \n",
      "_________________________________________________________________\n",
      "bidirectional_1 (Bidirection (None, 128, 400)          641600    \n",
      "_________________________________________________________________\n",
      "time_distributed_1 (TimeDist (None, 128, 3)            1203      \n",
      "=================================================================\n",
      "Total params: 5,613,803\n",
      "Trainable params: 5,613,803\n",
      "Non-trainable params: 0\n",
      "_________________________________________________________________\n",
      "None\n",
      "Epoch 1/15\n",
      "179/179 [==============================] - 199s 1s/step - loss: 0.0618 - accuracy: 0.9261 - precision: 0.8829 - recall: 0.9076 - auc: 0.9630 - val_loss: 0.0415 - val_accuracy: 0.9577 - val_precision: 0.9365 - val_recall: 0.9367 - val_auc: 0.9805\n",
      "Epoch 2/15\n",
      "179/179 [==============================] - 188s 1s/step - loss: 0.0406 - accuracy: 0.9600 - precision: 0.9400 - recall: 0.9399 - auc: 0.9834 - val_loss: 0.0408 - val_accuracy: 0.9579 - val_precision: 0.9370 - val_recall: 0.9367 - val_auc: 0.9818\n",
      "Epoch 3/15\n",
      "179/179 [==============================] - 185s 1s/step - loss: 0.0394 - accuracy: 0.9594 - precision: 0.9390 - recall: 0.9393 - auc: 0.9848 - val_loss: 0.0398 - val_accuracy: 0.9599 - val_precision: 0.9397 - val_recall: 0.9402 - val_auc: 0.9825\n",
      "Epoch 4/15\n",
      "179/179 [==============================] - 190s 1s/step - loss: 0.0380 - accuracy: 0.9594 - precision: 0.9391 - recall: 0.9392 - auc: 0.9873 - val_loss: 0.0420 - val_accuracy: 0.9592 - val_precision: 0.9389 - val_recall: 0.9387 - val_auc: 0.9806\n",
      "Epoch 5/15\n",
      "179/179 [==============================] - 187s 1s/step - loss: 0.0257 - accuracy: 0.9690 - precision: 0.9536 - recall: 0.9533 - auc: 0.9946 - val_loss: 0.0478 - val_accuracy: 0.9538 - val_precision: 0.9307 - val_recall: 0.9306 - val_auc: 0.9774\n",
      "Epoch 6/15\n",
      "179/179 [==============================] - 191s 1s/step - loss: 0.0188 - accuracy: 0.9767 - precision: 0.9649 - recall: 0.9651 - auc: 0.9972 - val_loss: 0.0522 - val_accuracy: 0.9515 - val_precision: 0.9273 - val_recall: 0.9271 - val_auc: 0.9759\n",
      "Restoring model weights from the end of the best epoch.\n",
      "Epoch 00006: early stopping\n"
     ]
    },
    {
     "data": {
      "text/html": [
       "<div>\n",
       "<style scoped>\n",
       "    .dataframe tbody tr th:only-of-type {\n",
       "        vertical-align: middle;\n",
       "    }\n",
       "\n",
       "    .dataframe tbody tr th {\n",
       "        vertical-align: top;\n",
       "    }\n",
       "\n",
       "    .dataframe thead th {\n",
       "        text-align: right;\n",
       "    }\n",
       "</style>\n",
       "<table border=\"1\" class=\"dataframe\">\n",
       "  <thead>\n",
       "    <tr style=\"text-align: right;\">\n",
       "      <th></th>\n",
       "      <th>loss</th>\n",
       "      <th>accuracy</th>\n",
       "      <th>precision</th>\n",
       "      <th>recall</th>\n",
       "      <th>auc</th>\n",
       "      <th>val_loss</th>\n",
       "      <th>val_accuracy</th>\n",
       "      <th>val_precision</th>\n",
       "      <th>val_recall</th>\n",
       "      <th>val_auc</th>\n",
       "    </tr>\n",
       "  </thead>\n",
       "  <tbody>\n",
       "    <tr>\n",
       "      <th>0</th>\n",
       "      <td>0.049943</td>\n",
       "      <td>0.948507</td>\n",
       "      <td>0.919761</td>\n",
       "      <td>0.926335</td>\n",
       "      <td>0.975660</td>\n",
       "      <td>0.041513</td>\n",
       "      <td>0.957731</td>\n",
       "      <td>0.936504</td>\n",
       "      <td>0.936702</td>\n",
       "      <td>0.980541</td>\n",
       "    </tr>\n",
       "    <tr>\n",
       "      <th>1</th>\n",
       "      <td>0.042704</td>\n",
       "      <td>0.957766</td>\n",
       "      <td>0.936698</td>\n",
       "      <td>0.936593</td>\n",
       "      <td>0.981624</td>\n",
       "      <td>0.040824</td>\n",
       "      <td>0.957915</td>\n",
       "      <td>0.936983</td>\n",
       "      <td>0.936745</td>\n",
       "      <td>0.981787</td>\n",
       "    </tr>\n",
       "    <tr>\n",
       "      <th>2</th>\n",
       "      <td>0.040140</td>\n",
       "      <td>0.959350</td>\n",
       "      <td>0.938929</td>\n",
       "      <td>0.939136</td>\n",
       "      <td>0.984393</td>\n",
       "      <td>0.039807</td>\n",
       "      <td>0.959950</td>\n",
       "      <td>0.939664</td>\n",
       "      <td>0.940221</td>\n",
       "      <td>0.982494</td>\n",
       "    </tr>\n",
       "    <tr>\n",
       "      <th>3</th>\n",
       "      <td>0.035069</td>\n",
       "      <td>0.961467</td>\n",
       "      <td>0.942146</td>\n",
       "      <td>0.942264</td>\n",
       "      <td>0.989552</td>\n",
       "      <td>0.041964</td>\n",
       "      <td>0.959215</td>\n",
       "      <td>0.938934</td>\n",
       "      <td>0.938695</td>\n",
       "      <td>0.980589</td>\n",
       "    </tr>\n",
       "    <tr>\n",
       "      <th>4</th>\n",
       "      <td>0.025169</td>\n",
       "      <td>0.970071</td>\n",
       "      <td>0.955188</td>\n",
       "      <td>0.955016</td>\n",
       "      <td>0.994868</td>\n",
       "      <td>0.047798</td>\n",
       "      <td>0.953788</td>\n",
       "      <td>0.930719</td>\n",
       "      <td>0.930640</td>\n",
       "      <td>0.977415</td>\n",
       "    </tr>\n",
       "    <tr>\n",
       "      <th>5</th>\n",
       "      <td>0.018882</td>\n",
       "      <td>0.976728</td>\n",
       "      <td>0.965010</td>\n",
       "      <td>0.965180</td>\n",
       "      <td>0.997034</td>\n",
       "      <td>0.052161</td>\n",
       "      <td>0.951485</td>\n",
       "      <td>0.927317</td>\n",
       "      <td>0.927121</td>\n",
       "      <td>0.975910</td>\n",
       "    </tr>\n",
       "  </tbody>\n",
       "</table>\n",
       "</div>"
      ],
      "text/plain": [
       "       loss  accuracy  precision  ...  val_precision  val_recall   val_auc\n",
       "0  0.049943  0.948507   0.919761  ...       0.936504    0.936702  0.980541\n",
       "1  0.042704  0.957766   0.936698  ...       0.936983    0.936745  0.981787\n",
       "2  0.040140  0.959350   0.938929  ...       0.939664    0.940221  0.982494\n",
       "3  0.035069  0.961467   0.942146  ...       0.938934    0.938695  0.980589\n",
       "4  0.025169  0.970071   0.955188  ...       0.930719    0.930640  0.977415\n",
       "5  0.018882  0.976728   0.965010  ...       0.927317    0.927121  0.975910\n",
       "\n",
       "[6 rows x 10 columns]"
      ]
     },
     "execution_count": 28,
     "metadata": {
      "tags": []
     },
     "output_type": "execute_result"
    }
   ],
   "source": [
    "rnn_128 = RNNSL(max_epochs=15, embeddings=embeddings ,maxlen=128, patience=3)\n",
    "rnn_128.fit(train.tokenized_text, y_train)"
   ]
  },
  {
   "cell_type": "markdown",
   "metadata": {
    "id": "sYZ3H7wGLETT"
   },
   "source": [
    "Then tune its threshold"
   ]
  },
  {
   "cell_type": "code",
   "execution_count": null,
   "metadata": {
    "colab": {
     "base_uri": "https://localhost:8080/"
    },
    "id": "buPpl6DjK7C0",
    "outputId": "1dc63048-15d2-4fab-f9db-362d1dae5585"
   },
   "outputs": [
    {
     "name": "stderr",
     "output_type": "stream",
     "text": [
      "100%|██████████| 40/40 [03:15<00:00,  4.88s/it]\n"
     ]
    }
   ],
   "source": [
    "tune_rnn_threshold(validation, rnn_128)"
   ]
  },
  {
   "cell_type": "markdown",
   "metadata": {
    "id": "mlG9-TMuHcOn"
   },
   "source": [
    "Then calculate the f1 score"
   ]
  },
  {
   "cell_type": "code",
   "execution_count": null,
   "metadata": {
    "colab": {
     "base_uri": "https://localhost:8080/"
    },
    "id": "W7V4jKREM97Z",
    "outputId": "4f080834-4d91-45da-b8a2-455faa9d44f6"
   },
   "outputs": [
    {
     "data": {
      "text/plain": [
       "0.5803486052677287"
      ]
     },
     "execution_count": 31,
     "metadata": {
      "tags": []
     },
     "output_type": "execute_result"
    }
   ],
   "source": [
    "rnn_128_predicted_spans = predict_spans(trial, rnn_128, rnn_128.threshold)\n",
    "result_rnn_128 = pd.DataFrame({'gold':trial.spans, 'predicted':rnn_128_predicted_spans})\n",
    "result_rnn_128[\"f1_scores\"] = result_rnn_128.apply(lambda row: f1(row.predicted, row.gold), axis=1)\n",
    "result_rnn_128.f1_scores.mean()"
   ]
  },
  {
   "cell_type": "markdown",
   "metadata": {
    "id": "dtiu3sVitXcE"
   },
   "source": [
    "Next we can try a model with naxlen = 80"
   ]
  },
  {
   "cell_type": "code",
   "execution_count": null,
   "metadata": {
    "colab": {
     "base_uri": "https://localhost:8080/",
     "height": 784
    },
    "id": "92ymr6XZtmUk",
    "outputId": "b28947d9-a9d5-468a-d7aa-f5ba48ad116f"
   },
   "outputs": [
    {
     "name": "stdout",
     "output_type": "stream",
     "text": [
      "WARNING:tensorflow:Layer lstm_3 will not use cuDNN kernel since it doesn't meet the cuDNN kernel criteria. It will use generic GPU kernel as fallback when running on GPU\n",
      "WARNING:tensorflow:Layer lstm_3 will not use cuDNN kernel since it doesn't meet the cuDNN kernel criteria. It will use generic GPU kernel as fallback when running on GPU\n",
      "WARNING:tensorflow:Layer lstm_3 will not use cuDNN kernel since it doesn't meet the cuDNN kernel criteria. It will use generic GPU kernel as fallback when running on GPU\n",
      "Model: \"model_3\"\n",
      "_________________________________________________________________\n",
      "Layer (type)                 Output Shape              Param #   \n",
      "=================================================================\n",
      "input_7 (InputLayer)         [(None, 80)]              0         \n",
      "_________________________________________________________________\n",
      "embedding_3 (Embedding)      (None, 80, 200)           4971000   \n",
      "_________________________________________________________________\n",
      "dropout_3 (Dropout)          (None, 80, 200)           0         \n",
      "_________________________________________________________________\n",
      "bidirectional_3 (Bidirection (None, 80, 400)           641600    \n",
      "_________________________________________________________________\n",
      "time_distributed_3 (TimeDist (None, 80, 3)             1203      \n",
      "=================================================================\n",
      "Total params: 5,613,803\n",
      "Trainable params: 5,613,803\n",
      "Non-trainable params: 0\n",
      "_________________________________________________________________\n",
      "None\n",
      "Epoch 1/15\n",
      "179/179 [==============================] - 124s 665ms/step - loss: 0.0890 - accuracy: 0.9387 - precision: 0.8976 - recall: 0.9264 - auc: 0.9688 - val_loss: 0.0617 - val_accuracy: 0.9564 - val_precision: 0.9346 - val_recall: 0.9347 - val_auc: 0.9801\n",
      "Epoch 2/15\n",
      "179/179 [==============================] - 117s 655ms/step - loss: 0.0621 - accuracy: 0.9568 - precision: 0.9352 - recall: 0.9353 - auc: 0.9819 - val_loss: 0.0593 - val_accuracy: 0.9582 - val_precision: 0.9373 - val_recall: 0.9372 - val_auc: 0.9821\n",
      "Epoch 3/15\n",
      "179/179 [==============================] - 117s 650ms/step - loss: 0.0556 - accuracy: 0.9609 - precision: 0.9414 - recall: 0.9413 - auc: 0.9867 - val_loss: 0.0610 - val_accuracy: 0.9583 - val_precision: 0.9373 - val_recall: 0.9376 - val_auc: 0.9816\n",
      "Epoch 4/15\n",
      "179/179 [==============================] - 114s 635ms/step - loss: 0.0513 - accuracy: 0.9601 - precision: 0.9403 - recall: 0.9399 - auc: 0.9900 - val_loss: 0.0649 - val_accuracy: 0.9567 - val_precision: 0.9349 - val_recall: 0.9352 - val_auc: 0.9792\n",
      "Epoch 5/15\n",
      "179/179 [==============================] - 117s 655ms/step - loss: 0.0339 - accuracy: 0.9721 - precision: 0.9580 - recall: 0.9582 - auc: 0.9957 - val_loss: 0.0739 - val_accuracy: 0.9539 - val_precision: 0.9308 - val_recall: 0.9308 - val_auc: 0.9761\n",
      "Restoring model weights from the end of the best epoch.\n",
      "Epoch 00005: early stopping\n"
     ]
    },
    {
     "data": {
      "text/html": [
       "<div>\n",
       "<style scoped>\n",
       "    .dataframe tbody tr th:only-of-type {\n",
       "        vertical-align: middle;\n",
       "    }\n",
       "\n",
       "    .dataframe tbody tr th {\n",
       "        vertical-align: top;\n",
       "    }\n",
       "\n",
       "    .dataframe thead th {\n",
       "        text-align: right;\n",
       "    }\n",
       "</style>\n",
       "<table border=\"1\" class=\"dataframe\">\n",
       "  <thead>\n",
       "    <tr style=\"text-align: right;\">\n",
       "      <th></th>\n",
       "      <th>loss</th>\n",
       "      <th>accuracy</th>\n",
       "      <th>precision</th>\n",
       "      <th>recall</th>\n",
       "      <th>auc</th>\n",
       "      <th>val_loss</th>\n",
       "      <th>val_accuracy</th>\n",
       "      <th>val_precision</th>\n",
       "      <th>val_recall</th>\n",
       "      <th>val_auc</th>\n",
       "    </tr>\n",
       "  </thead>\n",
       "  <tbody>\n",
       "    <tr>\n",
       "      <th>0</th>\n",
       "      <td>0.072772</td>\n",
       "      <td>0.950330</td>\n",
       "      <td>0.922556</td>\n",
       "      <td>0.928973</td>\n",
       "      <td>0.975428</td>\n",
       "      <td>0.061687</td>\n",
       "      <td>0.956422</td>\n",
       "      <td>0.934593</td>\n",
       "      <td>0.934680</td>\n",
       "      <td>0.980088</td>\n",
       "    </tr>\n",
       "    <tr>\n",
       "      <th>1</th>\n",
       "      <td>0.062735</td>\n",
       "      <td>0.956439</td>\n",
       "      <td>0.934597</td>\n",
       "      <td>0.934727</td>\n",
       "      <td>0.981477</td>\n",
       "      <td>0.059318</td>\n",
       "      <td>0.958164</td>\n",
       "      <td>0.937287</td>\n",
       "      <td>0.937200</td>\n",
       "      <td>0.982062</td>\n",
       "    </tr>\n",
       "    <tr>\n",
       "      <th>2</th>\n",
       "      <td>0.057929</td>\n",
       "      <td>0.958270</td>\n",
       "      <td>0.937416</td>\n",
       "      <td>0.937393</td>\n",
       "      <td>0.985286</td>\n",
       "      <td>0.060993</td>\n",
       "      <td>0.958289</td>\n",
       "      <td>0.937270</td>\n",
       "      <td>0.937620</td>\n",
       "      <td>0.981650</td>\n",
       "    </tr>\n",
       "    <tr>\n",
       "      <th>3</th>\n",
       "      <td>0.048687</td>\n",
       "      <td>0.961419</td>\n",
       "      <td>0.942214</td>\n",
       "      <td>0.942031</td>\n",
       "      <td>0.990693</td>\n",
       "      <td>0.064945</td>\n",
       "      <td>0.956687</td>\n",
       "      <td>0.934888</td>\n",
       "      <td>0.935193</td>\n",
       "      <td>0.979227</td>\n",
       "    </tr>\n",
       "    <tr>\n",
       "      <th>4</th>\n",
       "      <td>0.033007</td>\n",
       "      <td>0.971937</td>\n",
       "      <td>0.957827</td>\n",
       "      <td>0.957990</td>\n",
       "      <td>0.995769</td>\n",
       "      <td>0.073868</td>\n",
       "      <td>0.953872</td>\n",
       "      <td>0.930848</td>\n",
       "      <td>0.930761</td>\n",
       "      <td>0.976052</td>\n",
       "    </tr>\n",
       "  </tbody>\n",
       "</table>\n",
       "</div>"
      ],
      "text/plain": [
       "       loss  accuracy  precision  ...  val_precision  val_recall   val_auc\n",
       "0  0.072772  0.950330   0.922556  ...       0.934593    0.934680  0.980088\n",
       "1  0.062735  0.956439   0.934597  ...       0.937287    0.937200  0.982062\n",
       "2  0.057929  0.958270   0.937416  ...       0.937270    0.937620  0.981650\n",
       "3  0.048687  0.961419   0.942214  ...       0.934888    0.935193  0.979227\n",
       "4  0.033007  0.971937   0.957827  ...       0.930848    0.930761  0.976052\n",
       "\n",
       "[5 rows x 10 columns]"
      ]
     },
     "execution_count": 34,
     "metadata": {
      "tags": []
     },
     "output_type": "execute_result"
    }
   ],
   "source": [
    "rnn_80 = RNNSL(max_epochs=15, embeddings=embeddings ,maxlen=80, patience=3)\n",
    "rnn_80.fit(train.tokenized_text, y_train)"
   ]
  },
  {
   "cell_type": "markdown",
   "metadata": {
    "id": "n216C0sNxR4z"
   },
   "source": [
    "Tune its threshold"
   ]
  },
  {
   "cell_type": "code",
   "execution_count": null,
   "metadata": {
    "colab": {
     "base_uri": "https://localhost:8080/"
    },
    "id": "qbkf7Zu1wBRx",
    "outputId": "085a5385-f30d-40f4-879c-8542d705bf61"
   },
   "outputs": [
    {
     "name": "stderr",
     "output_type": "stream",
     "text": [
      "100%|██████████| 40/40 [02:10<00:00,  3.27s/it]\n"
     ]
    }
   ],
   "source": [
    "tune_rnn_threshold(validation, rnn_80)"
   ]
  },
  {
   "cell_type": "markdown",
   "metadata": {
    "id": "MW3VBXJpxU2L"
   },
   "source": [
    "Calculate its score"
   ]
  },
  {
   "cell_type": "code",
   "execution_count": null,
   "metadata": {
    "colab": {
     "base_uri": "https://localhost:8080/"
    },
    "id": "zvqHS6uUwmep",
    "outputId": "d2777ed1-f07b-4238-bf0a-e8b55989c0f1"
   },
   "outputs": [
    {
     "data": {
      "text/plain": [
       "0.5301957689370314"
      ]
     },
     "execution_count": 36,
     "metadata": {
      "tags": []
     },
     "output_type": "execute_result"
    }
   ],
   "source": [
    "rnn_80_predicted_spans = predict_spans(trial, rnn_80, rnn_80.threshold)\n",
    "result_rnn_80 = pd.DataFrame({'gold':trial.spans, 'predicted':rnn_80_predicted_spans})\n",
    "result_rnn_80[\"f1_scores\"] = result_rnn_80.apply(lambda row: f1(row.predicted, row.gold), axis=1)\n",
    "result_rnn_80.f1_scores.mean()"
   ]
  },
  {
   "cell_type": "markdown",
   "metadata": {
    "id": "fOHIWwX3xbM7"
   },
   "source": [
    "We will also fit a model with a bigger max len, in order to cover longer texts."
   ]
  },
  {
   "cell_type": "code",
   "execution_count": null,
   "metadata": {
    "colab": {
     "base_uri": "https://localhost:8080/"
    },
    "id": "TBGek1jmwgWO",
    "outputId": "6f90feda-7097-4059-a265-e083a5b8e148"
   },
   "outputs": [
    {
     "name": "stderr",
     "output_type": "stream",
     "text": [
      "100%|██████████| 40/40 [05:22<00:00,  8.06s/it]\n"
     ]
    },
    {
     "data": {
      "text/plain": [
       "0.6024498935114695"
      ]
     },
     "execution_count": 32,
     "metadata": {
      "tags": []
     },
     "output_type": "execute_result"
    }
   ],
   "source": [
    "#tune_rnn_threshold(validation, rnn_256)\n",
    "rnn_256_predicted_spans = predict_spans(trial, rnn_256, rnn_256.threshold)\n",
    "result_rnn_256 = pd.DataFrame({'gold':trial.spans, 'predicted':rnn_256_predicted_spans})\n",
    "result_rnn_256[\"f1_scores\"] = result_rnn_256.apply(lambda row: f1(row.predicted, row.gold), axis=1)\n",
    "result_rnn_256.f1_scores.mean()"
   ]
  },
  {
   "cell_type": "code",
   "execution_count": null,
   "metadata": {
    "colab": {
     "base_uri": "https://localhost:8080/",
     "height": 847
    },
    "id": "gIEeOX7-w5VB",
    "outputId": "a2138c11-5e85-43e8-8b29-760738f6f9ea"
   },
   "outputs": [
    {
     "name": "stdout",
     "output_type": "stream",
     "text": [
      "WARNING:tensorflow:Layer lstm_5 will not use cuDNN kernel since it doesn't meet the cuDNN kernel criteria. It will use generic GPU kernel as fallback when running on GPU\n",
      "WARNING:tensorflow:Layer lstm_5 will not use cuDNN kernel since it doesn't meet the cuDNN kernel criteria. It will use generic GPU kernel as fallback when running on GPU\n",
      "WARNING:tensorflow:Layer lstm_5 will not use cuDNN kernel since it doesn't meet the cuDNN kernel criteria. It will use generic GPU kernel as fallback when running on GPU\n",
      "Model: \"model_5\"\n",
      "_________________________________________________________________\n",
      "Layer (type)                 Output Shape              Param #   \n",
      "=================================================================\n",
      "input_9 (InputLayer)         [(None, 256)]             0         \n",
      "_________________________________________________________________\n",
      "embedding_5 (Embedding)      (None, 256, 200)          4971000   \n",
      "_________________________________________________________________\n",
      "dropout_5 (Dropout)          (None, 256, 200)          0         \n",
      "_________________________________________________________________\n",
      "bidirectional_5 (Bidirection (None, 256, 400)          641600    \n",
      "_________________________________________________________________\n",
      "time_distributed_5 (TimeDist (None, 256, 3)            1203      \n",
      "=================================================================\n",
      "Total params: 5,613,803\n",
      "Trainable params: 5,613,803\n",
      "Non-trainable params: 0\n",
      "_________________________________________________________________\n",
      "None\n",
      "Epoch 1/15\n",
      "179/179 [==============================] - 371s 2s/step - loss: 0.0312 - accuracy: 0.9387 - precision: 0.9011 - recall: 0.9251 - auc: 0.9673 - val_loss: 0.0214 - val_accuracy: 0.9591 - val_precision: 0.9386 - val_recall: 0.9386 - val_auc: 0.9817\n",
      "Epoch 2/15\n",
      "179/179 [==============================] - 362s 2s/step - loss: 0.0231 - accuracy: 0.9568 - precision: 0.9351 - recall: 0.9353 - auc: 0.9808 - val_loss: 0.0213 - val_accuracy: 0.9597 - val_precision: 0.9396 - val_recall: 0.9394 - val_auc: 0.9823\n",
      "Epoch 3/15\n",
      "179/179 [==============================] - 364s 2s/step - loss: 0.0203 - accuracy: 0.9615 - precision: 0.9422 - recall: 0.9423 - auc: 0.9845 - val_loss: 0.0200 - val_accuracy: 0.9610 - val_precision: 0.9416 - val_recall: 0.9415 - val_auc: 0.9835\n",
      "Epoch 4/15\n",
      "179/179 [==============================] - 364s 2s/step - loss: 0.0194 - accuracy: 0.9610 - precision: 0.9414 - recall: 0.9416 - auc: 0.9868 - val_loss: 0.0207 - val_accuracy: 0.9600 - val_precision: 0.9399 - val_recall: 0.9402 - val_auc: 0.9829\n",
      "Epoch 5/15\n",
      "179/179 [==============================] - 359s 2s/step - loss: 0.0165 - accuracy: 0.9638 - precision: 0.9455 - recall: 0.9459 - auc: 0.9918 - val_loss: 0.0233 - val_accuracy: 0.9577 - val_precision: 0.9362 - val_recall: 0.9371 - val_auc: 0.9793\n",
      "Epoch 6/15\n",
      "179/179 [==============================] - 359s 2s/step - loss: 0.0109 - accuracy: 0.9753 - precision: 0.9628 - recall: 0.9630 - auc: 0.9965 - val_loss: 0.0255 - val_accuracy: 0.9550 - val_precision: 0.9323 - val_recall: 0.9327 - val_auc: 0.9776\n",
      "Restoring model weights from the end of the best epoch.\n",
      "Epoch 00006: early stopping\n"
     ]
    },
    {
     "data": {
      "text/html": [
       "<div>\n",
       "<style scoped>\n",
       "    .dataframe tbody tr th:only-of-type {\n",
       "        vertical-align: middle;\n",
       "    }\n",
       "\n",
       "    .dataframe tbody tr th {\n",
       "        vertical-align: top;\n",
       "    }\n",
       "\n",
       "    .dataframe thead th {\n",
       "        text-align: right;\n",
       "    }\n",
       "</style>\n",
       "<table border=\"1\" class=\"dataframe\">\n",
       "  <thead>\n",
       "    <tr style=\"text-align: right;\">\n",
       "      <th></th>\n",
       "      <th>loss</th>\n",
       "      <th>accuracy</th>\n",
       "      <th>precision</th>\n",
       "      <th>recall</th>\n",
       "      <th>auc</th>\n",
       "      <th>val_loss</th>\n",
       "      <th>val_accuracy</th>\n",
       "      <th>val_precision</th>\n",
       "      <th>val_recall</th>\n",
       "      <th>val_auc</th>\n",
       "    </tr>\n",
       "  </thead>\n",
       "  <tbody>\n",
       "    <tr>\n",
       "      <th>0</th>\n",
       "      <td>0.025630</td>\n",
       "      <td>0.951699</td>\n",
       "      <td>0.925000</td>\n",
       "      <td>0.930549</td>\n",
       "      <td>0.976484</td>\n",
       "      <td>0.021359</td>\n",
       "      <td>0.959076</td>\n",
       "      <td>0.938632</td>\n",
       "      <td>0.938594</td>\n",
       "      <td>0.981747</td>\n",
       "    </tr>\n",
       "    <tr>\n",
       "      <th>1</th>\n",
       "      <td>0.022528</td>\n",
       "      <td>0.957974</td>\n",
       "      <td>0.936930</td>\n",
       "      <td>0.936999</td>\n",
       "      <td>0.981020</td>\n",
       "      <td>0.021266</td>\n",
       "      <td>0.959675</td>\n",
       "      <td>0.939602</td>\n",
       "      <td>0.939410</td>\n",
       "      <td>0.982263</td>\n",
       "    </tr>\n",
       "    <tr>\n",
       "      <th>2</th>\n",
       "      <td>0.021217</td>\n",
       "      <td>0.959567</td>\n",
       "      <td>0.939340</td>\n",
       "      <td>0.939364</td>\n",
       "      <td>0.983672</td>\n",
       "      <td>0.020043</td>\n",
       "      <td>0.961035</td>\n",
       "      <td>0.941606</td>\n",
       "      <td>0.941491</td>\n",
       "      <td>0.983471</td>\n",
       "    </tr>\n",
       "    <tr>\n",
       "      <th>3</th>\n",
       "      <td>0.019749</td>\n",
       "      <td>0.960955</td>\n",
       "      <td>0.941360</td>\n",
       "      <td>0.941514</td>\n",
       "      <td>0.986910</td>\n",
       "      <td>0.020671</td>\n",
       "      <td>0.960015</td>\n",
       "      <td>0.939878</td>\n",
       "      <td>0.940185</td>\n",
       "      <td>0.982937</td>\n",
       "    </tr>\n",
       "    <tr>\n",
       "      <th>4</th>\n",
       "      <td>0.015309</td>\n",
       "      <td>0.966005</td>\n",
       "      <td>0.948928</td>\n",
       "      <td>0.949095</td>\n",
       "      <td>0.993026</td>\n",
       "      <td>0.023313</td>\n",
       "      <td>0.957743</td>\n",
       "      <td>0.936206</td>\n",
       "      <td>0.937084</td>\n",
       "      <td>0.979318</td>\n",
       "    </tr>\n",
       "    <tr>\n",
       "      <th>5</th>\n",
       "      <td>0.011027</td>\n",
       "      <td>0.974662</td>\n",
       "      <td>0.961975</td>\n",
       "      <td>0.962013</td>\n",
       "      <td>0.996264</td>\n",
       "      <td>0.025487</td>\n",
       "      <td>0.955010</td>\n",
       "      <td>0.932338</td>\n",
       "      <td>0.932719</td>\n",
       "      <td>0.977571</td>\n",
       "    </tr>\n",
       "  </tbody>\n",
       "</table>\n",
       "</div>"
      ],
      "text/plain": [
       "       loss  accuracy  precision  ...  val_precision  val_recall   val_auc\n",
       "0  0.025630  0.951699   0.925000  ...       0.938632    0.938594  0.981747\n",
       "1  0.022528  0.957974   0.936930  ...       0.939602    0.939410  0.982263\n",
       "2  0.021217  0.959567   0.939340  ...       0.941606    0.941491  0.983471\n",
       "3  0.019749  0.960955   0.941360  ...       0.939878    0.940185  0.982937\n",
       "4  0.015309  0.966005   0.948928  ...       0.936206    0.937084  0.979318\n",
       "5  0.011027  0.974662   0.961975  ...       0.932338    0.932719  0.977571\n",
       "\n",
       "[6 rows x 10 columns]"
      ]
     },
     "execution_count": 38,
     "metadata": {
      "tags": []
     },
     "output_type": "execute_result"
    }
   ],
   "source": [
    "rnn_256 = RNNSL(max_epochs=15, embeddings=embeddings ,maxlen=256, patience=3)\n",
    "rnn_256.fit(train.tokenized_text, y_train)"
   ]
  },
  {
   "cell_type": "markdown",
   "metadata": {
    "id": "6Uj2okn2xpc9"
   },
   "source": [
    "Tune its threshold"
   ]
  },
  {
   "cell_type": "code",
   "execution_count": null,
   "metadata": {
    "colab": {
     "base_uri": "https://localhost:8080/"
    },
    "id": "4uL8zNhAxsd_",
    "outputId": "b500ab6b-9bbb-4419-ce1c-bb85fdb0d513"
   },
   "outputs": [
    {
     "name": "stderr",
     "output_type": "stream",
     "text": [
      "\r",
      "  0%|          | 0/40 [00:00<?, ?it/s]"
     ]
    },
    {
     "name": "stdout",
     "output_type": "stream",
     "text": [
      "0.5525495398168636\n"
     ]
    },
    {
     "name": "stderr",
     "output_type": "stream",
     "text": [
      "100%|██████████| 40/40 [06:03<00:00,  9.10s/it]\n"
     ]
    }
   ],
   "source": [
    "tune_rnn_threshold(validation, rnn_256)"
   ]
  },
  {
   "cell_type": "markdown",
   "metadata": {
    "id": "7dHeV92WyO1w"
   },
   "source": [
    "Then calculate the f1 score"
   ]
  },
  {
   "cell_type": "code",
   "execution_count": null,
   "metadata": {
    "colab": {
     "base_uri": "https://localhost:8080/"
    },
    "id": "RRkY0SRlySyo",
    "outputId": "30076010-70f4-43ca-d22a-e0b70e94fea2"
   },
   "outputs": [
    {
     "data": {
      "text/plain": [
       "0.6014107307948245"
      ]
     },
     "execution_count": 46,
     "metadata": {
      "tags": []
     },
     "output_type": "execute_result"
    }
   ],
   "source": [
    "rnn_256_predicted_spans = predict_spans(trial, rnn_256, rnn_256.threshold)\n",
    "result_rnn_256 = pd.DataFrame({'gold':trial.spans, 'predicted':rnn_256_predicted_spans})\n",
    "result_rnn_256[\"f1_scores\"] = result_rnn_256.apply(lambda row: f1(row.predicted, row.gold), axis=1)\n",
    "result_rnn_256.f1_scores.mean()"
   ]
  },
  {
   "cell_type": "markdown",
   "metadata": {
    "id": "ELOo0j1m-HHD"
   },
   "source": [
    "No we can compare the results of our RNN models"
   ]
  },
  {
   "cell_type": "code",
   "execution_count": null,
   "metadata": {
    "colab": {
     "base_uri": "https://localhost:8080/",
     "height": 639
    },
    "id": "3jv9Xm0h9KMy",
    "outputId": "27e987f2-aa0c-4ee5-a4f0-611859485c5c"
   },
   "outputs": [
    {
     "name": "stderr",
     "output_type": "stream",
     "text": [
      "/usr/local/lib/python3.6/dist-packages/seaborn/distributions.py:2557: FutureWarning: `distplot` is a deprecated function and will be removed in a future version. Please adapt your code to use either `displot` (a figure-level function with similar flexibility) or `kdeplot` (an axes-level function for kernel density plots).\n",
      "  warnings.warn(msg, FutureWarning)\n",
      "/usr/local/lib/python3.6/dist-packages/seaborn/distributions.py:2557: FutureWarning: `distplot` is a deprecated function and will be removed in a future version. Please adapt your code to use either `displot` (a figure-level function with similar flexibility) or `kdeplot` (an axes-level function for kernel density plots).\n",
      "  warnings.warn(msg, FutureWarning)\n",
      "/usr/local/lib/python3.6/dist-packages/seaborn/distributions.py:2557: FutureWarning: `distplot` is a deprecated function and will be removed in a future version. Please adapt your code to use either `displot` (a figure-level function with similar flexibility) or `kdeplot` (an axes-level function for kernel density plots).\n",
      "  warnings.warn(msg, FutureWarning)\n",
      "/usr/local/lib/python3.6/dist-packages/seaborn/distributions.py:2557: FutureWarning: `distplot` is a deprecated function and will be removed in a future version. Please adapt your code to use either `displot` (a figure-level function with similar flexibility) or `kdeplot` (an axes-level function for kernel density plots).\n",
      "  warnings.warn(msg, FutureWarning)\n"
     ]
    },
    {
     "data": {
      "image/png": "[encoded data removed]",
      "text/plain": [
       "<Figure size 720x432 with 1 Axes>"
      ]
     },
     "metadata": {
      "tags": []
     },
     "output_type": "display_data"
    },
    {
     "name": "stdout",
     "output_type": "stream",
     "text": [
      "Max Len 80/Pretrained Embeddings: 0.53020\n",
      "Max Len 128/No Embeddings: 0.57283\n",
      "Max Len 128/Pretrained Embeddings: 0.58035\n",
      "Max Len 256/Pretrained Embeddings: 0.60141\n"
     ]
    }
   ],
   "source": [
    "from matplotlib import pyplot as plt\n",
    "fig, axs = plt.subplots(figsize=(10,6))\n",
    "sns.distplot(result_rnn_80.f1_scores, label='Max Len 80/Pretrained Embeddings', hist=False)\n",
    "sns.distplot(result_rnn_no_emb_128.f1_scores, label='Max Len 128/No Embeddings', hist=False)\n",
    "sns.distplot(result_rnn_128.f1_scores, label='Max Len 128/Pretrained Embeddings', hist=False)\n",
    "sns.distplot(result_rnn_256.f1_scores, label='Max Len 256/Pretrained Embeddings', hist=False)\n",
    "axs.title.set_text('Score Distribution on Trial Set')\n",
    "plt.legend()\n",
    "plt.show()\n",
    "\n",
    "print('Max Len 80/Pretrained Embeddings:', '%.5f' % result_rnn_80.f1_scores.mean())\n",
    "print('Max Len 128/No Embeddings:', '%.5f' % result_rnn_no_emb_128.f1_scores.mean())\n",
    "print('Max Len 128/Pretrained Embeddings:', '%.5f' % result_rnn_128.f1_scores.mean())\n",
    "print('Max Len 256/Pretrained Embeddings:', '%.5f' % result_rnn_256.f1_scores.mean())"
   ]
  },
  {
   "cell_type": "markdown",
   "metadata": {
    "id": "o6TVpgaV_KMj"
   },
   "source": [
    "From the four models that we ran we observed that the model with the highest generalization power is the one with `max len = 256` which uses pretrained embeddings. Comparing the models with `max len = 128` with and without embeddings, we can observe a small uplift when using embeddings."
   ]
  },
  {
   "cell_type": "markdown",
   "metadata": {
    "id": "SAK9aSnO8__H"
   },
   "source": [
    "## 4.3 Spacy\n",
    "For spacy we will use the Command Line Interface as described [here](https://spacy.io/api/cli), since it allows us for further tuning our models. First we need to proceed to some more preprocessing, namely extracting span entities and attaching the label `TOXIC`."
   ]
  },
  {
   "cell_type": "code",
   "execution_count": null,
   "metadata": {
    "id": "OIapUcim9GlD"
   },
   "outputs": [],
   "source": [
    "import spacy\n",
    "from spacy.gold import docs_to_json\n",
    "import srsly"
   ]
  },
  {
   "cell_type": "markdown",
   "metadata": {
    "id": "A_oSGolRDb-g"
   },
   "source": [
    "First we will need to download the `en_core_web_lg` model since we will pretrain our embeddings based on it\n",
    "\n"
   ]
  },
  {
   "cell_type": "code",
   "execution_count": null,
   "metadata": {
    "id": "lhrvz0WP8pJD"
   },
   "outputs": [],
   "source": [
    "!python -m spacy download en_core_web_lg\n",
    "#you might need to restart the colab runtime after installing this"
   ]
  },
  {
   "cell_type": "code",
   "execution_count": null,
   "metadata": {
    "id": "bYVvsHAnFX5h"
   },
   "outputs": [],
   "source": [
    "nlp = spacy.load('en_core_web_lg')"
   ]
  },
  {
   "cell_type": "markdown",
   "metadata": {
    "id": "kqMsB8YnDmlP"
   },
   "source": [
    "Since we will work with the CLI interface of Spacy, we will need to transform our data to a specific json format. The following 3 functions take care of the preprocessing."
   ]
  },
  {
   "cell_type": "code",
   "execution_count": null,
   "metadata": {
    "id": "xZ_DqlNQ9Unl"
   },
   "outputs": [],
   "source": [
    "def spacy_json_format_pretraining(data, filename):\n",
    "    '''\n",
    "    transforms given texts to the desirable jsonl format, \n",
    "    applicable for pretraining embeddings.\n",
    "\n",
    "    Parameters:\n",
    "        data (pandas dataframe): a pandas dataframe with a column containing the texts\n",
    "        filename (str): the name of the jsonl file provided as an output\n",
    "    '''\n",
    "    DATA = []\n",
    "    for _, row in enumerate(data):\n",
    "        DATA.append({'text':row})\n",
    "    srsly.write_jsonl(filename + \".jsonl\", DATA)\n",
    "\n",
    "def spacy_json_format(data, filename):\n",
    "    '''\n",
    "    transforms a corpus to a json format usable for the train command of the CLI\n",
    "\n",
    "    Parameters:\n",
    "        data (pandas dataframe): a pandas dataframe with a column containing the texts\n",
    "        filename (str): the name of the jsonl file provided as an output\n",
    "    '''\n",
    "    DATA = []\n",
    "    for _, row in data.iterrows():\n",
    "        doc = nlp(row.text)\n",
    "        ents = spans_to_ents(doc, set(row.spans))\n",
    "        DATA.append((doc.text, {'entities': ents}))\n",
    "    \n",
    "    docs = []\n",
    "    for text, annot in DATA:\n",
    "        doc = nlp(text)\n",
    "        doc.ents = [doc.char_span(start_idx, end_idx, label=label) for start_idx, end_idx, label in annot[\"entities\"]]\n",
    "        docs.append(doc)\n",
    "\n",
    "    srsly.write_json(filename + \".json\", [docs_to_json(docs)])\n",
    "\n",
    "def spans_to_ents(doc, toxic_spans):\n",
    "    '''\n",
    "    Converts continous spans to entity spans \n",
    "    and assigns the toxic label [1,2,3,7,8,9] -> [(1,3,TOXIC),(7,9,TOXIC)]\n",
    "    '''\n",
    "    started = False\n",
    "    left, right, ents = 0, 0, []\n",
    "    for token in doc:\n",
    "        if token.pos_ == 'SPACE': continue\n",
    "        # if the token is in the spans return just the starting-ending offsets\n",
    "        if toxic_spans.intersection(set(range(token.idx, token.idx + len(token.text)))):\n",
    "            if not started:        \n",
    "                left, started = token.idx, True\n",
    "            right = token.idx + len(token.text)\n",
    "        # this is activated when \"started\" is True and we moved on a non-toxic word,\n",
    "        # so, just return the saved left/right offsets.\n",
    "        elif started:\n",
    "            ents.append((left, right, 'TOXIC'))\n",
    "            started = False\n",
    "    if started: \n",
    "        ents.append((left, right, 'TOXIC'))\n",
    "    return ents"
   ]
  },
  {
   "cell_type": "code",
   "execution_count": null,
   "metadata": {
    "id": "3aThf-kU9k31"
   },
   "outputs": [],
   "source": [
    "#transform the data to json files which we will use for training and validation\n",
    "spacy_json_format(train,'ent_train_data')\n",
    "spacy_json_format(validation, 'ent_validation_data')"
   ]
  },
  {
   "cell_type": "code",
   "execution_count": null,
   "metadata": {
    "id": "n175d7xqMBtO"
   },
   "outputs": [],
   "source": [
    "#transform the entire corpus for using it for pretraining our embeddings\n",
    "all_docs = pd.concat([train.text,trial.text,validation.text])\n",
    "spacy_json_format_pretraining(all_docs, 'ent_train_data_pre')"
   ]
  },
  {
   "cell_type": "markdown",
   "metadata": {
    "id": "43-x20yQG2qZ"
   },
   "source": [
    "Now that we have our data in a specific format, we will start with pretraining our embeddings. In the command line below, we pass the texts of our corpus, the `en_core_web_lg` model as well as the folder of the output `pretrained_embeddings`. We will train our embeddings for 100 epochs, using a dropout of `0.2` and a random seed of `123`"
   ]
  },
  {
   "cell_type": "code",
   "execution_count": null,
   "metadata": {
    "colab": {
     "base_uri": "https://localhost:8080/"
    },
    "id": "UK79zfpDEEHw",
    "outputId": "a980fb39-6f04-405a-fe05-acd2441babca"
   },
   "outputs": [
    {
     "name": "stdout",
     "output_type": "stream",
     "text": [
      "\u001b[38;5;4mℹ Not using GPU\u001b[0m\n",
      "\u001b[38;5;2m✔ Created output directory: pretrained_embeddings\u001b[0m\n",
      "\u001b[38;5;2m✔ Saved settings to config.json\u001b[0m\n",
      "\u001b[2K\u001b[38;5;2m✔ Loaded input texts\u001b[0m\n",
      "\u001b[2K\u001b[38;5;2m✔ Loaded model 'en_core_web_lg'\u001b[0m\n",
      "\u001b[1m\n",
      "============== Pre-training tok2vec layer - starting at epoch 0 ==============\u001b[0m\n",
      "  #      # Words   Total Loss     Loss    w/s\n",
      "  0       131178   130282.266   130282   6115\n",
      "  0       260243   255333.023   125050   7366\n",
      "  0       374589   361831.742   106498   7312\n",
      "  1       506449   479384.836   117553   7454\n",
      "  1       635429   585181.961   105797   7638\n",
      "  1       749178   671046.008    85864   7608\n",
      "  2       877531   759876.602    88830   7439\n",
      "  2      1010383   843163.039    83286   7801\n",
      "  2      1123767   909655.445    66492   7482\n",
      "  3      1252544   981397.477    71742   7426\n",
      "  3      1386274   1052810.99    71413   7449\n",
      "  3      1498356   1111002.08    58191   7057\n",
      "  4      1626320   1175769.77    64767   7292\n",
      "  4      1755366   1239992.89    64223   7424\n",
      "  4      1872945   1298035.88    58042   7417\n",
      "  5      2002865   1361458.34    63422   7455\n",
      "  5      2135395   1425661.46    64203   7553\n",
      "  5      2247534   1479480.43    53818   7290\n",
      "  6      2378721   1542174.46    62694   7499\n",
      "  6      2508183   1603541.97    61367   7433\n",
      "  6      2622123   1657181.89    53639   7412\n",
      "  7      2752649   1718569.44    61387   7158\n",
      "  7      2884022   1779806.50    61237   7343\n",
      "  7      2996712   1831888.60    52082   7373\n",
      "  8      3127281   1892356.21    60467   7144\n",
      "  8      3257470   1952163.44    59807   7596\n",
      "  8      3371301   2004207.77    52044   7400\n",
      "  9      3501000   2063438.43    59230   7495\n",
      "  9      3630804   2122302.15    58863   7410\n",
      "  9      3745890   2174296.68    51994   7118\n",
      " 10      3877941   2233492.77    59196   7323\n",
      " 10      4006591   2291041.67    57548   7462\n",
      " 10      4120479   2341798.58    50756   7349\n",
      " 11      4249458   2398636.54    56837   7314\n",
      " 11      4380721   2456158.53    57521   7762\n",
      " 11      4495068   2505954.71    49796   7434\n",
      " 12      4623161   2561426.59    55471   7237\n",
      " 12      4753152   2617530.60    56104   7041\n",
      " 12      4869657   2667595.60    50065   7320\n",
      " 13      5000351   2723148.36    55552   7269\n",
      " 13      5130457   2778149.97    55001   7292\n",
      " 13      5244246   2825917.77    47767   7432\n",
      " 14      5373951   2880282.10    54364   7227\n",
      " 14      5503445   2934135.28    53853   7232\n",
      " 14      5618835   2981527.18    47391   7267\n",
      " 15      5747360   3034553.26    53026   7498\n",
      " 15      5877555   3088018.93    53465   7576\n",
      " 15      5993424   3135024.94    47006   7284\n",
      " 16      6124860   3188237.70    53212   7280\n",
      " 16      6254663   3240777.84    52540   7380\n",
      " 16      6368013   3286521.11    45743   7387\n",
      " 17      6498891   3338794.27    52273   7188\n",
      " 17      6628725   3390927.91    52133   7433\n",
      " 17      6742602   3436200.65    45272   7231\n",
      " 18      6871956   3487567.03    51366   7362\n",
      " 18      7002804   3539417.94    51850   7644\n",
      " 18      7117191   3584529.17    45111   7047\n",
      " 19      7245661   3635162.13    50632   7175\n",
      " 19      7375836   3686495.50    51333   7249\n",
      " 19      7491780   3731691.67    45196   7376\n",
      " 20      7619101   3781467.83    49776   7302\n",
      " 20      7752717   3833672.15    52204   7630\n",
      " 20      7866369   3878211.25    44539   7097\n",
      " 21      7998558   3929850.61    51639   7303\n",
      " 21      8128667   3980537.20    50686   7424\n",
      " 21      8240958   4023748.87    43211   7281\n",
      " 22      8372303   4074488.39    50739   7095\n",
      " 22      8500508   4123460.43    48972   7231\n",
      " 22      8615547   4167356.43    43895   7252\n",
      " 23      8747141   4217392.37    50035   7381\n",
      " 23      8879000   4267367.50    49975   7324\n",
      " 23      8990136   4309302.84    41935   7164\n",
      " 24      9119122   4357731.95    48429   7331\n",
      " 24      9248930   4406698.23    48966   7366\n",
      " 24      9364725   4450136.21    43437   7388\n",
      " 25      9492682   4498166.29    48030   7233\n",
      " 25      9621337   4546320.52    48154   7217\n",
      " 25      9739314   4590403.47    44082   7277\n",
      " 26      9867642   4638075.95    47672   7077\n",
      " 26      9999559   4687136.39    49060   7391\n",
      " 26     10113903   4729460.82    42324   7022\n",
      " 27     10241638   4776582.68    47121   7060\n",
      " 27     10373590   4825279.28    48696   7191\n",
      " 27     10488492   4867348.54    42069   7394\n",
      " 28     10618128   4914857.25    47508   7428\n",
      " 28     10748792   4962758.40    47901   7186\n",
      " 28     10863081   5004470.34    41711   7334\n",
      " 29     10993979   5052258.84    47788   7491\n",
      " 29     11125485   5100112.14    47853   7196\n",
      " 29     11237670   5141122.80    41010   7616\n",
      " 30     11369048   5188816.46    47693   7359\n",
      " 30     11499343   5236415.01    47598   7279\n",
      " 30     11612259   5277438.48    41023   7006\n",
      " 31     11742065   5324475.69    47037   7170\n",
      " 31     11873538   5371883.50    47407   7101\n",
      " 31     11986848   5412740.69    40857   7134\n",
      " 32     12117697   5459882.95    47142   7557\n",
      " 32     12246867   5506223.20    46340   7254\n",
      " 32     12361437   5547427.68    41204   7080\n",
      " 33     12493161   5594766.14    47338   7158\n",
      " 33     12625413   5642029.94    47263   7291\n",
      " 33     12736026   5681546.86    39516   7232\n",
      " 34     12863621   5727070.45    45523   7242\n",
      " 34     12995781   5774159.00    47088   7200\n",
      " 34     13110615   5814939.38    40780   7490\n",
      " 35     13241085   5861354.29    46414   7234\n",
      " 35     13371015   5907376.77    46022   7140\n",
      " 35     13485204   5947803.10    40426   7196\n",
      " 36     13615474   5993874.36    46071   7373\n",
      " 36     13745918   6040054.36    46180   6990\n",
      " 36     13859793   6080357.65    40303   7463\n",
      " 37     13992798   6127368.43    47010   7177\n",
      " 37     14123387   6173476.86    46108   7371\n",
      " 37     14234382   6212289.49    38812   7269\n",
      " 38     14366669   6258734.98    46445   7178\n",
      " 38     14494511   6303452.90    44717   7421\n",
      " 38     14608971   6343618.31    40165   7163\n",
      " 39     14737661   6388646.11    45027   7136\n",
      " 39     14870450   6434958.44    46312   7126\n",
      " 39     14983560   6474282.11    39323   7241\n",
      " 40     15114633   6519938.18    45656   7215\n",
      " 40     15244039   6564919.77    44981   7187\n",
      " 40     15358149   6604394.41    39474   7117\n",
      " 41     15490125   6650009.01    45614   7176\n",
      " 41     15617624   6694044.72    44035   7539\n",
      " 41     15732738   6733879.86    39835   7354\n",
      " 42     15860262   6777854.53    43974   7847\n",
      " 42     15990304   6822656.64    44802   7953\n",
      " 42     16107327   6862887.80    40231   7948\n",
      " 43     16240198   6908463.11    45575   7969\n",
      " 43     16367894   6952018.05    43554   7977\n",
      " 43     16481916   6991230.48    39212   7900\n",
      " 44     16611754   7035587.70    44357   7950\n",
      " 44     16742679   7080370.49    44782   7963\n",
      " 44     16856505   7119371.31    39000   7921\n",
      " 45     16989590   7164626.31    45254   7950\n",
      " 45     17117272   7208252.49    43626   7930\n",
      " 45     17231094   7247155.38    38902   7907\n",
      " 46     17363165   7292103.96    44948   7977\n",
      " 46     17493964   7336271.66    44167   7927\n",
      " 46     17605683   7374362.52    38090   7903\n",
      " 47     17736512   7418760.80    44398   7894\n",
      " 47     17869195   7463873.99    45113   7957\n",
      " 47     17980272   7501214.56    37340   7876\n",
      " 48     18110035   7545064.10    43849   7896\n",
      " 48     18240425   7589006.70    43942   7974\n",
      " 48     18354861   7627597.34    38590   7953\n",
      " 49     18486502   7671762.07    44164   8018\n",
      " 49     18615921   7715130.64    43368   7963\n",
      " 49     18729450   7753538.80    38408   7930\n",
      "\u001b[38;5;2m✔ Successfully finished pretrain\u001b[0m\n"
     ]
    }
   ],
   "source": [
    "!spacy pretrain ent_train_data_pre.jsonl en_core_web_lg  pretrained_embeddings -i 50 -d 0.2 -s 123"
   ]
  },
  {
   "cell_type": "markdown",
   "metadata": {
    "id": "WPNDJxVpHdqt"
   },
   "source": [
    "After pretraining our embeddings, we will start training our actual model. Through the command line below we pass the following parameters\n",
    "\n",
    "* Dropout rate starting at 0.5\n",
    "* Our training dataset with the toxic labels is `ent_train_data.json`\n",
    "* Our validation dataset  is `ent_validation_data.json`\n",
    "* We will train only a Named Entity Recognition model `ner`\n",
    "* Early stopping has beed defined to 3\n",
    "* We will run 80 iterations\n",
    "* We will use the gpu\n",
    "* We will start with pretrained vectors found in `pretrained_embeddings/model49.bin`"
   ]
  },
  {
   "cell_type": "code",
   "execution_count": null,
   "metadata": {
    "colab": {
     "base_uri": "https://localhost:8080/"
    },
    "id": "GunR_bRc_63n",
    "outputId": "1a58c57a-9527-496b-84a2-fc64d33a2dac"
   },
   "outputs": [
    {
     "name": "stdout",
     "output_type": "stream",
     "text": [
      "\u001b[38;5;2m✔ Created output directory: toxic_1\u001b[0m\n",
      "Training pipeline: ['ner']\n",
      "\u001b[38;5;3m⚠ Unable to activate GPU: 0\u001b[0m\n",
      "Using CPU only\n",
      "Starting with blank model 'en'\n",
      "Counting training words (limit=0)\n",
      "Loaded pretrained tok2vec for: ['ner']\n",
      "\n",
      "Itn  NER Loss   NER P   NER R   NER F   Token %  CPU WPS\n",
      "---  ---------  ------  ------  ------  -------  -------\n",
      "  1  22038.096  65.960  47.607  55.301  100.000    22469\n",
      "  2  20839.497  65.546  50.025  56.743  100.000    23864\n",
      "  3  19956.960  65.287  50.567  56.992  100.000    23570\n",
      "  4  19833.125  65.703  50.469  57.087  100.000    24033\n",
      "  5  18175.187  65.659  50.370  57.007  100.000    23767\n",
      "  6  17778.588  65.424  50.222  56.824  100.000    23972\n",
      "  7  17368.735  65.280  51.110  57.333  100.000    23350\n",
      "  8  16748.347  65.059  51.258  57.340  100.000    23653\n",
      "  9  16276.457  63.899  51.258  56.885  100.000    23169\n",
      " 10  15751.470  63.525  51.209  56.706  100.000    23861\n",
      "Early stopping, best iteration is: 6\n",
      "Best score = 57.90767117963725; Final iteration score = 57.1465308880646\n",
      "\u001b[38;5;2m✔ Saved model to output directory\u001b[0m\n",
      "toxic_1/model-final\n",
      "\u001b[2K\u001b[38;5;2m✔ Created best model\u001b[0m\n",
      "toxic_1/model-best\n"
     ]
    }
   ],
   "source": [
    "! dropout_from=0.5 spacy train en toxic_1 ent_train_data.json ent_validation_data.json -p 'ner' -ne 3 -n 50 -g 0 -t2v pretrained_embeddings/model49.bin"
   ]
  },
  {
   "cell_type": "markdown",
   "metadata": {
    "id": "T9dyCq8YT0nP"
   },
   "source": [
    "Having trained our model we can load it in order to perform predictions."
   ]
  },
  {
   "cell_type": "code",
   "execution_count": null,
   "metadata": {
    "id": "wiEQe2DqHZsV"
   },
   "outputs": [],
   "source": [
    "cnlp = spacy.load('toxic_1/model-best')"
   ]
  },
  {
   "cell_type": "markdown",
   "metadata": {
    "id": "5yJmUMrQWGgY"
   },
   "source": [
    "Let's see how this model performs on unseen data."
   ]
  },
  {
   "cell_type": "code",
   "execution_count": null,
   "metadata": {
    "colab": {
     "base_uri": "https://localhost:8080/"
    },
    "id": "nl7J0aNacO8K",
    "outputId": "e103837b-6063-4019-c4b6-fb30f814da9e"
   },
   "outputs": [
    {
     "name": "stdout",
     "output_type": "stream",
     "text": [
      "spacy f1 score: 0.6012088552230647\n"
     ]
    }
   ],
   "source": [
    "def get_char_spans(entities):\n",
    "    '''\n",
    "    For every span entity generate the continuous spans\n",
    "    '''\n",
    "    char_spans = []\n",
    "    for ent in entities:\n",
    "        for i in range (ent.start_char, ent.end_char):\n",
    "          char_spans.append(i)\n",
    "    return char_spans\n",
    "\n",
    "#apply our trained model on all the texts on trial\n",
    "trial['nlp_doc'] = trial.text.apply(cnlp)\n",
    "#get the entities \n",
    "trial['entities'] = trial.nlp_doc.apply(lambda x: x.ents)\n",
    "#generate the continuous toxic spans\n",
    "trial['predicted_spans'] = trial.entities.apply(get_char_spans)\n",
    "\n",
    "from toxic_spans.evaluation.semeval2021 import f1\n",
    "spacy_results = pd.DataFrame({'gold':trial.spans, 'predicted':trial.predicted_spans})\n",
    "spacy_results[\"f1_scores\"] = spacy_results.apply(lambda row: f1(row.predicted, row.gold), axis=1)\n",
    "print('spacy f1 score:', spacy_results.f1_scores.mean())"
   ]
  },
  {
   "cell_type": "markdown",
   "metadata": {
    "id": "Mm5sjCbylyhM"
   },
   "source": [
    "\n",
    "## 4.4 Spacy with Transformers\n",
    "\n",
    "According to spacy `v.3`, there are some new models which include transformers with the name entity recognition pipeline added to them. We will proceed in a quick implementation of one of these models.\n",
    "https://nightly.spacy.io/models/en#en_core_web_trf"
   ]
  },
  {
   "cell_type": "markdown",
   "metadata": {
    "id": "rsCi32y6CZZe"
   },
   "source": [
    "First we need to install the update version of spacy."
   ]
  },
  {
   "cell_type": "code",
   "execution_count": null,
   "metadata": {
    "id": "Zzuw6K7p_jOP"
   },
   "outputs": [],
   "source": [
    "! pip install spacy-nightly --pre"
   ]
  },
  {
   "cell_type": "markdown",
   "metadata": {
    "id": "BcRXlx_-CgKL"
   },
   "source": [
    "Make sure that it has been successfully updated"
   ]
  },
  {
   "cell_type": "code",
   "execution_count": null,
   "metadata": {
    "colab": {
     "base_uri": "https://localhost:8080/"
    },
    "id": "ahUTTnph-3EC",
    "outputId": "9948f5b0-c057-4daa-cbcd-29fc814e2335"
   },
   "outputs": [
    {
     "name": "stdout",
     "output_type": "stream",
     "text": [
      "2021-01-18 17:07:00.507098: I tensorflow/stream_executor/platform/default/dso_loader.cc:49] Successfully opened dynamic library libcudart.so.10.1\n",
      "\u001b[1m\n",
      "============================== Info about spaCy ==============================\u001b[0m\n",
      "\n",
      "spaCy version    3.0.0rc2                      \n",
      "Location         /usr/local/lib/python3.6/dist-packages/spacy\n",
      "Platform         Linux-4.19.112+-x86_64-with-Ubuntu-18.04-bionic\n",
      "Python version   3.6.9                         \n",
      "Pipelines                                      \n",
      "\n"
     ]
    }
   ],
   "source": [
    "!spacy info"
   ]
  },
  {
   "cell_type": "markdown",
   "metadata": {
    "id": "AID4i38ZCjxW"
   },
   "source": [
    "Then we will download the `en_core_web_sm` for the version `3.0`"
   ]
  },
  {
   "cell_type": "code",
   "execution_count": null,
   "metadata": {
    "id": "uOdOiDUc_ztQ"
   },
   "outputs": [],
   "source": [
    "! python -m spacy download en_core_web_sm"
   ]
  },
  {
   "cell_type": "code",
   "execution_count": null,
   "metadata": {
    "id": "GYJJBheLAMU8"
   },
   "outputs": [],
   "source": [
    "import spacy\n",
    "nlp = spacy.load('en_core_web_sm')"
   ]
  },
  {
   "cell_type": "code",
   "execution_count": null,
   "metadata": {
    "id": "OasbxtMF6wW9"
   },
   "outputs": [],
   "source": [
    "from spacy.tokens import DocBin\n",
    "from spacy.training import Example\n",
    "\n",
    "def spacy_format(data, filename):\n",
    "    \n",
    "    '''\n",
    "    transforms a corpus to a spacy format usable for the train command of the CLI\n",
    "\n",
    "    Parameters:\n",
    "        data (pandas dataframe): a pandas dataframe with a column containing the texts\n",
    "        filename (str): the name of the jsonl file provided as an output\n",
    "    '''\n",
    "    DATA = []\n",
    "    for _, row in data.iterrows():\n",
    "        doc = nlp(row.text)\n",
    "        ents = spans_to_ents(doc, set(row.spans))\n",
    "        DATA.append((doc.text, {'entities': ents}))\n",
    "    \n",
    "   \n",
    "    db = DocBin()\n",
    "\n",
    "    for text, annotations in DATA:\n",
    "        example = Example.from_dict(nlp.make_doc(text), annotations)\n",
    "        db.add(example.reference)\n",
    "    \n",
    "    db.to_disk(filename + \".spacy\")\n",
    "\n",
    "def spans_to_ents(doc, toxic_spans):\n",
    "    '''\n",
    "    Converts continous spans to entity spans \n",
    "    and assigns the toxic label [1,2,3,7,8,9] -> [(1,3,TOXIC),(7,9,TOXIC)]\n",
    "    '''\n",
    "    started = False\n",
    "    left, right, ents = 0, 0, []\n",
    "    for token in doc:\n",
    "        if token.pos_ == 'SPACE': continue\n",
    "        # if the token is in the spans return just the starting-ending offsets\n",
    "        if toxic_spans.intersection(set(range(token.idx, token.idx + len(token.text)))):\n",
    "            if not started:        \n",
    "                left, started = token.idx, True\n",
    "            right = token.idx + len(token.text)\n",
    "        # this is activated when \"started\" is True and we moved on a non-toxic word,\n",
    "        # so, just return the saved left/right offsets.\n",
    "        elif started:\n",
    "            ents.append((left, right, 'TOXIC'))\n",
    "            started = False\n",
    "    if started: \n",
    "        ents.append((left, right, 'TOXIC'))\n",
    "    return ents"
   ]
  },
  {
   "cell_type": "markdown",
   "metadata": {
    "id": "tZjCMSsjCsv3"
   },
   "source": [
    "The following lines of code will help us to convert our training data to an input applicable for the spacy version `3.0`"
   ]
  },
  {
   "cell_type": "code",
   "execution_count": null,
   "metadata": {
    "id": "ul4u6XWO6_0M"
   },
   "outputs": [],
   "source": [
    "spacy_format(train,'ent_train_data')\n",
    "spacy_format(validation,'ent_validation_data')"
   ]
  },
  {
   "cell_type": "markdown",
   "metadata": {
    "id": "qZw-YlZ7C-vD"
   },
   "source": [
    "Since we will be usings transformers, we will need to install them first."
   ]
  },
  {
   "cell_type": "code",
   "execution_count": null,
   "metadata": {
    "id": "B-sweT5BCIJI"
   },
   "outputs": [],
   "source": [
    "!pip install spacy-nightly[transformers] --pre"
   ]
  },
  {
   "cell_type": "markdown",
   "metadata": {
    "id": "mhA1tusXwtzg"
   },
   "source": [
    "Spacy `v3.0` has slightly changed the process of training. It is essential to include a configuration file which holds parameters relative to the process of training, like max epochs, patience etc. We have pushed such a file in our development branch of the toxic_spans repository. Then we will perform an overall debugging to see if our data and our configuration file are in the right format."
   ]
  },
  {
   "cell_type": "code",
   "execution_count": null,
   "metadata": {
    "colab": {
     "base_uri": "https://localhost:8080/"
    },
    "id": "u8-VDhNUBUhf",
    "outputId": "9918215c-32e8-4c3b-c83d-557a3d383bfa"
   },
   "outputs": [
    {
     "name": "stdout",
     "output_type": "stream",
     "text": [
      "2021-01-18 15:55:19.842144: I tensorflow/stream_executor/platform/default/dso_loader.cc:49] Successfully opened dynamic library libcudart.so.10.1\n",
      "\u001b[1m\n",
      "============================ Data file validation ============================\u001b[0m\n",
      "\u001b[38;5;2m✔ Corpus is loadable\u001b[0m\n",
      "Downloading: 100% 481/481 [00:00<00:00, 393kB/s]\n",
      "Downloading: 100% 899k/899k [00:00<00:00, 1.81MB/s]\n",
      "Downloading: 100% 456k/456k [00:00<00:00, 1.36MB/s]\n",
      "Downloading: 100% 501M/501M [00:11<00:00, 45.3MB/s]\n",
      "\u001b[38;5;2m✔ Pipeline can be initialized with data\u001b[0m\n",
      "\u001b[1m\n",
      "=============================== Training stats ===============================\u001b[0m\n",
      "Language: en\n",
      "Training pipeline: transformer, ner\n",
      "6351 training docs\n",
      "1588 evaluation docs\n",
      "\u001b[38;5;2m✔ No overlap between training and evaluation data\u001b[0m\n",
      "\u001b[1m\n",
      "============================== Vocab & Vectors ==============================\u001b[0m\n",
      "\u001b[38;5;4mℹ 274982 total word(s) in the data (274982 unique)\u001b[0m\n",
      "\u001b[38;5;4mℹ No word vectors present in the package\u001b[0m\n",
      "\u001b[1m\n",
      "========================== Named Entity Recognition ==========================\u001b[0m\n",
      "\u001b[38;5;4mℹ 0 new label(s), 1 existing label(s)\u001b[0m\n",
      "0 missing value(s) (tokens with '-' label)\n",
      "\u001b[38;5;3m⚠ 4 entity span(s) with punctuation\u001b[0m\n",
      "\u001b[38;5;2m✔ Good amount of examples for all labels\u001b[0m\n",
      "\u001b[38;5;2m✔ Examples without occurrences available for all labels\u001b[0m\n",
      "\u001b[38;5;2m✔ No entities consisting of or starting/ending with whitespace\u001b[0m\n",
      "Entity spans consisting of or starting/ending with punctuation can not be\n",
      "trained with a noise level > 0.\n",
      "\u001b[1m\n",
      "================================== Summary ==================================\u001b[0m\n",
      "\u001b[38;5;2m✔ 6 checks passed\u001b[0m\n",
      "\u001b[38;5;3m⚠ 1 warning\u001b[0m\n"
     ]
    }
   ],
   "source": [
    "!spacy debug data toxic_spans/baselines/spacy_config.cfg --paths.train ent_train_data.spacy --paths.dev ent_validation_data.spacy"
   ]
  },
  {
   "cell_type": "markdown",
   "metadata": {
    "id": "_2BfAdJlDUPM"
   },
   "source": [
    "Since we do not see any errors, we can start training."
   ]
  },
  {
   "cell_type": "code",
   "execution_count": null,
   "metadata": {
    "colab": {
     "base_uri": "https://localhost:8080/"
    },
    "id": "G37hbtkG3jEf",
    "outputId": "81b9f2f7-0907-4c12-f9a5-98b531dd7990"
   },
   "outputs": [
    {
     "name": "stdout",
     "output_type": "stream",
     "text": [
      "2021-01-18 17:28:20.538245: I tensorflow/stream_executor/platform/default/dso_loader.cc:49] Successfully opened dynamic library libcudart.so.10.1\n",
      "\u001b[38;5;4mℹ Using GPU: 0\u001b[0m\n",
      "\u001b[1m\n",
      "=========================== Initializing pipeline ===========================\u001b[0m\n",
      "Set up nlp object from config\n",
      "Pipeline: ['transformer', 'ner']\n",
      "Created vocabulary\n",
      "Finished initializing nlp object\n",
      "Initialized pipeline components: ['transformer', 'ner']\n",
      "\u001b[38;5;2m✔ Initialized pipeline\u001b[0m\n",
      "\u001b[1m\n",
      "============================= Training pipeline =============================\u001b[0m\n",
      "\u001b[38;5;4mℹ Pipeline: ['transformer', 'ner']\u001b[0m\n",
      "\u001b[38;5;4mℹ Initial learn rate: 0.0\u001b[0m\n",
      "E    #       LOSS TRANS...  LOSS NER  ENTS_F  ENTS_P  ENTS_R  SCORE \n",
      "---  ------  -------------  --------  ------  ------  ------  ------\n",
      "  0       0       12854.04    635.00    0.86    0.57    1.68    0.01\n",
      "  1     200      303585.78  44541.13   59.55   63.08   56.39    0.60\n",
      "  2     400        5729.12  16251.71   57.69   72.29   48.00    0.58\n",
      "  3     600        5126.91  14735.79   59.65   63.56   56.19    0.60\n",
      "  4     800        4709.28  13458.29   55.76   55.29   56.24    0.56\n",
      "  5    1000        4352.97  12429.11   51.58   52.36   50.81    0.52\n",
      "  6    1200        3891.26  11061.04   54.14   56.87   51.65    0.54\n",
      "  7    1400        3847.90   9886.50   49.69   51.74   47.80    0.50\n",
      "  8    1600        3187.78   8869.73   54.07   60.11   49.14    0.54\n",
      "  9    1800        2509.45   8037.59   51.35   51.49   51.21    0.51\n",
      " 10    2000        3212.91   7257.36   52.40   57.13   48.40    0.52\n",
      " 11    2200        2525.05   6638.29   54.79   58.60   51.46    0.55\n",
      "\u001b[38;5;2m✔ Saved pipeline to output directory\u001b[0m\n",
      "toxic_trans/model-last\n"
     ]
    }
   ],
   "source": [
    "!spacy train toxic_spans/baselines/spacy_config.cfg --output toxic_trans --paths.train ent_train_data.spacy --paths.dev ent_validation_data.spacy -g 0"
   ]
  },
  {
   "cell_type": "code",
   "execution_count": null,
   "metadata": {
    "id": "3BSLdvzsTL8F"
   },
   "outputs": [],
   "source": [
    "import spacy\n",
    "trans_nlp = spacy.load('toxic_trans/model-best')"
   ]
  },
  {
   "cell_type": "code",
   "execution_count": null,
   "metadata": {
    "colab": {
     "base_uri": "https://localhost:8080/"
    },
    "id": "arqbplYP_LIp",
    "outputId": "973f4df3-e44b-42e2-d9d4-e85b94917f35"
   },
   "outputs": [
    {
     "name": "stdout",
     "output_type": "stream",
     "text": [
      "spacy f1 score: 0.6452400504382623\n"
     ]
    }
   ],
   "source": [
    "def get_char_spans(entities):\n",
    "  char_spans = []\n",
    "  for ent in entities:\n",
    "    for i in range (ent.start_char, ent.end_char):\n",
    "      char_spans.append(i)\n",
    "  return char_spans\n",
    "\n",
    "trial['nlp_doc'] = trial.text.apply(trans_nlp)\n",
    "trial['entities'] = trial.nlp_doc.apply(lambda x: x.ents)\n",
    "trial['predicted_spans'] = trial.entities.apply(get_char_spans)\n",
    "\n",
    "from toxic_spans.evaluation.semeval2021 import f1\n",
    "spacy_results_trans = pd.DataFrame({'gold':trial.spans, 'predicted':trial.predicted_spans})\n",
    "spacy_results_trans[\"f1_scores\"] = spacy_results_trans.apply(lambda row: f1(row.predicted, row.gold), axis=1)\n",
    "print('spacy f1 score:', spacy_results_trans.f1_scores.mean())"
   ]
  },
  {
   "cell_type": "markdown",
   "metadata": {
    "id": "pfFiNFjzrxmX"
   },
   "source": [
    "# Overall Results\n",
    "\n",
    "Now that we have tried several approaches, we can proceed with summarizing the results. We will visualize distribution of the f1 scores for the best models of each approach, namely:\n",
    "\n",
    "* The Input Erasure with a linear least squares classifier\n",
    "* The RNN with max len 256 with pretrained_embeddings\n",
    "* The Spacy model using transformers"
   ]
  },
  {
   "cell_type": "code",
   "execution_count": null,
   "metadata": {
    "colab": {
     "base_uri": "https://localhost:8080/",
     "height": 592
    },
    "id": "BkhLp5g-r08d",
    "outputId": "3b04227f-1312-4dc6-bfef-8cc6cb899c8c"
   },
   "outputs": [
    {
     "name": "stderr",
     "output_type": "stream",
     "text": [
      "/usr/local/lib/python3.6/dist-packages/seaborn/distributions.py:2557: FutureWarning: `distplot` is a deprecated function and will be removed in a future version. Please adapt your code to use either `displot` (a figure-level function with similar flexibility) or `kdeplot` (an axes-level function for kernel density plots).\n",
      "  warnings.warn(msg, FutureWarning)\n",
      "/usr/local/lib/python3.6/dist-packages/seaborn/distributions.py:2557: FutureWarning: `distplot` is a deprecated function and will be removed in a future version. Please adapt your code to use either `displot` (a figure-level function with similar flexibility) or `kdeplot` (an axes-level function for kernel density plots).\n",
      "  warnings.warn(msg, FutureWarning)\n",
      "/usr/local/lib/python3.6/dist-packages/seaborn/distributions.py:2557: FutureWarning: `distplot` is a deprecated function and will be removed in a future version. Please adapt your code to use either `displot` (a figure-level function with similar flexibility) or `kdeplot` (an axes-level function for kernel density plots).\n",
      "  warnings.warn(msg, FutureWarning)\n"
     ]
    },
    {
     "data": {
      "image/png": "[encoded data removed]",
      "text/plain": [
       "<Figure size 720x432 with 1 Axes>"
      ]
     },
     "metadata": {
      "tags": []
     },
     "output_type": "display_data"
    },
    {
     "name": "stdout",
     "output_type": "stream",
     "text": [
      "Avg f1 Inp Erasure with LS Classifier: 0.23933\n",
      "Avg f1 RNN 256 Max Len w Embed: 0.60245\n",
      "Avg f1 Spacy with Transformer 0.62872\n"
     ]
    }
   ],
   "source": [
    "from matplotlib import pyplot as plt\n",
    "fig, axs = plt.subplots(figsize=(10,6))\n",
    "sns.distplot(spacy_results_trans.f1_scores, label='Spacy with Transformer', hist=False)\n",
    "sns.distplot(lr_results.f1_scores, label='Inp Erasure with LS Classifier', hist=False)\n",
    "sns.distplot(result_rnn_256.f1_scores, label='RNN 256 Max Len w Embed', hist=False)\n",
    "axs.title.set_text('Score Distribution on Trial Set')\n",
    "plt.legend()\n",
    "plt.show()\n",
    "\n",
    "print('Avg f1 Inp Erasure with LS Classifier:', '%.5f' % lr_results.f1_scores.mean())\n",
    "print('Avg f1 RNN 256 Max Len w Embed:', '%.5f' % result_rnn_256.f1_scores.mean())\n",
    "print('Avg f1 Spacy with Transformer', '%.5f' % spacy_results_trans.f1_scores.mean())"
   ]
  },
  {
   "cell_type": "markdown",
   "metadata": {
    "id": "7tRBCnfz_LoT"
   },
   "source": [
    "Spacy with Roberta Based transformers seems to produce the best result on the trial data. The RNN comes pretty close, although it did not manage to surpass the \"plug&run\" spacy results. Finally, the input erasure method performed really poorly compared to the most sophisticated approaches."
   ]
  },
  {
   "cell_type": "markdown",
   "metadata": {
    "id": "-qbNVjC1ThfR"
   },
   "source": [
    "# Output File"
   ]
  },
  {
   "cell_type": "code",
   "execution_count": null,
   "metadata": {
    "id": "5E9M-hT2_LVx"
   },
   "outputs": [],
   "source": [
    "test = pd.read_csv('tsd_test.csv')\n",
    "\n",
    "test['nlp_doc'] = test.text.apply(trans_nlp)\n",
    "test['entities'] = test.nlp_doc.apply(lambda x: x.ents)\n",
    "test['predicted_spans'] = test.entities.apply(get_char_spans)\n",
    "final_predictions = test.predicted_spans"
   ]
  },
  {
   "cell_type": "code",
   "execution_count": null,
   "metadata": {
    "colab": {
     "base_uri": "https://localhost:8080/"
    },
    "id": "iUwkyLWiTjWw",
    "outputId": "2f3278ff-49ea-427b-b90e-f1d289eb655a"
   },
   "outputs": [
    {
     "name": "stdout",
     "output_type": "stream",
     "text": [
      "0\t[126, 127, 128, 129, 130, 133, 134, 135, 136, 137, 138, 139, 140, 141, 142, 143, 144, 145, 146]\n",
      "1\t[54, 55, 56, 57, 58, 59, 60, 61, 62, 63, 64, 65, 66, 67, 81, 82, 83, 84, 85, 86]\n",
      "2\t[483, 484, 485, 486, 487, 488, 489, 490]\n",
      "3\t[47, 48, 49, 50, 51, 432, 433, 434, 435, 436, 437, 510, 511, 512, 513, 514, 515, 516, 517, 518, 519, 520, 521, 522, 523, 524, 525, 526, 527]\n",
      "4\t[335, 336, 337, 338, 339, 340, 341, 342, 343, 344, 345, 346, 347, 348, 349, 350, 351, 352, 353, 354, 355, 356, 357, 358, 359, 360, 361, 362, 363, 364, 365, 366, 367, 368, 369, 370, 371, 372, 373, 374, 375, 376, 377, 378, 379, 380, 381, 382, 383, 384, 385, 386, 387]\n",
      "5\t[129, 130, 131, 132, 133, 134]\n",
      "6\t[35, 36, 37, 38, 39, 40, 41, 42, 43]\n",
      "7\t[55, 56, 57, 58, 59, 60, 61, 62, 109, 110, 111, 112, 113, 114, 115, 116, 117, 118, 119, 120, 121, 122, 123, 124, 125, 126, 127, 128, 129]\n",
      "8\t[37, 38, 39, 40, 41, 134, 135, 136, 137, 204, 205, 206, 207, 208, 301, 302, 303, 304, 305, 306, 307, 308, 309, 310, 311, 312, 313, 314, 315, 316, 317, 318, 319, 321, 322, 323, 324, 325, 326]\n",
      "9\t[94, 95, 96, 97]\n"
     ]
    }
   ],
   "source": [
    "# make sure that the ids match the ones of the scores\n",
    "predictions = final_predictions\n",
    "ids = test.index.to_list()\n",
    "\n",
    "# write in a prediction file named \"spans-pred.txt\"\n",
    "with open(\"spans-pred.txt\", \"w\") as out:\n",
    "  for uid, text_scores in zip(ids, predictions):\n",
    "    out.write(f\"{str(uid)}\\t{str(text_scores)}\\n\")\n",
    "\n",
    "! head spans-pred.txt"
   ]
  },
  {
   "cell_type": "code",
   "execution_count": null,
   "metadata": {
    "colab": {
     "base_uri": "https://localhost:8080/"
    },
    "id": "qmb8z9mwTyzn",
    "outputId": "f3a37a9c-76df-407d-ee6d-c821a4cd216c"
   },
   "outputs": [
    {
     "name": "stdout",
     "output_type": "stream",
     "text": [
      "updating: spans-pred.txt (deflated 86%)\n"
     ]
    }
   ],
   "source": [
    "! zip -r spred.zip ./spans-pred.*"
   ]
  },
  {
   "cell_type": "code",
   "execution_count": null,
   "metadata": {
    "colab": {
     "base_uri": "https://localhost:8080/"
    },
    "id": "EVIN7U2RT2wa",
    "outputId": "911c5797-edd2-49e0-e5ec-15b07fad7d83"
   },
   "outputs": [
    {
     "name": "stdout",
     "output_type": "stream",
     "text": [
      "Archive:  spred.zip\n",
      "  inflating: spans-pred.txt          \n"
     ]
    }
   ],
   "source": [
    "! rm spans-pred.txt\n",
    "! unzip spred.zip"
   ]
  },
  {
   "cell_type": "code",
   "execution_count": null,
   "metadata": {
    "colab": {
     "base_uri": "https://localhost:8080/",
     "height": 17
    },
    "id": "RmeSqnGCT9_m",
    "outputId": "39fc3821-1af0-458d-8d99-353abf66c8ad"
   },
   "outputs": [
    {
     "data": {
      "application/javascript": [
       "\n",
       "    async function download(id, filename, size) {\n",
       "      if (!google.colab.kernel.accessAllowed) {\n",
       "        return;\n",
       "      }\n",
       "      const div = document.createElement('div');\n",
       "      const label = document.createElement('label');\n",
       "      label.textContent = `Downloading \"${filename}\": `;\n",
       "      div.appendChild(label);\n",
       "      const progress = document.createElement('progress');\n",
       "      progress.max = size;\n",
       "      div.appendChild(progress);\n",
       "      document.body.appendChild(div);\n",
       "\n",
       "      const buffers = [];\n",
       "      let downloaded = 0;\n",
       "\n",
       "      const channel = await google.colab.kernel.comms.open(id);\n",
       "      // Send a message to notify the kernel that we're ready.\n",
       "      channel.send({})\n",
       "\n",
       "      for await (const message of channel.messages) {\n",
       "        // Send a message to notify the kernel that we're ready.\n",
       "        channel.send({})\n",
       "        if (message.buffers) {\n",
       "          for (const buffer of message.buffers) {\n",
       "            buffers.push(buffer);\n",
       "            downloaded += buffer.byteLength;\n",
       "            progress.value = downloaded;\n",
       "          }\n",
       "        }\n",
       "      }\n",
       "      const blob = new Blob(buffers, {type: 'application/binary'});\n",
       "      const a = document.createElement('a');\n",
       "      a.href = window.URL.createObjectURL(blob);\n",
       "      a.download = filename;\n",
       "      div.appendChild(a);\n",
       "      a.click();\n",
       "      div.remove();\n",
       "    }\n",
       "  "
      ],
      "text/plain": [
       "<IPython.core.display.Javascript object>"
      ]
     },
     "metadata": {
      "tags": []
     },
     "output_type": "display_data"
    },
    {
     "data": {
      "application/javascript": [
       "download(\"download_190f5cce-9c92-45a5-954c-175739300414\", \"spred.zip\", 16974)"
      ],
      "text/plain": [
       "<IPython.core.display.Javascript object>"
      ]
     },
     "metadata": {
      "tags": []
     },
     "output_type": "display_data"
    }
   ],
   "source": [
    "from google.colab import files\n",
    "files.download(\"spred.zip\")"
   ]
  }
 ],
 "metadata": {
  "accelerator": "GPU",
  "colab": {
   "collapsed_sections": [
    "-qbNVjC1ThfR"
   ],
   "name": "PDS_3rd_assignment_clean.ipynb",
   "provenance": [],
   "toc_visible": true
  },
  "kernelspec": {
   "display_name": "Python 3",
   "language": "python",
   "name": "python3"
  },
  "language_info": {
   "codemirror_mode": {
    "name": "ipython",
    "version": 3
   },
   "file_extension": ".py",
   "mimetype": "text/x-python",
   "name": "python",
   "nbconvert_exporter": "python",
   "pygments_lexer": "ipython3",
   "version": "3.8.3"
  }
 },
 "nbformat": 4,
 "nbformat_minor": 1
}
